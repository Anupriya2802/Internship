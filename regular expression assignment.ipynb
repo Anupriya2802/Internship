{
 "cells": [
  {
   "cell_type": "markdown",
   "id": "4896c851",
   "metadata": {},
   "source": [
    "# ASSIGNMENT OF REGULAR EXPRESSION"
   ]
  },
  {
   "cell_type": "code",
   "execution_count": 3,
   "id": "18ca9755",
   "metadata": {},
   "outputs": [],
   "source": [
    "  import regex as re"
   ]
  },
  {
   "cell_type": "code",
   "execution_count": 4,
   "id": "596a3633",
   "metadata": {},
   "outputs": [
    {
     "name": "stdout",
     "output_type": "stream",
     "text": [
      "python.Exercise.PHP.exercise.\n"
     ]
    }
   ],
   "source": [
    "Text = \"python Exercise,PHP exercise.\"\n",
    "print(re.sub(\"[, .]\",\".\",Text))           QUESTION NUMBER - 1"
   ]
  },
  {
   "cell_type": "code",
   "execution_count": 3,
   "id": "c8d5e024",
   "metadata": {},
   "outputs": [],
   "source": [
    "import pandas as pd                   QUESTION NUMBER -  2"
   ]
  },
  {
   "cell_type": "code",
   "execution_count": 6,
   "id": "0bedeeff",
   "metadata": {},
   "outputs": [],
   "source": [
    "data = {'SUMMARY':[\"hello,world!\",\"XXXX test\",\"123four,five:;six...\"]}\n",
    "df=pd.DataFrame(data)"
   ]
  },
  {
   "cell_type": "code",
   "execution_count": 11,
   "id": "4c9875b0",
   "metadata": {},
   "outputs": [
    {
     "name": "stdout",
     "output_type": "stream",
     "text": [
      "0     helloworld\n",
      "1      XXXX test\n",
      "2    fourfivesix\n",
      "Name: SUMMARY, dtype: object\n"
     ]
    }
   ],
   "source": [
    "df = df['SUMMARY'].str.replace('[^a-zA-Z\\s]','', regex=True)      QUESTION NUMBER  - 3\n",
    "print(df)"
   ]
  },
  {
   "cell_type": "code",
   "execution_count": 13,
   "id": "c6c8170a",
   "metadata": {},
   "outputs": [],
   "source": [
    "import regex as re       QUESTION NUMBER - 3      \n"
   ]
  },
  {
   "cell_type": "code",
   "execution_count": 16,
   "id": "70bb6ce6",
   "metadata": {},
   "outputs": [
    {
     "name": "stdout",
     "output_type": "stream",
     "text": [
      "['also']\n"
     ]
    }
   ],
   "source": [
    "Text = \"Apj abdul kalam was an aerospace scientist also known as the miisileman of india\"\n",
    "pattern = re.compile(r'\\b\\w{4}\\b')\n",
    "matches = re.findall(pattern,Text)\n",
    "print(matches)"
   ]
  },
  {
   "cell_type": "code",
   "execution_count": 18,
   "id": "923693a7",
   "metadata": {},
   "outputs": [],
   "source": [
    "import regex as re    QUESTION NO-4    "
   ]
  },
  {
   "cell_type": "code",
   "execution_count": 19,
   "id": "38d21d0b",
   "metadata": {},
   "outputs": [
    {
     "name": "stdout",
     "output_type": "stream",
     "text": [
      "['APJ', 'abdul', 'kalam', 'was', 'also', 'known', 'the', 'india']\n"
     ]
    }
   ],
   "source": [
    "Text =\"APJ abdul kalam was an aerospace scientist also known as the missileman of india\"\n",
    "pattern = re.compile(r'\\b\\w{3,5}\\b')\n",
    "matches = re.findall(pattern,Text)\n",
    "print(matches)"
   ]
  },
  {
   "cell_type": "code",
   "execution_count": 41,
   "id": "1984e0a5",
   "metadata": {},
   "outputs": [],
   "source": [
    "import regex as re            QUESTION NUMBER = 5"
   ]
  },
  {
   "cell_type": "code",
   "execution_count": 20,
   "id": "8382eee3",
   "metadata": {},
   "outputs": [
    {
     "ename": "SyntaxError",
     "evalue": "'(' was never closed (3513812812.py, line 3)",
     "output_type": "error",
     "traceback": [
      "\u001b[1;36m  Cell \u001b[1;32mIn[20], line 3\u001b[1;36m\u001b[0m\n\u001b[1;33m    Pattern = re.compile(r\"?\\([^])+\\)\"\u001b[0m\n\u001b[1;37m                        ^\u001b[0m\n\u001b[1;31mSyntaxError\u001b[0m\u001b[1;31m:\u001b[0m '(' was never closed\n"
     ]
    }
   ],
   "source": [
    "items = [\"example(.com)\",\"hr@fliprobo(.com)\",\"github(.com)\",\"Hello(Data science world)\",\"Data(scientist)\"]\n",
    "for item in items:\n",
    "    Pattern = re.compile(r\"?\\([^])+\\)\"\n",
    "        print( re.sub(pattern,\" \",item))\n",
    "                                    \n",
    " "
   ]
  },
  {
   "cell_type": "code",
   "execution_count": 18,
   "id": "f23f64cf",
   "metadata": {},
   "outputs": [],
   "source": [
    "import regex as re"
   ]
  },
  {
   "cell_type": "code",
   "execution_count": null,
   "id": "ddb3547e",
   "metadata": {},
   "outputs": [],
   "source": [
    "sample text = "
   ]
  },
  {
   "cell_type": "code",
   "execution_count": 44,
   "id": "ebece6c9",
   "metadata": {},
   "outputs": [],
   "source": [
    "import regex as re      QUESTION NO-7"
   ]
  },
  {
   "cell_type": "code",
   "execution_count": 45,
   "id": "ddafaadc",
   "metadata": {},
   "outputs": [
    {
     "name": "stdout",
     "output_type": "stream",
     "text": [
      "['Importance', 'Of', 'Regular', 'Expression', 'Python']\n"
     ]
    }
   ],
   "source": [
    "Text = \"ImportanceOfRegularExpressionPython\"\n",
    "matches = re.findall(\"[A-Z][^A-Z]*\" , Text)\n",
    "print(matches)"
   ]
  },
  {
   "cell_type": "code",
   "execution_count": 87,
   "id": "a50c1957",
   "metadata": {},
   "outputs": [],
   "source": [
    "import regex as re   QUESTION NO-8\n"
   ]
  },
  {
   "cell_type": "code",
   "execution_count": 88,
   "id": "426d03fb",
   "metadata": {},
   "outputs": [],
   "source": [
    "def insert_space(text):\n",
    "    pattern = r'(d+)([A-Za-z]+)'                   question no-8\n",
    "    result = re.sub(pattern,r'\\1\\2',text)\n",
    "    return result"
   ]
  },
  {
   "cell_type": "code",
   "execution_count": 89,
   "id": "f68a5348",
   "metadata": {},
   "outputs": [
    {
     "name": "stdout",
     "output_type": "stream",
     "text": [
      "RegularExpression1IsAn2ImportantTopic3InPython\n"
     ]
    }
   ],
   "source": [
    "text = \"RegularExpression1IsAn2ImportantTopic3InPython\"\n",
    "output = insert_spaces(text)\n",
    "print(output)"
   ]
  },
  {
   "cell_type": "code",
   "execution_count": 76,
   "id": "1f4695cf",
   "metadata": {},
   "outputs": [],
   "source": [
    "import regex as re      QUESTION NUMBER =  9"
   ]
  },
  {
   "cell_type": "code",
   "execution_count": 67,
   "id": "5cbedf9b",
   "metadata": {},
   "outputs": [
    {
     "name": "stdout",
     "output_type": "stream",
     "text": [
      "Regular Expression Is An Important Topic Inpython\n"
     ]
    }
   ],
   "source": [
    "string=\"RegularExpression1IsAn2ImportantTopic3Inpython\"      \n",
    "words = re.findall(\"[A-Z][a-z]*\",string)\n",
    "print(' ' .join(words))"
   ]
  },
  {
   "cell_type": "code",
   "execution_count": 92,
   "id": "388c4662",
   "metadata": {},
   "outputs": [],
   "source": [
    "import regex as re    question no -11"
   ]
  },
  {
   "cell_type": "code",
   "execution_count": null,
   "id": "11450b23",
   "metadata": {},
   "outputs": [],
   "source": [
    "string = (\"enter a string\")\n",
    "X = re.search(\"[^0-9a-Za-z_]+\",text)\n",
    "if x:\n",
    "    print(\"found a match\")\n",
    "else:\n",
    "    print(\"not matched\")"
   ]
  },
  {
   "cell_type": "code",
   "execution_count": null,
   "id": "3a1ac51b",
   "metadata": {},
   "outputs": [],
   "source": [
    "import regex as re\n",
    "my_string = input(\"enter a string\")\n",
    "my_number = input(\"enter a number\")\n",
    "m = re.match(my_number,my_string)\n",
    "if m:                                      QUESTION NO =12\n",
    "    print(\"its match\")            \n",
    "else:\n",
    "    (\"no match found\")"
   ]
  },
  {
   "cell_type": "code",
   "execution_count": null,
   "id": "2a5e1148",
   "metadata": {},
   "outputs": [],
   "source": [
    "import regex as re\n",
    "my_IP = input(\"enter a string\")\n",
    "my_clean IP =re.sub('\\.0*,'.',my_Ip)    question no 13\n",
    "print(my_clean Ip)                    "
   ]
  },
  {
   "cell_type": "code",
   "execution_count": 38,
   "id": "2ae8eb19",
   "metadata": {},
   "outputs": [],
   "source": [
    "import regex as re                QUESTION NUMBER 14"
   ]
  },
  {
   "cell_type": "code",
   "execution_count": 41,
   "id": "f8e40b5f",
   "metadata": {},
   "outputs": [
    {
     "name": "stdout",
     "output_type": "stream",
     "text": [
      "<regex.Match object; span=(4, 20), match='august 15th 1947'>\n"
     ]
    }
   ],
   "source": [
    "text = \" On august 15th 1947  that India was declared independent from British colonialism,and the reins of control were handed over to the leaders of the country\"\n",
    "pattern = \"([a-zA-Z]+) (\\d+[a-z]+) (\\d+)\"\n",
    "matches = re.search(pattern,text)\n",
    "print(matches)                            "
   ]
  },
  {
   "cell_type": "code",
   "execution_count": 101,
   "id": "4ffe5342",
   "metadata": {},
   "outputs": [
    {
     "name": "stdout",
     "output_type": "stream",
     "text": [
      "no match\n"
     ]
    }
   ],
   "source": [
    "string=\"The quick brown fox jumps over the lazy dog\"\n",
    "m=re.search(\"\\dog\\fox\\horse\",string)\n",
    "if m:\n",
    "    print(\"its match\")               question no-15\n",
    "else:\n",
    "    print(\"no match\")"
   ]
  },
  {
   "cell_type": "code",
   "execution_count": 102,
   "id": "11a4acf7",
   "metadata": {},
   "outputs": [
    {
     "name": "stdout",
     "output_type": "stream",
     "text": [
      "its match\n"
     ]
    }
   ],
   "source": [
    "string=\" The quick brown fox jumps over the lazy dog\"\n",
    "m=re.search(\"fox\",string)\n",
    "if m:\n",
    "    print(\"its match\")              question no - 16\n",
    "else:\n",
    "    print(\"no match\")"
   ]
  },
  {
   "cell_type": "code",
   "execution_count": 103,
   "id": "893b4129",
   "metadata": {},
   "outputs": [],
   "source": [
    "import regex as re"
   ]
  },
  {
   "cell_type": "code",
   "execution_count": 107,
   "id": "a511de14",
   "metadata": {},
   "outputs": [
    {
     "name": "stdout",
     "output_type": "stream",
     "text": [
      "it\\s a match 3\n"
     ]
    }
   ],
   "source": [
    "string=\"python exercises,PHP exercises,c# exercises\"\n",
    "pattern=\"exercises\"\n",
    "x = re.findall(pattern,string)\n",
    "if x:\n",
    "    print(\"it\\s a match\",len(x))           question no-17\n",
    "else:\n",
    "    print(\"no match found\")"
   ]
  },
  {
   "cell_type": "code",
   "execution_count": 1,
   "id": "954372ed",
   "metadata": {},
   "outputs": [],
   "source": [
    "import regex as re         QUESTION NO = 18"
   ]
  },
  {
   "cell_type": "code",
   "execution_count": 2,
   "id": "58f19a4f",
   "metadata": {},
   "outputs": [
    {
     "name": "stdout",
     "output_type": "stream",
     "text": [
      "found \"exercise\" at 7:15\n",
      "found \"exercise\" at 20:28\n",
      "found \"exercise\" at 32:40\n"
     ]
    }
   ],
   "source": [
    "text = \"python exercise,PHP exercise,c# exercise\"\n",
    "pattern = \"exercise\"\n",
    "for match in re.finditer(pattern,text):\n",
    "    s = match.start()\n",
    "    e = match.end() \n",
    "    print('found \"%s\" at %d:%d' % (text[s:e],s,e))\n"
   ]
  },
  {
   "cell_type": "code",
   "execution_count": 108,
   "id": "0036359f",
   "metadata": {},
   "outputs": [],
   "source": [
    "import regex as re\n"
   ]
  },
  {
   "cell_type": "code",
   "execution_count": 109,
   "id": "4307fd35",
   "metadata": {},
   "outputs": [
    {
     "name": "stdout",
     "output_type": "stream",
     "text": [
      "31-03-2018\n"
     ]
    }
   ],
   "source": [
    "date = \"2018-03-31\"         question no19\n",
    "y=re.split(\"-\",date)\n",
    "new_date = \"-\".join(y[::-1])\n",
    "print(new_date)"
   ]
  },
  {
   "cell_type": "code",
   "execution_count": 110,
   "id": "35effa5d",
   "metadata": {},
   "outputs": [],
   "source": [
    "import regex as re"
   ]
  },
  {
   "cell_type": "code",
   "execution_count": 112,
   "id": "ccedead9",
   "metadata": {},
   "outputs": [
    {
     "name": "stdout",
     "output_type": "stream",
     "text": [
      "['01.12', '0132.12', '2.31', '145.8', '3.01', '27.25', '0.25']\n"
     ]
    }
   ],
   "source": [
    "text= \"01.12 0132.123 2.31875 145.8 3.01 27.25 0.25\"\n",
    "pattern = re.compile(r'\\d+\\.\\d{1,2}')\n",
    "x=re.findall(pattern,text)           question no -20\n",
    "print(x)"
   ]
  },
  {
   "cell_type": "code",
   "execution_count": 3,
   "id": "05afe226",
   "metadata": {},
   "outputs": [],
   "source": [
    "import regex as re          "
   ]
  },
  {
   "cell_type": "code",
   "execution_count": 11,
   "id": "fce9cd4a",
   "metadata": {},
   "outputs": [
    {
     "name": "stdout",
     "output_type": "stream",
     "text": [
      "[]\n",
      "[]\n",
      "[]\n",
      "[]\n",
      "[]\n",
      "[]\n",
      "[]\n",
      "[]\n",
      "[]\n",
      "[]\n",
      "[]\n",
      "[]\n",
      "[]\n",
      "[]\n",
      "[]\n",
      "['5']\n",
      "['0']\n",
      "[]\n",
      "[]\n",
      "[]\n",
      "[]\n",
      "[]\n",
      "[]\n",
      "['6']\n",
      "['0']\n",
      "[]\n",
      "[]\n",
      "[]\n",
      "[]\n",
      "[]\n",
      "[]\n",
      "[]\n",
      "[]\n",
      "[]\n",
      "[]\n",
      "[]\n",
      "[]\n",
      "[]\n",
      "[]\n",
      "[]\n",
      "[]\n",
      "[]\n",
      "[]\n",
      "[]\n",
      "[]\n",
      "['1']\n",
      "['2']\n",
      "['0']\n",
      "[]\n",
      "[]\n",
      "[]\n",
      "[]\n",
      "[]\n",
      "[]\n",
      "['1']\n",
      "['5']\n",
      "['0']\n",
      "[]\n",
      "[]\n",
      "[]\n",
      "[]\n",
      "[]\n",
      "[]\n",
      "[]\n",
      "[]\n",
      "[]\n",
      "[]\n",
      "[]\n",
      "[]\n",
      "[]\n",
      "[]\n",
      "[]\n"
     ]
    }
   ],
   "source": [
    "price = \"Apple costs RS 50 ,'RS 60 for each pineapple 120','RS 150 per watermelon\"\n",
    "for msg in price:\n",
    "    matches = re.findall(\"\\d+\",msg)\n",
    "    print(matches)"
   ]
  },
  {
   "cell_type": "code",
   "execution_count": 43,
   "id": "836c50e6",
   "metadata": {},
   "outputs": [],
   "source": [
    "import regex as re        QUESTION NUMBER = 22"
   ]
  },
  {
   "cell_type": "code",
   "execution_count": 49,
   "id": "f4edc4e7",
   "metadata": {},
   "outputs": [
    {
     "name": "stdout",
     "output_type": "stream",
     "text": [
      "950\n"
     ]
    }
   ],
   "source": [
    "\n",
    "input_string = \"My marks in each semester are: 947,896,926,524,734,950,642\"\n",
    "numeric_values = re.findall(r'\\d+',input_string)\n",
    "numeric_values=[int(value) for value in numeric_values] \n",
    "max_value = max(numeric_values)                         \n",
    "print(max_value)                   "
   ]
  },
  {
   "cell_type": "code",
   "execution_count": 115,
   "id": "f59e38d0",
   "metadata": {},
   "outputs": [],
   "source": [
    "import regex as re"
   ]
  },
  {
   "cell_type": "code",
   "execution_count": 64,
   "id": "a9329205",
   "metadata": {},
   "outputs": [],
   "source": [
    "import regex as re    QUESTION NUMBER = 23"
   ]
  },
  {
   "cell_type": "code",
   "execution_count": 65,
   "id": "6189616d",
   "metadata": {},
   "outputs": [
    {
     "name": "stdout",
     "output_type": "stream",
     "text": [
      "Regular Expression An Is Important Topic In Python\n"
     ]
    }
   ],
   "source": [
    "string = \"RegularExpressionAnIsImportantTopicInPython\"\n",
    "words = re.findall(\"[A-Z][a-z]*\",string)\n",
    "print(' '. join((words)))\n",
    " "
   ]
  },
  {
   "cell_type": "code",
   "execution_count": 120,
   "id": "5ee46247",
   "metadata": {},
   "outputs": [
    {
     "name": "stdout",
     "output_type": "stream",
     "text": [
      "[]\n"
     ]
    }
   ],
   "source": [
    "import regex as re\n",
    "pattern=r'[A-Z][a-z]+'\n",
    "Text=\"This is a sample Text with multiple matches\"              question no 24\n",
    "matches= re.findall(pattern,text)\n",
    "print(matches)"
   ]
  },
  {
   "cell_type": "code",
   "execution_count": 121,
   "id": "cfe13996",
   "metadata": {},
   "outputs": [],
   "source": [
    "import regex as re\n"
   ]
  },
  {
   "cell_type": "code",
   "execution_count": 125,
   "id": "90f3c88b",
   "metadata": {},
   "outputs": [],
   "source": [
    "sentence=\"Hello hello world world\"\n",
    "def remove_duplicates(sentence):\n",
    " pattern=r'\\b(\\w+)(\\s+\\1\\b)+'                     question no-25\n",
    " result=re.sub(pattern,r'\\1',sentence)\n",
    " output=remove_duplicates(sentence)\n",
    " print(output)"
   ]
  },
  {
   "cell_type": "code",
   "execution_count": 126,
   "id": "41c058c3",
   "metadata": {},
   "outputs": [],
   "source": [
    "import regex as re "
   ]
  },
  {
   "cell_type": "code",
   "execution_count": null,
   "id": "6356768d",
   "metadata": {},
   "outputs": [],
   "source": [
    "def check_string(string):\n",
    "    pattern = r'\\w$'\n",
    "    match= re.search(pattern,string)\n",
    "    if match:\n",
    "        return true\n",
    "    else:                                      question no 26\n",
    "        return false"
   ]
  },
  {
   "cell_type": "code",
   "execution_count": 127,
   "id": "70913ac5",
   "metadata": {},
   "outputs": [],
   "source": [
    "import regex as re       QUESTION NUMBER = 27"
   ]
  },
  {
   "cell_type": "code",
   "execution_count": 75,
   "id": "2196a814",
   "metadata": {},
   "outputs": [],
   "source": [
    "def extract_hastages(text):\n",
    "    text =' RT @kapil: #Doltiwal I mean #Xyzabc is \"hurt\" by #Demonetization as the same has rendered USELESS <ed><U+00A0><U+00BD><ed><U+00B1><U+0089>\"acquired funds\" NO wo'\n",
    "    hastages = re.findall(r'#\\w+',text)\n",
    "    hastags=extract_hastages(text)\n",
    "    print(hastages)"
   ]
  },
  {
   "cell_type": "markdown",
   "id": "5c22fd63",
   "metadata": {},
   "source": []
  },
  {
   "cell_type": "code",
   "execution_count": 70,
   "id": "bd37be22",
   "metadata": {},
   "outputs": [],
   "source": [
    "import regex as re      QUESTION NUMBER= 28"
   ]
  },
  {
   "cell_type": "code",
   "execution_count": 80,
   "id": "69bcc2a2",
   "metadata": {},
   "outputs": [
    {
     "name": "stdout",
     "output_type": "stream",
     "text": [
      "@jags123456 Bharat band on 28??<ed><U+00A0><U+00BD><U+0082>Those who are protesting #demonetization are all diffrent party leaders\n"
     ]
    }
   ],
   "source": [
    "input_text=\"@jags123456 Bharat band on 28??<ed><U+00A0><U+00BD><U+0082>Those who are protesting #demonetization are all diffrent party leaders\"\n",
    "pattern = r\"<U\\+\\w{4>}\"\n",
    "output_text=re.sub(pattern ,'',input_text)\n",
    "print(output_text)"
   ]
  },
  {
   "cell_type": "code",
   "execution_count": 131,
   "id": "df87a064",
   "metadata": {},
   "outputs": [],
   "source": [
    "import regex as re     QUESTION NUMBER = 29"
   ]
  },
  {
   "cell_type": "code",
   "execution_count": 82,
   "id": "2271bf5c",
   "metadata": {},
   "outputs": [
    {
     "name": "stdout",
     "output_type": "stream",
     "text": [
      "['12-09-1992', '15-12-1999']\n"
     ]
    }
   ],
   "source": [
    "text = \"Ron was born on 12-09-1992 and he was admitted to school 15-12-1999.\" \n",
    "pattern = r'\\d{2}-\\d{2}-\\d{4}'\n",
    "A = re.findall(pattern,text)\n",
    "print(A)                        "
   ]
  },
  {
   "cell_type": "code",
   "execution_count": 83,
   "id": "d5005cc8",
   "metadata": {},
   "outputs": [],
   "source": [
    "import regex as re      QUESTION NUMBER = 30"
   ]
  },
  {
   "cell_type": "code",
   "execution_count": 85,
   "id": "21c83bef",
   "metadata": {},
   "outputs": [
    {
     "name": "stdout",
     "output_type": "stream",
     "text": [
      "False\n"
     ]
    }
   ],
   "source": [
    "\n",
    "def remove_words(strings):\n",
    "    pattern = re.compile(r'\\b\\w{2,4}\\b')\n",
    "    modified_string = re.sub(pattern,'',string)\n",
    "    \n",
    "\n",
    "sample_text = \"The following example creates an ArrayList with a capacity of 50 elements.4 element are then added to the ArrayList and the Arraylist is trimmered accordingly.\"\n",
    "expected_output = \"following example creates ArrayList a capacity element. 4 elements added ArrayList trimmed accordingly.\"\n",
    "\n",
    "result = remove_words(sample_text)\n",
    "print(result == expected_output) #True"
   ]
  },
  {
   "cell_type": "code",
   "execution_count": null,
   "id": "8e97a20a",
   "metadata": {},
   "outputs": [],
   "source": []
  }
 ],
 "metadata": {
  "kernelspec": {
   "display_name": "Python 3 (ipykernel)",
   "language": "python",
   "name": "python3"
  },
  "language_info": {
   "codemirror_mode": {
    "name": "ipython",
    "version": 3
   },
   "file_extension": ".py",
   "mimetype": "text/x-python",
   "name": "python",
   "nbconvert_exporter": "python",
   "pygments_lexer": "ipython3",
   "version": "3.11.5"
  }
 },
 "nbformat": 4,
 "nbformat_minor": 5
}
