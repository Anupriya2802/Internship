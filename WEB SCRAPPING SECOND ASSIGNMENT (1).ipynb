{
 "cells": [
  {
   "cell_type": "markdown",
   "id": "513078d6",
   "metadata": {},
   "source": [
    "# WEB-SCRAPING-ASSIGNMENT 1"
   ]
  },
  {
   "cell_type": "markdown",
   "id": "872544b9",
   "metadata": {},
   "source": [
    "1.Write a python program to display IMDB's Top rated 100 Indian movies's data https://www./imdb.com/list/ls0556092300/ (ie.name ,rating,year,ofrelease) and make dataframe"
   ]
  },
  {
   "cell_type": "code",
   "execution_count": 1,
   "id": "741c88b0",
   "metadata": {},
   "outputs": [
    {
     "name": "stdout",
     "output_type": "stream",
     "text": [
      "Requirement already satisfied: bs4 in c:\\users\\hp\\anaconda3\\lib\\site-packages (0.0.2)\n",
      "Requirement already satisfied: beautifulsoup4 in c:\\users\\hp\\anaconda3\\lib\\site-packages (from bs4) (4.12.2)\n",
      "Requirement already satisfied: soupsieve>1.2 in c:\\users\\hp\\anaconda3\\lib\\site-packages (from beautifulsoup4->bs4) (2.4)\n",
      "Requirement already satisfied: requests in c:\\users\\hp\\anaconda3\\lib\\site-packages (2.29.0)\n",
      "Requirement already satisfied: charset-normalizer<4,>=2 in c:\\users\\hp\\anaconda3\\lib\\site-packages (from requests) (2.0.4)\n",
      "Requirement already satisfied: idna<4,>=2.5 in c:\\users\\hp\\anaconda3\\lib\\site-packages (from requests) (3.4)\n",
      "Requirement already satisfied: urllib3<1.27,>=1.21.1 in c:\\users\\hp\\anaconda3\\lib\\site-packages (from requests) (1.26.16)\n",
      "Requirement already satisfied: certifi>=2017.4.17 in c:\\users\\hp\\anaconda3\\lib\\site-packages (from requests) (2023.5.7)\n"
     ]
    }
   ],
   "source": [
    "!pip install bs4\n",
    "!pip install requests"
   ]
  },
  {
   "cell_type": "code",
   "execution_count": 2,
   "id": "6d07a6b1",
   "metadata": {},
   "outputs": [],
   "source": [
    "from bs4 import BeautifulSoup\n",
    "import requests"
   ]
  },
  {
   "cell_type": "code",
   "execution_count": 3,
   "id": "410064d2",
   "metadata": {},
   "outputs": [],
   "source": [
    "page = requests.get(\"https://www.imdb.com/list/ls056092300/\")"
   ]
  },
  {
   "cell_type": "code",
   "execution_count": 20,
   "id": "b730cc1b",
   "metadata": {},
   "outputs": [
    {
     "data": {
      "text/plain": [
       "<Response [200]>"
      ]
     },
     "execution_count": 20,
     "metadata": {},
     "output_type": "execute_result"
    }
   ],
   "source": [
    "page"
   ]
  },
  {
   "cell_type": "code",
   "execution_count": 140,
   "id": "fa070fdb",
   "metadata": {},
   "outputs": [],
   "source": [
    "from bs4 import BeautifulSoup\n",
    "import requests\n",
    "\n",
    "url = (\"https://www.imdb.com/list/ls056092300/\")\n",
    "r = requests.get(url)\n",
    "data = BeautifulSoup(r.text, 'html.parser')\n"
   ]
  },
  {
   "cell_type": "code",
   "execution_count": 141,
   "id": "e5513082",
   "metadata": {},
   "outputs": [],
   "source": [
    "def get_movie_url(data):          \n",
    "    movies_name=data.find_all('h3',{'class':\"lister-item-header\"})\n",
    "    movies_names = []                              \n",
    "    for i in movies_name:\n",
    "         movies_name.append('https://www.imdb.com/' + tag.find('a')['href'])\n",
    "    return movies_name"
   ]
  },
  {
   "cell_type": "code",
   "execution_count": 142,
   "id": "214117b9",
   "metadata": {},
   "outputs": [],
   "source": [
    "movies_name = get_movie_name(data)"
   ]
  },
  {
   "cell_type": "code",
   "execution_count": 143,
   "id": "6609aaa5",
   "metadata": {},
   "outputs": [
    {
     "data": {
      "text/plain": [
       "['Ship of Theseus',\n",
       " 'Iruvar',\n",
       " 'Kaagaz Ke Phool',\n",
       " 'Lagaan: Once Upon a Time in India',\n",
       " 'Pather Panchali',\n",
       " 'Charulata',\n",
       " 'Rang De Basanti',\n",
       " 'Dev.D',\n",
       " '3 Idiots',\n",
       " 'Awaara',\n",
       " 'Nayakan',\n",
       " 'Aparajito',\n",
       " 'Pushpaka Vimana',\n",
       " 'Pyaasa',\n",
       " 'Ghatashraddha',\n",
       " 'Sholay',\n",
       " 'Aradhana',\n",
       " 'Do Ankhen Barah Haath',\n",
       " 'Bombay',\n",
       " 'Neecha Nagar',\n",
       " 'Do Bigha Zamin',\n",
       " 'Garm Hava',\n",
       " 'Piravi',\n",
       " 'Mughal-E-Azam',\n",
       " 'Amma Ariyan',\n",
       " 'Madhumati',\n",
       " 'Goopy Gyne Bagha Byne',\n",
       " 'Gangs of Wasseypur',\n",
       " 'Guide',\n",
       " 'Satya',\n",
       " 'Roja',\n",
       " 'Mr. India',\n",
       " 'The Cloud-Capped Star',\n",
       " 'Harishchandrachi Factory',\n",
       " 'Masoom',\n",
       " 'Agneepath',\n",
       " 'Tabarana Kathe',\n",
       " 'Zakhm',\n",
       " 'Dil Chahta Hai',\n",
       " 'Bhaag Milkha Bhaag',\n",
       " 'Chupke Chupke',\n",
       " 'Dilwale Dulhania Le Jayenge',\n",
       " 'Taare Zameen Par',\n",
       " 'Ardh Satya',\n",
       " 'Bhumika',\n",
       " 'Enthiran',\n",
       " 'Sadma',\n",
       " 'Shwaas',\n",
       " 'Lamhe',\n",
       " 'Haqeeqat',\n",
       " 'Shree 420',\n",
       " 'Kannathil Muthamittal',\n",
       " 'Hum Aapke Hain Koun..!',\n",
       " 'Ustad Hotel',\n",
       " 'Bandit Queen',\n",
       " 'Lakshya',\n",
       " 'Black Friday',\n",
       " 'Manthan',\n",
       " 'Apoorva Raagangal',\n",
       " 'English Vinglish',\n",
       " 'Jewel Thief',\n",
       " 'Pakeezah',\n",
       " 'Maqbool',\n",
       " 'Jis Desh Men Ganga Behti Hai',\n",
       " 'Sahib Bibi Aur Ghulam',\n",
       " 'Shatranj Ke Khilari',\n",
       " 'Narthanasala',\n",
       " 'Chandni Bar',\n",
       " 'Vaaranam Aayiram',\n",
       " 'Mr. and Mrs. Iyer',\n",
       " 'Chandni',\n",
       " 'English, August',\n",
       " 'Celluloid',\n",
       " 'Sagara Sangamam',\n",
       " 'Munna Bhai M.B.B.S.',\n",
       " 'Saaransh',\n",
       " 'Guddi',\n",
       " 'Vanaja',\n",
       " 'Vazhakku Enn 18/9',\n",
       " 'Gangaajal',\n",
       " 'Angoor',\n",
       " 'Guru',\n",
       " 'Andaz Apna Apna',\n",
       " 'Sangam',\n",
       " 'Oka Oori Katha',\n",
       " 'Bhuvan Shome',\n",
       " 'Border',\n",
       " 'Parineeta',\n",
       " 'Devdas',\n",
       " 'Abohomaan',\n",
       " 'Kuch Kuch Hota Hai',\n",
       " 'Pithamagan',\n",
       " 'Veyyil',\n",
       " 'Chemmeen',\n",
       " 'Jaane Bhi Do Yaaro',\n",
       " 'Apur Sansar',\n",
       " 'Kanchivaram',\n",
       " 'Monsoon Wedding',\n",
       " 'Black',\n",
       " 'Deewaar']"
      ]
     },
     "execution_count": 143,
     "metadata": {},
     "output_type": "execute_result"
    }
   ],
   "source": [
    "movies_name[:100]"
   ]
  },
  {
   "cell_type": "code",
   "execution_count": 144,
   "id": "dae9fcf0",
   "metadata": {},
   "outputs": [],
   "source": [
    "from bs4 import BeautifulSoup\n",
    "import requests\n",
    "\n",
    "url = (\"https://www.imdb.com/list/ls056092300/\")\n",
    "r = requests.get(url)\n",
    "data = BeautifulSoup(r.text, 'html.parser')\n"
   ]
  },
  {
   "cell_type": "code",
   "execution_count": 40,
   "id": "0200d062",
   "metadata": {},
   "outputs": [],
   "source": [
    "movies_rating = []\n",
    "for i in data.find_all(\"div\",{\"class\" : \"inline-block ratings-imdb-rating\"}):\n",
    "    movies_rating.append(i.text)\n",
    "    movies_rating\n"
   ]
  },
  {
   "cell_type": "code",
   "execution_count": 39,
   "id": "2548a9fa",
   "metadata": {},
   "outputs": [
    {
     "data": {
      "text/plain": [
       "[]"
      ]
     },
     "execution_count": 39,
     "metadata": {},
     "output_type": "execute_result"
    }
   ],
   "source": [
    "movies_rating[:100]"
   ]
  },
  {
   "cell_type": "code",
   "execution_count": 37,
   "id": "02611e90",
   "metadata": {},
   "outputs": [],
   "source": [
    "movies_year = []\n",
    "for i in data.find_all('span',{'class': \"lister-item-year text-muted unbold\"}):\n",
    "    movies_year.append(i.text)\n",
    "    movies_year"
   ]
  },
  {
   "cell_type": "code",
   "execution_count": 149,
   "id": "0ecec041",
   "metadata": {},
   "outputs": [
    {
     "data": {
      "text/plain": [
       "['(2012)',\n",
       " '(1997)',\n",
       " '(1959)',\n",
       " '(2001)',\n",
       " '(1955)',\n",
       " '(1964)',\n",
       " '(2006)',\n",
       " '(2009)',\n",
       " '(2009)',\n",
       " '(1951)',\n",
       " '(1987)',\n",
       " '(1956)',\n",
       " '(1987)',\n",
       " '(1957)',\n",
       " '(1977)',\n",
       " '(1975)',\n",
       " '(1969)',\n",
       " '(1957)',\n",
       " '(1995)',\n",
       " '(1946)',\n",
       " '(1953)',\n",
       " '(1974)',\n",
       " '(1989)',\n",
       " '(1960)',\n",
       " '(1986)',\n",
       " '(1958)',\n",
       " '(1969)',\n",
       " '(2012)',\n",
       " '(1965)',\n",
       " '(1998)',\n",
       " '(1992)',\n",
       " '(1987)',\n",
       " '(1960)',\n",
       " '(2009)',\n",
       " '(1983)',\n",
       " '(1990)',\n",
       " '(1986)',\n",
       " '(1998)',\n",
       " '(2001)',\n",
       " '(2013)',\n",
       " '(1975)',\n",
       " '(1995)',\n",
       " '(2007)',\n",
       " '(1983)',\n",
       " '(1977)',\n",
       " '(2010)',\n",
       " '(1983)',\n",
       " '(2004)',\n",
       " '(1991)',\n",
       " '(1964)',\n",
       " '(1955)',\n",
       " '(2002)',\n",
       " '(1994)',\n",
       " '(2012)',\n",
       " '(1994)',\n",
       " '(2004)',\n",
       " '(2004)',\n",
       " '(1976)',\n",
       " '(1975)',\n",
       " '(2012)',\n",
       " '(1967)',\n",
       " '(1972)',\n",
       " '(2003)',\n",
       " '(1960)',\n",
       " '(1962)',\n",
       " '(1977)',\n",
       " '(1963)',\n",
       " '(2001)',\n",
       " '(2008)',\n",
       " '(2002)',\n",
       " '(1989)',\n",
       " '(1994)',\n",
       " '(2013)',\n",
       " '(1983)',\n",
       " '(2003)',\n",
       " '(1984)',\n",
       " '(1971)',\n",
       " '(2006)',\n",
       " '(2012)',\n",
       " '(2003)',\n",
       " '(1982)',\n",
       " '(2007)',\n",
       " '(1994)',\n",
       " '(I) (1964)',\n",
       " '(1978)',\n",
       " '(1969)',\n",
       " '(I) (1997)',\n",
       " '(2005)',\n",
       " '(1955)',\n",
       " '(2009)',\n",
       " '(1998)',\n",
       " '(2003)',\n",
       " '(2006)',\n",
       " '(1965)',\n",
       " '(1983)',\n",
       " '(1959)',\n",
       " '(2008)',\n",
       " '(2001)',\n",
       " '(2005)',\n",
       " '(1975)']"
      ]
     },
     "execution_count": 149,
     "metadata": {},
     "output_type": "execute_result"
    }
   ],
   "source": [
    "movies_year[:100]"
   ]
  },
  {
   "cell_type": "code",
   "execution_count": 150,
   "id": "c20155ae",
   "metadata": {},
   "outputs": [],
   "source": [
    "import pandas as pd"
   ]
  },
  {
   "cell_type": "code",
   "execution_count": 153,
   "id": "b63f1a6b",
   "metadata": {},
   "outputs": [],
   "source": [
    "a = {\"movies_name\" :movies_name,\"movies_year\" :movies_year,\"movies_rating\":movies_rating}\n",
    "df=pd.DataFrame.from_dict(a,orient=\"index\")\n",
    "df= df.transpose()"
   ]
  },
  {
   "cell_type": "code",
   "execution_count": 154,
   "id": "9c13f0d6",
   "metadata": {},
   "outputs": [
    {
     "name": "stdout",
     "output_type": "stream",
     "text": [
      "                          movies_name movies_year movies_rating\n",
      "0                     Ship of Theseus      (2012)          None\n",
      "1                              Iruvar      (1997)          None\n",
      "2                     Kaagaz Ke Phool      (1959)          None\n",
      "3   Lagaan: Once Upon a Time in India      (2001)          None\n",
      "4                     Pather Panchali      (1955)          None\n",
      "..                                ...         ...           ...\n",
      "95                        Apur Sansar      (1959)          None\n",
      "96                        Kanchivaram      (2008)          None\n",
      "97                    Monsoon Wedding      (2001)          None\n",
      "98                              Black      (2005)          None\n",
      "99                            Deewaar      (1975)          None\n",
      "\n",
      "[100 rows x 3 columns]\n"
     ]
    }
   ],
   "source": [
    "print(df)"
   ]
  },
  {
   "cell_type": "markdown",
   "id": "136c7ed7",
   "metadata": {},
   "source": [
    "2.Write a python program to scrape product name, price and discounts from\n",
    "https://www.meesho.com/bags-ladies/pl/3jo?page=1"
   ]
  },
  {
   "cell_type": "code",
   "execution_count": 175,
   "id": "c74fa8f7",
   "metadata": {},
   "outputs": [],
   "source": [
    "from bs4 import BeautifulSoup\n",
    "import requests\n",
    "\n",
    "url = (\"https://www.meesho.com/bags-ladies/pl/3jo?page=1\")\n",
    "r = requests.get(url)\n",
    "data = BeautifulSoup(r.text, 'html.parser')\n"
   ]
  },
  {
   "cell_type": "code",
   "execution_count": null,
   "id": "8684114e",
   "metadata": {},
   "outputs": [],
   "source": [
    "page = requests.get(\"https://www.meesho.com/bags-ladies/pl/3jo?page=1\")"
   ]
  },
  {
   "cell_type": "code",
   "execution_count": 212,
   "id": "f725015f",
   "metadata": {},
   "outputs": [
    {
     "data": {
      "text/plain": [
       "<Response [403]>"
      ]
     },
     "execution_count": 212,
     "metadata": {},
     "output_type": "execute_result"
    }
   ],
   "source": [
    "page = requests.get(\"https://meesho.com/bags-ladies/pl/p7vbp\")\n",
    "page"
   ]
  },
  {
   "cell_type": "code",
   "execution_count": 198,
   "id": "72f2db0a",
   "metadata": {},
   "outputs": [
    {
     "data": {
      "text/plain": [
       "<Response [403]>"
      ]
     },
     "execution_count": 198,
     "metadata": {},
     "output_type": "execute_result"
    }
   ],
   "source": [
    "from bs4 import BeautifulSoup\n",
    "import requests"
   ]
  },
  {
   "cell_type": "code",
   "execution_count": 199,
   "id": "a5c9a71b",
   "metadata": {},
   "outputs": [
    {
     "data": {
      "text/plain": [
       "<!DOCTYPE html>\n",
       "<html lang=\"en-US\"><head><title>Just a moment...</title><meta content=\"text/html; charset=utf-8\" http-equiv=\"Content-Type\"/><meta content=\"IE=Edge\" http-equiv=\"X-UA-Compatible\"/><meta content=\"noindex,nofollow\" name=\"robots\"/><meta content=\"width=device-width,initial-scale=1\" name=\"viewport\"/><style>*{box-sizing:border-box;margin:0;padding:0}html{line-height:1.15;-webkit-text-size-adjust:100%;color:#313131}button,html{font-family:system-ui,-apple-system,BlinkMacSystemFont,Segoe UI,Roboto,Helvetica Neue,Arial,Noto Sans,sans-serif,Apple Color Emoji,Segoe UI Emoji,Segoe UI Symbol,Noto Color Emoji}@media (prefers-color-scheme:dark){body{background-color:#222;color:#d9d9d9}body a{color:#fff}body a:hover{color:#ee730a;text-decoration:underline}body .lds-ring div{border-color:#999 transparent transparent}body .font-red{color:#b20f03}body .big-button,body .pow-button{background-color:#4693ff;color:#1d1d1d}body #challenge-success-text{background-image:url(data:image/svg+xml;base64,PHN2ZyB4bWxucz0iaHR0cDovL3d3dy53My5vcmcvMjAwMC9zdmciIHdpZHRoPSIzMiIgaGVpZ2h0PSIzMiIgZmlsbD0ibm9uZSIgdmlld0JveD0iMCAwIDI2IDI2Ij48cGF0aCBmaWxsPSIjZDlkOWQ5IiBkPSJNMTMgMGExMyAxMyAwIDEgMCAwIDI2IDEzIDEzIDAgMCAwIDAtMjZtMCAyNGExMSAxMSAwIDEgMSAwLTIyIDExIDExIDAgMCAxIDAgMjIiLz48cGF0aCBmaWxsPSIjZDlkOWQ5IiBkPSJtMTAuOTU1IDE2LjA1NS0zLjk1LTQuMTI1LTEuNDQ1IDEuMzg1IDUuMzcgNS42MSA5LjQ5NS05LjYtMS40Mi0xLjQwNXoiLz48L3N2Zz4=)}body #challenge-error-text{background-image:url(data:image/svg+xml;base64,PHN2ZyB4bWxucz0iaHR0cDovL3d3dy53My5vcmcvMjAwMC9zdmciIHdpZHRoPSIzMiIgaGVpZ2h0PSIzMiIgZmlsbD0ibm9uZSI+PHBhdGggZmlsbD0iI0IyMEYwMyIgZD0iTTE2IDNhMTMgMTMgMCAxIDAgMTMgMTNBMTMuMDE1IDEzLjAxNSAwIDAgMCAxNiAzbTAgMjRhMTEgMTEgMCAxIDEgMTEtMTEgMTEuMDEgMTEuMDEgMCAwIDEtMTEgMTEiLz48cGF0aCBmaWxsPSIjQjIwRjAzIiBkPSJNMTcuMDM4IDE4LjYxNUgxNC44N0wxNC41NjMgOS41aDIuNzgzem0tMS4wODQgMS40MjdxLjY2IDAgMS4wNTcuMzg4LjQwNy4zODkuNDA3Ljk5NCAwIC41OTYtLjQwNy45ODQtLjM5Ny4zOS0xLjA1Ny4zODktLjY1IDAtMS4wNTYtLjM4OS0uMzk4LS4zODktLjM5OC0uOTg0IDAtLjU5Ny4zOTgtLjk4NS40MDYtLjM5NyAxLjA1Ni0uMzk3Ii8+PC9zdmc+)}}body{display:flex;flex-direction:column;min-height:100vh}body.no-js .loading-spinner{visibility:hidden}body.no-js .challenge-running{display:none}body.dark{background-color:#222;color:#d9d9d9}body.dark a{color:#fff}body.dark a:hover{color:#ee730a;text-decoration:underline}body.dark .lds-ring div{border-color:#999 transparent transparent}body.dark .font-red{color:#b20f03}body.dark .big-button,body.dark .pow-button{background-color:#4693ff;color:#1d1d1d}body.dark #challenge-success-text{background-image:url(data:image/svg+xml;base64,PHN2ZyB4bWxucz0iaHR0cDovL3d3dy53My5vcmcvMjAwMC9zdmciIHdpZHRoPSIzMiIgaGVpZ2h0PSIzMiIgZmlsbD0ibm9uZSIgdmlld0JveD0iMCAwIDI2IDI2Ij48cGF0aCBmaWxsPSIjZDlkOWQ5IiBkPSJNMTMgMGExMyAxMyAwIDEgMCAwIDI2IDEzIDEzIDAgMCAwIDAtMjZtMCAyNGExMSAxMSAwIDEgMSAwLTIyIDExIDExIDAgMCAxIDAgMjIiLz48cGF0aCBmaWxsPSIjZDlkOWQ5IiBkPSJtMTAuOTU1IDE2LjA1NS0zLjk1LTQuMTI1LTEuNDQ1IDEuMzg1IDUuMzcgNS42MSA5LjQ5NS05LjYtMS40Mi0xLjQwNXoiLz48L3N2Zz4=)}body.dark #challenge-error-text{background-image:url(data:image/svg+xml;base64,PHN2ZyB4bWxucz0iaHR0cDovL3d3dy53My5vcmcvMjAwMC9zdmciIHdpZHRoPSIzMiIgaGVpZ2h0PSIzMiIgZmlsbD0ibm9uZSI+PHBhdGggZmlsbD0iI0IyMEYwMyIgZD0iTTE2IDNhMTMgMTMgMCAxIDAgMTMgMTNBMTMuMDE1IDEzLjAxNSAwIDAgMCAxNiAzbTAgMjRhMTEgMTEgMCAxIDEgMTEtMTEgMTEuMDEgMTEuMDEgMCAwIDEtMTEgMTEiLz48cGF0aCBmaWxsPSIjQjIwRjAzIiBkPSJNMTcuMDM4IDE4LjYxNUgxNC44N0wxNC41NjMgOS41aDIuNzgzem0tMS4wODQgMS40MjdxLjY2IDAgMS4wNTcuMzg4LjQwNy4zODkuNDA3Ljk5NCAwIC41OTYtLjQwNy45ODQtLjM5Ny4zOS0xLjA1Ny4zODktLjY1IDAtMS4wNTYtLjM4OS0uMzk4LS4zODktLjM5OC0uOTg0IDAtLjU5Ny4zOTgtLjk4NS40MDYtLjM5NyAxLjA1Ni0uMzk3Ii8+PC9zdmc+)}body.light{background-color:transparent;color:#313131}body.light a{color:#0051c3}body.light a:hover{color:#ee730a;text-decoration:underline}body.light .lds-ring div{border-color:#595959 transparent transparent}body.light .font-red{color:#fc574a}body.light .big-button,body.light .pow-button{background-color:#003681;border-color:#003681;color:#fff}body.light #challenge-success-text{background-image:url(data:image/svg+xml;base64,PHN2ZyB4bWxucz0iaHR0cDovL3d3dy53My5vcmcvMjAwMC9zdmciIHdpZHRoPSIzMiIgaGVpZ2h0PSIzMiIgZmlsbD0ibm9uZSIgdmlld0JveD0iMCAwIDI2IDI2Ij48cGF0aCBmaWxsPSIjMzEzMTMxIiBkPSJNMTMgMGExMyAxMyAwIDEgMCAwIDI2IDEzIDEzIDAgMCAwIDAtMjZtMCAyNGExMSAxMSAwIDEgMSAwLTIyIDExIDExIDAgMCAxIDAgMjIiLz48cGF0aCBmaWxsPSIjMzEzMTMxIiBkPSJtMTAuOTU1IDE2LjA1NS0zLjk1LTQuMTI1LTEuNDQ1IDEuMzg1IDUuMzcgNS42MSA5LjQ5NS05LjYtMS40Mi0xLjQwNXoiLz48L3N2Zz4=)}body.light #challenge-error-text{background-image:url(data:image/svg+xml;base64,PHN2ZyB4bWxucz0iaHR0cDovL3d3dy53My5vcmcvMjAwMC9zdmciIHdpZHRoPSIzMiIgaGVpZ2h0PSIzMiIgZmlsbD0ibm9uZSI+PHBhdGggZmlsbD0iI2ZjNTc0YSIgZD0iTTE2IDNhMTMgMTMgMCAxIDAgMTMgMTNBMTMuMDE1IDEzLjAxNSAwIDAgMCAxNiAzbTAgMjRhMTEgMTEgMCAxIDEgMTEtMTEgMTEuMDEgMTEuMDEgMCAwIDEtMTEgMTEiLz48cGF0aCBmaWxsPSIjZmM1NzRhIiBkPSJNMTcuMDM4IDE4LjYxNUgxNC44N0wxNC41NjMgOS41aDIuNzgzem0tMS4wODQgMS40MjdxLjY2IDAgMS4wNTcuMzg4LjQwNy4zODkuNDA3Ljk5NCAwIC41OTYtLjQwNy45ODQtLjM5Ny4zOS0xLjA1Ny4zODktLjY1IDAtMS4wNTYtLjM4OS0uMzk4LS4zODktLjM5OC0uOTg0IDAtLjU5Ny4zOTgtLjk4NS40MDYtLjM5NyAxLjA1Ni0uMzk3Ii8+PC9zdmc+)}a{background-color:transparent;color:#0051c3;text-decoration:none;transition:color .15s ease}a:hover{color:#ee730a;text-decoration:underline}.main-content{margin:8rem auto;max-width:60rem;width:100%}.heading-favicon{height:2rem;margin-right:.5rem;width:2rem}@media (width <= 720px){.main-content{margin-top:4rem}.heading-favicon{height:1.5rem;width:1.5rem}}.footer,.main-content{padding-left:1.5rem;padding-right:1.5rem}.main-wrapper{align-items:center;display:flex;flex:1;flex-direction:column}.font-red{color:#b20f03}.spacer{margin:2rem 0}.h1{font-size:2.5rem;font-weight:500;line-height:3.75rem}.h2{font-weight:500}.core-msg,.h2{font-size:1.5rem;line-height:2.25rem}.body-text,.core-msg{font-weight:400}.body-text{font-size:1rem;line-height:1.25rem}@media (width <= 720px){.h1{font-size:1.5rem;line-height:1.75rem}.h2{font-size:1.25rem}.core-msg,.h2{line-height:1.5rem}.core-msg{font-size:1rem}}#challenge-error-text{background-image:url(data:image/svg+xml;base64,PHN2ZyB4bWxucz0iaHR0cDovL3d3dy53My5vcmcvMjAwMC9zdmciIHdpZHRoPSIzMiIgaGVpZ2h0PSIzMiIgZmlsbD0ibm9uZSI+PHBhdGggZmlsbD0iI2ZjNTc0YSIgZD0iTTE2IDNhMTMgMTMgMCAxIDAgMTMgMTNBMTMuMDE1IDEzLjAxNSAwIDAgMCAxNiAzbTAgMjRhMTEgMTEgMCAxIDEgMTEtMTEgMTEuMDEgMTEuMDEgMCAwIDEtMTEgMTEiLz48cGF0aCBmaWxsPSIjZmM1NzRhIiBkPSJNMTcuMDM4IDE4LjYxNUgxNC44N0wxNC41NjMgOS41aDIuNzgzem0tMS4wODQgMS40MjdxLjY2IDAgMS4wNTcuMzg4LjQwNy4zODkuNDA3Ljk5NCAwIC41OTYtLjQwNy45ODQtLjM5Ny4zOS0xLjA1Ny4zODktLjY1IDAtMS4wNTYtLjM4OS0uMzk4LS4zODktLjM5OC0uOTg0IDAtLjU5Ny4zOTgtLjk4NS40MDYtLjM5NyAxLjA1Ni0uMzk3Ii8+PC9zdmc+);padding-left:34px}#challenge-error-text,#challenge-success-text{background-repeat:no-repeat;background-size:contain}#challenge-success-text{background-image:url(data:image/svg+xml;base64,PHN2ZyB4bWxucz0iaHR0cDovL3d3dy53My5vcmcvMjAwMC9zdmciIHdpZHRoPSIzMiIgaGVpZ2h0PSIzMiIgZmlsbD0ibm9uZSIgdmlld0JveD0iMCAwIDI2IDI2Ij48cGF0aCBmaWxsPSIjMzEzMTMxIiBkPSJNMTMgMGExMyAxMyAwIDEgMCAwIDI2IDEzIDEzIDAgMCAwIDAtMjZtMCAyNGExMSAxMSAwIDEgMSAwLTIyIDExIDExIDAgMCAxIDAgMjIiLz48cGF0aCBmaWxsPSIjMzEzMTMxIiBkPSJtMTAuOTU1IDE2LjA1NS0zLjk1LTQuMTI1LTEuNDQ1IDEuMzg1IDUuMzcgNS42MSA5LjQ5NS05LjYtMS40Mi0xLjQwNXoiLz48L3N2Zz4=);padding-left:42px}.text-center{text-align:center}.big-button{border:.063rem solid #0051c3;border-radius:.313rem;font-size:.875rem;line-height:1.313rem;padding:.375rem 1rem;transition-duration:.2s;transition-property:background-color,border-color,color;transition-timing-function:ease}.big-button:hover{cursor:pointer}.captcha-prompt:not(.hidden){display:flex}@media (width <= 720px){.captcha-prompt:not(.hidden){flex-wrap:wrap;justify-content:center}}.pow-button{background-color:#0051c3;color:#fff;margin:2rem 0}.pow-button:hover{background-color:#003681;border-color:#003681;color:#fff}.footer{font-size:.75rem;line-height:1.125rem;margin:0 auto;max-width:60rem;width:100%}.footer-inner{border-top:1px solid #d9d9d9;padding-bottom:1rem;padding-top:1rem}.clearfix:after{clear:both;content:\"\";display:table}.clearfix .column{float:left;padding-right:1.5rem;width:50%}.diagnostic-wrapper{margin-bottom:.5rem}.footer .ray-id{text-align:center}.footer .ray-id code{font-family:monaco,courier,monospace}.core-msg,.zone-name-title{overflow-wrap:break-word}@media (width <= 720px){.diagnostic-wrapper{display:flex;flex-wrap:wrap;justify-content:center}.clearfix:after{clear:none;content:none;display:initial;text-align:center}.column{padding-bottom:2rem}.clearfix .column{float:none;padding:0;width:auto;word-break:keep-all}.zone-name-title{margin-bottom:1rem}}.loading-spinner{height:76.391px}.lds-ring{display:inline-block;position:relative}.lds-ring,.lds-ring div{height:1.875rem;width:1.875rem}.lds-ring div{animation:lds-ring 1.2s cubic-bezier(.5,0,.5,1) infinite;border:.3rem solid transparent;border-radius:50%;border-top-color:#313131;box-sizing:border-box;display:block;position:absolute}.lds-ring div:first-child{animation-delay:-.45s}.lds-ring div:nth-child(2){animation-delay:-.3s}.lds-ring div:nth-child(3){animation-delay:-.15s}@keyframes lds-ring{0%{transform:rotate(0)}to{transform:rotate(1turn)}}@media screen and (-ms-high-contrast:active),screen and (-ms-high-contrast:none){.main-wrapper,body{display:block}}</style><meta content=\"375\" http-equiv=\"refresh\"/></head><body class=\"no-js\"><div class=\"main-wrapper\" role=\"main\"><div class=\"main-content\"><noscript><div id=\"challenge-error-title\"><div class=\"h2\"><span id=\"challenge-error-text\">Enable JavaScript and cookies to continue</span></div></div></noscript></div></div><script>(function(){window._cf_chl_opt={cvId: '3',cZone: \"www.meesho.com\",cType: 'managed',cNounce: '59441',cRay: '85c05d3b5a42a3b7',cHash: '535fcb99cdbf374',cUPMDTk: \"\\/bags-ladies\\/pl\\/p7vbp?__cf_chl_tk=JuOSuHkPzgFJMoQYwv18FLr8lSRxW63kzODsfhgUqMI-1709036241-0.0-3623\",cFPWv: 'b',cTTimeMs: '1000',cMTimeMs: '375000',cTplV: 5,cTplB: 'cf',cK: \"visitor-time\",fa: \"\\/bags-ladies\\/pl\\/p7vbp?__cf_chl_f_tk=JuOSuHkPzgFJMoQYwv18FLr8lSRxW63kzODsfhgUqMI-1709036241-0.0-3623\",md: \"Z7Lg22BfEtwfniVOsCoMd.mTb0bKy5NfbaLju.aKxJU-1709036241-1.1-AVIcCS3J-_RTmeIsLkKSmlbOwsyU9mkM2QKRHtZLpc84ekeGFqrWRK9lYB-Dev4_rP5BkMEaAa_ChU2OtiG7pcDswvDdeqRXiS_GyrnhVUc69Bo9zaarYMZBDfu_kIhUkkplDiW83D5FOx9nv11kfUXMixYrhs1RFlehv0ai14EAE4jIChRoXoKutg2qdB7VIThxs_vjrSVNGUS9Dw1caxluUtLKkcglLQk0Ny_X2hmT8T1rA9WVpbdaZ7VC1j8jeC_sTcIwtw1KXONORM9lJvrvf3dTSC08qeqkIQKmLmwtbaLocbKY_Cz24pxOEkuZsg9VOprx-pGkhOTQXwMhk1Eputa656BS-gvwVUm8qsPG5ienhY4o9bS52PuxzzfdZiPKYR6WAwl1hksQ3KQIXKDOFGysV_esxBi3egSHzPLcdnd4aVosNEhScoJ7QiMxhgW-tjqEq03rNrJzrSTRlywTA2O4rCGrpqJyrMbTdMSH0w_n5VbaVrxQF_4LbIZTbYiLlUA5ZQSaz2g5DkvHLpznaJg17gnCWbqqpOGGXZQTBLdEkGOmD19qEpzS76ZVvXzy061ElVLsjFttXMVGeCNHUBL_wVFe1Y4GNBjCozV-7P_H0YuG7q88bppi-ztUBlsdAM3INedLA6Ug74gqtpcJHZx2R2Z6kZoSR7Ggki93bZGTPMkVeIKkoeMcDAZDwKrOv73VfcdEH2y-KHyr8Ctbh0gaM4csSbpZlD3lToKjDqiCmZ67De2WWL5uQ5EJeKKUq71xlrOTiKS3zsBW7U8VdJTbG0l0MbCMGDPmaVnwmp34IVuIFnWuj0eMJG03IkiuYLoyELnJkzNDDhkpSXdaPNCLDZIuf-TJUQRNOhZXTyonMw57uYFtsnjLQffr4JVz-ghdhMj8Fc3TXZ5lN_-OTceXW76RuIe_vd46TxDVC8_OZGglibPHaO_J1oOI_WioVVycmjVdVsy5CrMCG4yCzQHc3CLI_tyYp8U4kpVzEmkvYbsHyg8skyE_dGd9olTtqAgf9oaBvD28HjD5fVdpdZZ9zRutQb0mkRzDXxaCt6m2BO2_pVKT3gvKVc8u8mSUELY5p_fLlF1qD5o6SL2J_lqvLo2iX-TBYzHF1kDySIF8RBix001xWI9xvPzNGeNnpuQxt3EWDmp5GVyuZPW6H0o4c8xtGnobC6papSq6Sc-JZAZu4tVwDWfyVsy5yWZauCTYDxxt5RIv2frUkxhNUT92NzVXLfMD-EPYQ472AuUPxivequ76f_aTJb1OEew20W9bbtpmURIzatZpkRjnvZvV7C2NY_rSt7IA-l_GBWPlg04zqxNQDnkWmvtY_U9Yy-3aAr_PCsBR7KlmmoMjUGs8BHu88zI1XF41k9RyxxbmP9Udk-gz0283vnliIujfLMCP36GS9hnuW_Ks1_9n9t18Ad2cLILwbZ8fe-_NDUS_-P4uD_SwkyxziShMYhjZKEX58rlnMbhFIHqDNxBS06KYmIUEcTcZNI7WZHDPhBiFUs0Y9FPy90S-jeXY1JyvmmmwCOs-tNqwQTx72Kiy2ApiG9XHOLsAYq_xkcCCEWRiJYS6h4qr1rWKOa1jxCY1hTr3f9SiP44z8d9iw59Wq8GP6IgtmVYklyjx6iFGaRmK8pRVcBNZd4TB2d4PkdvAmq7S68PJcOQF9JwhhUMObmwOxJxX3Oq_epEfv8P05dY2oywJfYn4lqfG4fr75oLJ5fZyVKXPJKiP9vScUiaBTaaIOUTYDj3YO1KyjvM9rcehWRFhhULbgQL4POWiu4sfZtSPS3rXXXVGSdB4E51RQAHuJJcQTPmJMtjdqPVnyd-I9GzkDdSWpPxqDgrEFJuMQn5lUs1yg27kE6b1Apohrw3NyYcddzljmm3O8snXVo69LedfzLLi-NfUO6m0kRRuajMM2c1H_gaxM3GB32aMJEFf1c--mucX_XJ2R0aZM_ltwiQtEkAK7aBedt0T2wRKwgnKVOryFxroJPD5CjzCnOvPKe6tpFcC0CpL2iZxvTd4KrFAwkL4Xf-XHMYBnQHLgoYMFbjH4BMDs1hpEXAoj_dWWfBMIOVSHxISTdi9XIbj8j1iyAKCVdCONYh06Luvv1oVyl-GzbJqP7QJq0AKV7OPeJa9m7natBfAzzDSkvXFtdTZX4Wj-O9XXLvMUfNc-vFwZbph2qeThGmzMUc1-0I4rlx8QRVpjmCBnJwFd1ser8co8nPFs57-CreWFLn-o29Zu9Z6ox0dDiDKDNFsD023-uf6DypTxTK-mo_DeWtuYs_hF7iOqzJejSd_Kc2dj3pHGPTnP8BMW9o3038dltkGSjIYDjaR0nSihaJbBC1N9n-Ld822y3S0-3tvas7cy9D3MJrgCbEMezqtNcWT0mYj8v74c_1MYL9rby9lq99fgSF5QIFK51XA0sZyLXtvba7NVOvehbXr0IH0EqY2yvQTDfqr75aSoHU-LM3gb_0N21sK6-7OPCgRU9EXiDqccwy_xAa2vZEQLTRshTYGrZDiYpJb1ecZx45afPXU_7Ohybpmh-P1_Q-Y20Q55IMjA0IvibIruX3rDtbsm-t5PekylBWBDooyMcGm3hzhseggRLEEGk7_ehQbSqqq-2GH_sZJP5ekwKQOm3N-ogdc1fiPssd-_-BkE6v-ONqjCwY2SDf6Z8iVsN_UBFJT3kRzhGg15XkHmbnFPxwORcWAxez7b2Fnehh-A_Rwf7kmtojleBLCqIBKG-Emrj53MLUlEV96kZb6B_y7WYNVpiHf8udFtXUWpkfk7OrlXfe2ejC7_FyiakX51SpFlj9Vx_3LXPFP8e5Nq165sPTMfwh4VFKRWlnCXBKJhkblLAGB4T9vcGfOpXTZCxKX5gTICSkmTZLaPrYvfB_g-EXZJdXk8634C_692cCQQS_JbIw9y2Tf3e3BITmrkiwTgtY4iQHJqZc7fFkI6BSu6UEv0m8l0UbbtrQA5LTuAHK-uF-KeuLa42CiEnllaTUmpj4ymi_2wWrNtVXKaYh_bAsHF0nlGJ5YNH1MjaGVAgv46xaiwzEadqeC5iQH-P0C0oQplFlQDFdKM_0Y0PkHk0HF4Zd8-v49pUvyhFtblCo0XfK1q0OFAozdTv7B7kFmYWzNH06jTQmTVc14HUw5Oi_SQcRxAL6KJtppSBd9JfF7qa4BiF303Cm2fEWhIl8eEmQ7hHI1EL_MIoRR1EDnaXmTPXiBE6FlBIAvHXn38vZC7g3kbwt2zlL7tNzHnqkN5WrcvHILvUQByJPYyQ1VDjdPW3NBJo7SjDmIYDRklKhE1kEI_f0HLw2JfpEOE7pBMJBJLn47y73JLJXvnhscMhecEKtU6zuskgjbXW7qXZpz_zzZzB2_7pBeazGVXFyjwKeaYVv2aarDQx710i8dEX4MOziMI5_9__BM9EgwzNC4WUFyskR-zp94cAPYPhsrWodyZmqUQR6dG6zUUUyh60m7Nm7iYWwFzlEpqlqwEoYP1LpQDZ2Dvvkrv07vVMgjkySRcrs34JsHTQEnYP7dCeRKoevm4GgRa2mUvhCRA54xSTNM\",mdrd: \"EDmTcSYZTWOkP6d9l0AGAQ69HkcX8S15mhSsHqebRGA-1709036241-1.1-ASJAoT1R1PiOxp48yNKrax1O21X7vj3sUKpr5QpWSGeZRYzyShsPvEmhDe9nfezWmyFzbvk-_bw4wFfQe-ez-4LN7BJmXi3WhaJ4YkFdRHGy_-0preWcoKEYrUtQ6ky9SpXMvD-VBEnKjQp1x--8PQMHt5Y4yrH-aXq2nRhU8xZUyTBE6IcJzoHwC4dcZZEf1atTMij4DO78fCfuycKMYntdkDv88rFEN9BrydBeQ9aZ-UTNv6JcPtENsGOeiO2NpSgTiDCW6dR5ho7K_EALct8oeuPZNhpWN9w0nxEnpzutIwoHoUOdmSrsJJc4RQe2HBYAXJWU2R2uJILx8fdR0YHzLfZagI2KPiuc0n0U0m_Rsg_aKkyy_1rOxQIG1lYhxQ2pVoaMldJX5V8lv-6gKlUBxa8e8pY7SepVk2Y2Qnjk348-o4d1qF6h5TZTddeuEChTO7RbmAvpeyqTUHiC3I3NcA61KGJL6HPV_lvDDzwMSt3Nos9XMkMHBvY_w2g-YyGaeXVfTGllsGz_xVEv0NIxZiyuI-cUioW6BGW_vJqiOA1a4OsNNMz9ZPHkxGVs4-gUSKyVhMTqDaJY1NV-HwnplFBaRLfaqEjvZmSuD5i5RTTzgVWQaLdLVcT7gE3v6sI-DAddhqsWBd2fkQETnfYkwFXYDr5WQYs5qB3N0QQD8fkBqlr0iKHmO1uSDqWwDIR1PLJZN9eVk0oijCr2l8flPkCvFxhA1t1q7uvgS174FuW8Itokes2fMO4O6fTuwaRdWJ_-i-RO2Z1SuDD6CRjFPBJa1ZxMFQDJQKcriOrQA08IdBYuDIHjGiGs_eXP_DO3byzquWQxdy9rwIb2xIOlAp3hzopJ-kNfFuvgbV6GfJ4PHTqSV-7OLgxenSajwRILydbdyMCS6EvT_bXE3YssRwGvMk3lNEISb14mxuSi9be17MCiV8sbThINtHCAL9dtSCJuG5iMAO8GX4Bd-mu7kaED9bhtBBdP4B6waDyWO-fFgMjBGn5ad8ZejUDdaoky1yUgHvDb5t1hIOcy9mAArG-_lEAShlhkGP-wKBoBl1H2nzlSGMNjoo4H64LJ8m1NBaPABVkNqEMwe2X0pk_a0jbbYOwx4_NCFwtB47rSVby-0KP5pxEclTwK0xgFdxY0h2umvv1VpO0eeB3_Cr0BOFEFHWfDULSCRz3_yo6bL3gDYV8JTQG6z_pugI6R75-rKK9Orb6mEN_GdMh1TjtXPaX5J9f2WdAJ3aY1CePcf6nmzh4QZ0NO03mccWkRbH2tsdTG3MLmHUEh--osNSYWazzH8TspFMWZcdDdJQE6Uuw7cu9WM4-DQzXIEDUA2oMhFC46L0aoyPCGwUTyKas80D-368whb2vJFfTAe_fKxTEYRwRZQs8SeXEJ0qakmdnFsvuU9h858KymZP8zl6Ie67Np-gNk9cBLdIcrhv6O4i5kIFChLC5yTfQQSZnEQalhIxFJQoLuDlVhnHcyqaHsbFkz1vndq6fN6Sf77yDyXB6XeAsbNzWLR-NBXxCIO2r7WnKZg7l3g8uS6ajQ7XiyyI9n32uB-uvYcNI-YQDW_7Uvd7RH5YT0sbMbm-M2tGcnkPGr2K6R4BrPlNZv2tsHcHHyv3N6-eySH7yHYKt2Q_7nIsqIBe-ihAEX3c7784oyOG0vvqV3Q7Wmuv_snfAIYi-qHaxZYVLCk2RXX64uJSxHEudP0CW9sBWRT-FPEUvu2HPY08ExscUR_jDBcBEenUGdhu7E0U67ZJL-DRlAUOEoxWUaoQljwR8YJ-2idzfEEwtNvcuFMsmGmi7EUxTpy4lWFcmBZPfU9nlFVtwV55SnYDoITECr6fs3IKty6vh9IRsSV_KBVGrlqayPOPpvqrylj6A7-FAKC4HjhztyuYuLdbPR1bdT1rlbEuKXPgh6JBaE-8jY7_QAhbZEmp7CUyEASdXvCEs0BtOsks2_elc5R2s_NuA97OclyapIAQ\",cRq: {ru: 'aHR0cHM6Ly93d3cubWVlc2hvLmNvbS9iYWdzLWxhZGllcy9wbC9wN3ZicA==',ra: 'cHl0aG9uLXJlcXVlc3RzLzIuMjkuMA==',rm: 'R0VU',d: '1r7r4WkJ1WOjSmFHUqGj3w7ajcDNbJpwwcOkTowZ1CnkjVZftvIaxME4yPn2OUtM7Qofr4jGIclS1NdChMrhtOsEpvhLO57H/K/7tT8fEiW2P417c51AIByX6ghERab/BkCJ3DyuI57rwUlwoylPeecfRLN1rEVVq8SCvJQUhK1SmCazHWSJecAYtWJCxGffoumWPPWfJjAZPHa1k38Bmj223tZNoNMwi+98WquJE6hUoVbwqrJbSSamKC5UGu7bvTgPM+2IN8Fytmu2DIvuO1yoXYDcxTELhbkpkKVTmJCwZr9saL1ZsygeOf1y8XfW9yXUiAjGTEx/9i6fL6Z2MvJfcZuIcmv47a1nYzKHzmh9K5e0/sWkBOZ1D6ROI3QFoJPzq23B6qejGH61c5SQ4dNu31+kjKlCApCHLhIb0al4AIqtVWm0r6LE6vZxIZc72odv1LJVhSAqWTZZ9eCmxKnljnvbBdWZ6TkOGj4s1Q42k/4/VtjTmb7i5lOcIJdkDNb4t6aeQ7IRf/xvItLx1TK9R1EUuEeXCpQDDtl/FlnHNPGtdyn94OZaZ3bZ40KyznYItJafoVbbeKIQpHnC0Gh03O0iVv66Dgqeyq6Jc1BjHHfEQ3ADJ6xafMTvJ+6uqq1q/6RX9F/xr1zXZa5Zyg==',t: 'MTcwOTAzNjI0MS4xODAwMDA=',cT: Math.floor(Date.now() / 1000),m: 'Ae3gB3uJKXwv3GK90t4Ah7HOawBuah/npo2Yg+3mQDc=',i1: 'dSuDJxmwVbzURs47qDwZlg==',i2: 'or3pcVE1gLBEQGd2JMRtow==',zh: 'y5LBRIapGkKMzhZ0bNjgJ7LdoioTUlggZfkgnNU3ihc=',uh: 'Od70nCNhY4yhL+v1mbxHDnfPDPBdcyszwxY2jRi3wd0=',hh: '7PxFw2PDF7g7I15E41bLcZDq9st2lF+rhTuq2nNy5wY=',}};var cpo = document.createElement('script');cpo.src = '/cdn-cgi/challenge-platform/h/b/orchestrate/chl_page/v1?ray=85c05d3b5a42a3b7';window._cf_chl_opt.cOgUHash = location.hash === '' && location.href.indexOf('#') !== -1 ? '#' : location.hash;window._cf_chl_opt.cOgUQuery = location.search === '' && location.href.slice(0, location.href.length - window._cf_chl_opt.cOgUHash.length).indexOf('?') !== -1 ? '?' : location.search;if (window.history && window.history.replaceState) {var ogU = location.pathname + window._cf_chl_opt.cOgUQuery + window._cf_chl_opt.cOgUHash;history.replaceState(null, null, \"\\/bags-ladies\\/pl\\/p7vbp?__cf_chl_rt_tk=JuOSuHkPzgFJMoQYwv18FLr8lSRxW63kzODsfhgUqMI-1709036241-0.0-3623\" + window._cf_chl_opt.cOgUHash);cpo.onload = function() {history.replaceState(null, null, ogU);}}document.getElementsByTagName('head')[0].appendChild(cpo);}());</script></body></html>"
      ]
     },
     "execution_count": 199,
     "metadata": {},
     "output_type": "execute_result"
    }
   ],
   "source": [
    "soup = BeautifulSoup(page.content)\n",
    "soup"
   ]
  },
  {
   "cell_type": "code",
   "execution_count": 200,
   "id": "514dccc1",
   "metadata": {},
   "outputs": [],
   "source": [
    "name = []\n",
    "\n",
    "for i in soup.find_all('div', class_ = \"Card__BaseCard-sc-b3n78k-0 dUNFgg NewProductCard__DetailCard_Desktop-sc-j0e7tu-2 fqvaeS NewProductCard__DetailCard_Desktop-sc-j0e7tu-2 fqvaeS\"):\n",
    "    name.append(i.text.split('₹')[0])"
   ]
  },
  {
   "cell_type": "code",
   "execution_count": 205,
   "id": "463c04ed",
   "metadata": {},
   "outputs": [
    {
     "data": {
      "text/plain": [
       "[]"
      ]
     },
     "execution_count": 205,
     "metadata": {},
     "output_type": "execute_result"
    }
   ],
   "source": [
    "name"
   ]
  },
  {
   "cell_type": "code",
   "execution_count": 202,
   "id": "f532adc7",
   "metadata": {},
   "outputs": [],
   "source": [
    "price = []\n",
    "\n",
    "for i in soup.find_all('div', class_=\"Card__BaseCard-sc-b3n78k-0 iLPHgK NewProductCard__PriceRow-sc-j0e7tu-5 eyya-Dr NewProductCard__PriceRow-sc-j0e7tu-5 eyya-Dr\"):\n",
    "    price.append(i.text.split('₹')[1])"
   ]
  },
  {
   "cell_type": "code",
   "execution_count": 203,
   "id": "ab571e22",
   "metadata": {},
   "outputs": [
    {
     "data": {
      "text/plain": [
       "[]"
      ]
     },
     "execution_count": 203,
     "metadata": {},
     "output_type": "execute_result"
    }
   ],
   "source": [
    "price"
   ]
  },
  {
   "cell_type": "code",
   "execution_count": 211,
   "id": "8bf4a7dd",
   "metadata": {},
   "outputs": [
    {
     "data": {
      "text/plain": [
       "[]"
      ]
     },
     "execution_count": 211,
     "metadata": {},
     "output_type": "execute_result"
    }
   ],
   "source": [
    "discount = []\n",
    "\n",
    "for i in soup.find_all('div', class_ = kUc\"Card__BaseCard-sc-b3n78k-0 iJCKg NewProductCard__DiscountRow-sc-j0e7tu-15 VjG NewProductCard__DiscountRow-sc-j0e7tu-15 kUcVjG\"):\n",
    "    discount.append(i.text.replace(\" \",[0]))\n",
    "                        \n",
    "\n",
    "discount    "
   ]
  },
  {
   "cell_type": "code",
   "execution_count": 213,
   "id": "ba98a050",
   "metadata": {},
   "outputs": [
    {
     "data": {
      "text/plain": [
       "[]"
      ]
     },
     "execution_count": 213,
     "metadata": {},
     "output_type": "execute_result"
    }
   ],
   "source": [
    "discount = []\n",
    "\n",
    "for i in soup.find_all('div', class_ = \"Card__BaseCard-sc-b3n78k-0 iJCKg NewProductCard__DiscountRow-sc-j0e7tu-15 kUcVjG NewProductCard__DiscountRow-sc-j0e7tu-15 kUcVjG\"):\n",
    "    discount.append(i.text.split(\" \")[0])\n",
    "\n",
    "discount  "
   ]
  },
  {
   "cell_type": "code",
   "execution_count": 223,
   "id": "d10919d5",
   "metadata": {},
   "outputs": [],
   "source": [
    "import pandas as pd\n",
    "\n",
    "df = pd.DataFrame(data = {'Name' : name, 'Price' : price, 'Discount' : discount})"
   ]
  },
  {
   "cell_type": "code",
   "execution_count": 224,
   "id": "756be104",
   "metadata": {},
   "outputs": [
    {
     "data": {
      "text/html": [
       "<div>\n",
       "<style scoped>\n",
       "    .dataframe tbody tr th:only-of-type {\n",
       "        vertical-align: middle;\n",
       "    }\n",
       "\n",
       "    .dataframe tbody tr th {\n",
       "        vertical-align: top;\n",
       "    }\n",
       "\n",
       "    .dataframe thead th {\n",
       "        text-align: right;\n",
       "    }\n",
       "</style>\n",
       "<table border=\"1\" class=\"dataframe\">\n",
       "  <thead>\n",
       "    <tr style=\"text-align: right;\">\n",
       "      <th></th>\n",
       "      <th>Name</th>\n",
       "      <th>Price</th>\n",
       "      <th>Discount</th>\n",
       "    </tr>\n",
       "  </thead>\n",
       "  <tbody>\n",
       "  </tbody>\n",
       "</table>\n",
       "</div>"
      ],
      "text/plain": [
       "Empty DataFrame\n",
       "Columns: [Name, Price, Discount]\n",
       "Index: []"
      ]
     },
     "execution_count": 224,
     "metadata": {},
     "output_type": "execute_result"
    }
   ],
   "source": [
    "df"
   ]
  },
  {
   "cell_type": "markdown",
   "id": "bcd4ce1b",
   "metadata": {},
   "source": [
    "Write a python program to scrape cricket rankings from icc-cricket.com. You have to scrape:\n",
    "a) Top 10 ODI teams in men’s cricket along with the records for matches, points and rating.\n",
    "b) Top 10 ODI Batsmen along with the records of their team and rating.\n",
    "c) Top 10 ODI bowlers along with the records of their team and rating."
   ]
  },
  {
   "cell_type": "markdown",
   "id": "27135998",
   "metadata": {},
   "source": [
    " a.)Top 10 ODI teams in men’s cricket along with the records for matches, points and rating"
   ]
  },
  {
   "cell_type": "code",
   "execution_count": 28,
   "id": "587b3518",
   "metadata": {},
   "outputs": [],
   "source": [
    "from bs4 import BeautifulSoup\n",
    "import requests\n",
    "\n",
    "url = (\"https://www.icc-cricket.com/rankings/team-rankings/mens/odi\")\n",
    "r = requests.get(url)\n",
    "data = BeautifulSoup(r.text, 'html.parser')"
   ]
  },
  {
   "cell_type": "code",
   "execution_count": 31,
   "id": "7a846181",
   "metadata": {},
   "outputs": [],
   "source": [
    "men_matches = []\n",
    "for i in data.find_all(\"div\", class_=\"si-table-data si-matches\"):\n",
    "    men_matches.append(i.text)\n",
    "    men_matches\n",
    "                       "
   ]
  },
  {
   "cell_type": "code",
   "execution_count": 32,
   "id": "cb3cc21c",
   "metadata": {},
   "outputs": [
    {
     "data": {
      "text/plain": [
       "[]"
      ]
     },
     "execution_count": 32,
     "metadata": {},
     "output_type": "execute_result"
    }
   ],
   "source": [
    "men_matches[1:11]"
   ]
  },
  {
   "cell_type": "code",
   "execution_count": 33,
   "id": "13a5f2a3",
   "metadata": {},
   "outputs": [],
   "source": [
    "men_points = []\n",
    "for i in data.find_all(\"div\", class_=\"si-table-data si-pts\"):\n",
    "    men_points.append(i.text)\n",
    "    men_points"
   ]
  },
  {
   "cell_type": "code",
   "execution_count": 34,
   "id": "9b152000",
   "metadata": {},
   "outputs": [
    {
     "data": {
      "text/plain": [
       "[]"
      ]
     },
     "execution_count": 34,
     "metadata": {},
     "output_type": "execute_result"
    }
   ],
   "source": [
    "men_points[1:11]"
   ]
  },
  {
   "cell_type": "code",
   "execution_count": 38,
   "id": "50ead94f",
   "metadata": {},
   "outputs": [],
   "source": [
    "men_rating = []\n",
    "for i in data.find_all(\"span\", class_=\"si-text\"):\n",
    "    men_rating.append(i.text)\n",
    "    men_rating"
   ]
  },
  {
   "cell_type": "code",
   "execution_count": 39,
   "id": "cac760a1",
   "metadata": {},
   "outputs": [
    {
     "data": {
      "text/plain": [
       "[]"
      ]
     },
     "execution_count": 39,
     "metadata": {},
     "output_type": "execute_result"
    }
   ],
   "source": [
    "men_rating[1:11]"
   ]
  },
  {
   "cell_type": "code",
   "execution_count": 42,
   "id": "8d3956fa",
   "metadata": {},
   "outputs": [],
   "source": [
    "import pandas as pd\n",
    "\n",
    "df = pd.DataFrame(data = {'men_matches' : men_matches, 'men_points' : men_points, 'men_rating' : men_rating})"
   ]
  },
  {
   "cell_type": "code",
   "execution_count": 43,
   "id": "0c516349",
   "metadata": {},
   "outputs": [
    {
     "data": {
      "text/html": [
       "<div>\n",
       "<style scoped>\n",
       "    .dataframe tbody tr th:only-of-type {\n",
       "        vertical-align: middle;\n",
       "    }\n",
       "\n",
       "    .dataframe tbody tr th {\n",
       "        vertical-align: top;\n",
       "    }\n",
       "\n",
       "    .dataframe thead th {\n",
       "        text-align: right;\n",
       "    }\n",
       "</style>\n",
       "<table border=\"1\" class=\"dataframe\">\n",
       "  <thead>\n",
       "    <tr style=\"text-align: right;\">\n",
       "      <th></th>\n",
       "      <th>men_matches</th>\n",
       "      <th>men_points</th>\n",
       "      <th>men_rating</th>\n",
       "    </tr>\n",
       "  </thead>\n",
       "  <tbody>\n",
       "  </tbody>\n",
       "</table>\n",
       "</div>"
      ],
      "text/plain": [
       "Empty DataFrame\n",
       "Columns: [men_matches, men_points, men_rating]\n",
       "Index: []"
      ]
     },
     "execution_count": 43,
     "metadata": {},
     "output_type": "execute_result"
    }
   ],
   "source": [
    "df"
   ]
  },
  {
   "cell_type": "markdown",
   "id": "9d386ee2",
   "metadata": {},
   "source": [
    "b.) Top 10 ODI Batsmen along with the records of their team and rating."
   ]
  },
  {
   "cell_type": "code",
   "execution_count": 44,
   "id": "028c8399",
   "metadata": {},
   "outputs": [],
   "source": [
    "from bs4 import BeautifulSoup\n",
    "import requests\n",
    "\n",
    "url = (\"https://www.icc-cricket.com/rankings/team-rankings/mens/odi\")\n",
    "r = requests.get(url)\n",
    "data = BeautifulSoup(r.text, 'html.parser')"
   ]
  },
  {
   "cell_type": "code",
   "execution_count": 45,
   "id": "86564f35",
   "metadata": {},
   "outputs": [],
   "source": [
    "Batesmen_team = []\n",
    "for i in data.find_all(\"div\", class_=\"si-table-data si-team\"):\n",
    "    Batesmen_team.append(i.text)\n",
    "    Batesmen_team\n",
    "                "
   ]
  },
  {
   "cell_type": "code",
   "execution_count": 46,
   "id": "48948e70",
   "metadata": {},
   "outputs": [
    {
     "data": {
      "text/plain": [
       "[]"
      ]
     },
     "execution_count": 46,
     "metadata": {},
     "output_type": "execute_result"
    }
   ],
   "source": [
    "Batesmen_team[1:11]"
   ]
  },
  {
   "cell_type": "code",
   "execution_count": 48,
   "id": "7905deeb",
   "metadata": {},
   "outputs": [],
   "source": [
    "Batesmen_rating = []\n",
    "for i in data.find_all(\"div\", class_=\"si-table-data si-rating\"):\n",
    "    Batesmen_rating.append(i.text)\n",
    "    Batesmen_rating\n",
    "                "
   ]
  },
  {
   "cell_type": "code",
   "execution_count": 49,
   "id": "d46859dc",
   "metadata": {},
   "outputs": [
    {
     "data": {
      "text/plain": [
       "[]"
      ]
     },
     "execution_count": 49,
     "metadata": {},
     "output_type": "execute_result"
    }
   ],
   "source": [
    "Batesmen_rating[1:11]"
   ]
  },
  {
   "cell_type": "code",
   "execution_count": 50,
   "id": "44bfba42",
   "metadata": {},
   "outputs": [],
   "source": [
    "import pandas as pd\n",
    "\n",
    "df = pd.DataFrame(data = {'Batesmen_team' : Batesmen_team, 'Batesmen_rating' : Batesmen_rating})"
   ]
  },
  {
   "cell_type": "code",
   "execution_count": 51,
   "id": "fcab88b0",
   "metadata": {},
   "outputs": [
    {
     "data": {
      "text/html": [
       "<div>\n",
       "<style scoped>\n",
       "    .dataframe tbody tr th:only-of-type {\n",
       "        vertical-align: middle;\n",
       "    }\n",
       "\n",
       "    .dataframe tbody tr th {\n",
       "        vertical-align: top;\n",
       "    }\n",
       "\n",
       "    .dataframe thead th {\n",
       "        text-align: right;\n",
       "    }\n",
       "</style>\n",
       "<table border=\"1\" class=\"dataframe\">\n",
       "  <thead>\n",
       "    <tr style=\"text-align: right;\">\n",
       "      <th></th>\n",
       "      <th>Batesmen_team</th>\n",
       "      <th>Batesmen_rating</th>\n",
       "    </tr>\n",
       "  </thead>\n",
       "  <tbody>\n",
       "  </tbody>\n",
       "</table>\n",
       "</div>"
      ],
      "text/plain": [
       "Empty DataFrame\n",
       "Columns: [Batesmen_team, Batesmen_rating]\n",
       "Index: []"
      ]
     },
     "execution_count": 51,
     "metadata": {},
     "output_type": "execute_result"
    }
   ],
   "source": [
    "df"
   ]
  },
  {
   "cell_type": "markdown",
   "id": "b16b8f17",
   "metadata": {},
   "source": [
    " c) Top 10 ODI bowlers along with the records of their team and rating."
   ]
  },
  {
   "cell_type": "code",
   "execution_count": 59,
   "id": "a056ccf9",
   "metadata": {},
   "outputs": [],
   "source": [
    "from bs4 import BeautifulSoup\n",
    "import requests\n",
    "\n",
    "url = (\"https://www.icc-cricket.com/rankings/team-rankings/mens/odi\")\n",
    "r = requests.get(url)\n",
    "data = BeautifulSoup(r.text, 'html.parser')"
   ]
  },
  {
   "cell_type": "code",
   "execution_count": 60,
   "id": "6c827494",
   "metadata": {},
   "outputs": [],
   "source": [
    "Bowlersmen_team = []\n",
    "for i in data.find_all(\"div\",class_=\"si-table-data si-team\"):\n",
    "    Bowlersmen_team.append(i.text)\n",
    "    Bowlersmen_team"
   ]
  },
  {
   "cell_type": "code",
   "execution_count": 61,
   "id": "da3625c4",
   "metadata": {},
   "outputs": [
    {
     "data": {
      "text/plain": [
       "[]"
      ]
     },
     "execution_count": 61,
     "metadata": {},
     "output_type": "execute_result"
    }
   ],
   "source": [
    "Bowlersmen_team[:10]"
   ]
  },
  {
   "cell_type": "code",
   "execution_count": 62,
   "id": "7288b62c",
   "metadata": {},
   "outputs": [],
   "source": [
    "Bowlersmen_rating = []\n",
    "for i in data.find_all(\"div\",class_=\"si-table-data si-rating\"):\n",
    "    Bowlersmen_rating.append(i.text)\n",
    "    Bowlersmen_rating"
   ]
  },
  {
   "cell_type": "code",
   "execution_count": 64,
   "id": "5a0f923a",
   "metadata": {},
   "outputs": [
    {
     "data": {
      "text/plain": [
       "[]"
      ]
     },
     "execution_count": 64,
     "metadata": {},
     "output_type": "execute_result"
    }
   ],
   "source": [
    "Bowlersmen_rating[:10]"
   ]
  },
  {
   "cell_type": "code",
   "execution_count": 65,
   "id": "995e963b",
   "metadata": {},
   "outputs": [],
   "source": [
    "import pandas as pd\n",
    "\n",
    "df = pd.DataFrame(data = {'Bowlersmen_team' : Bowlersmen_team, 'Bowlersmen_rating' : Bowlersmen_rating})"
   ]
  },
  {
   "cell_type": "code",
   "execution_count": 66,
   "id": "2cb7a8e3",
   "metadata": {},
   "outputs": [
    {
     "data": {
      "text/html": [
       "<div>\n",
       "<style scoped>\n",
       "    .dataframe tbody tr th:only-of-type {\n",
       "        vertical-align: middle;\n",
       "    }\n",
       "\n",
       "    .dataframe tbody tr th {\n",
       "        vertical-align: top;\n",
       "    }\n",
       "\n",
       "    .dataframe thead th {\n",
       "        text-align: right;\n",
       "    }\n",
       "</style>\n",
       "<table border=\"1\" class=\"dataframe\">\n",
       "  <thead>\n",
       "    <tr style=\"text-align: right;\">\n",
       "      <th></th>\n",
       "      <th>Bowlersmen_team</th>\n",
       "      <th>Bowlersmen_rating</th>\n",
       "    </tr>\n",
       "  </thead>\n",
       "  <tbody>\n",
       "  </tbody>\n",
       "</table>\n",
       "</div>"
      ],
      "text/plain": [
       "Empty DataFrame\n",
       "Columns: [Bowlersmen_team, Bowlersmen_rating]\n",
       "Index: []"
      ]
     },
     "execution_count": 66,
     "metadata": {},
     "output_type": "execute_result"
    }
   ],
   "source": [
    "df"
   ]
  },
  {
   "cell_type": "markdown",
   "id": "d6d01b84",
   "metadata": {},
   "source": [
    "Write a python program to scrape details of all the posts from https://www.patreon.com/coreyms .Scrape the\n",
    "heading, date, content and the likes for the video from the link for the youtube video from the post"
   ]
  },
  {
   "cell_type": "code",
   "execution_count": 11,
   "id": "259008d8",
   "metadata": {},
   "outputs": [],
   "source": [
    "from bs4 import BeautifulSoup\n",
    "import requests\n",
    "\n",
    "url = (\" https://www.patreon.com/coreyms \")\n",
    "r = requests.get(url)\n",
    "data = BeautifulSoup(r.text, 'html.parser')"
   ]
  },
  {
   "cell_type": "code",
   "execution_count": 12,
   "id": "0c35601b",
   "metadata": {},
   "outputs": [],
   "source": [
    "heading = []\n",
    "for i in data.find_all(\"h2\",{\"class\":\"sc-dlVxhl gJYudr\"}):\n",
    "    heading.append(i.text)\n",
    "    heading"
   ]
  },
  {
   "cell_type": "code",
   "execution_count": 13,
   "id": "6e15cdd9",
   "metadata": {},
   "outputs": [
    {
     "data": {
      "text/plain": [
       "[]"
      ]
     },
     "execution_count": 13,
     "metadata": {},
     "output_type": "execute_result"
    }
   ],
   "source": [
    "heading[:10]"
   ]
  },
  {
   "cell_type": "code",
   "execution_count": 15,
   "id": "cd7223ef",
   "metadata": {},
   "outputs": [],
   "source": [
    "from bs4 import BeautifulSoup\n",
    "import requests\n",
    "\n",
    "url = (\" https://www.patreon.com/coreyms \")\n",
    "r = requests.get(url)\n",
    "data = BeautifulSoup(r.text, 'html.parser')"
   ]
  },
  {
   "cell_type": "code",
   "execution_count": 17,
   "id": "d842127f",
   "metadata": {},
   "outputs": [],
   "source": [
    "date = []\n",
    "for i in data.find_all(\"time\",{\"class\":\"sc-mz8f26-0 gvyUof\"}):\n",
    "    date.append(i.text)\n",
    "    date"
   ]
  },
  {
   "cell_type": "code",
   "execution_count": 18,
   "id": "2cf68f51",
   "metadata": {},
   "outputs": [
    {
     "data": {
      "text/plain": [
       "[]"
      ]
     },
     "execution_count": 18,
     "metadata": {},
     "output_type": "execute_result"
    }
   ],
   "source": [
    "date[:]"
   ]
  },
  {
   "cell_type": "code",
   "execution_count": 19,
   "id": "b488686e",
   "metadata": {},
   "outputs": [],
   "source": [
    "content = []\n",
    "https://www.nobroker.in/ "
   ]
  },
  {
   "cell_type": "code",
   "execution_count": 20,
   "id": "f5153de0",
   "metadata": {},
   "outputs": [
    {
     "data": {
      "text/plain": [
       "[]"
      ]
     },
     "execution_count": 20,
     "metadata": {},
     "output_type": "execute_result"
    }
   ],
   "source": [
    "content[:]"
   ]
  },
  {
   "cell_type": "code",
   "execution_count": 27,
   "id": "c13fb9c6",
   "metadata": {},
   "outputs": [],
   "source": [
    "like = []\n",
    "for i in data.find_all('span',{\"class\":\"sc-dJjYzT dHaHzA\"}):\n",
    "    like.append(i.text)\n",
    "    like"
   ]
  },
  {
   "cell_type": "code",
   "execution_count": 23,
   "id": "aa47d5ba",
   "metadata": {},
   "outputs": [
    {
     "data": {
      "text/plain": [
       "[]"
      ]
     },
     "execution_count": 23,
     "metadata": {},
     "output_type": "execute_result"
    }
   ],
   "source": [
    "like[:]"
   ]
  },
  {
   "cell_type": "code",
   "execution_count": 24,
   "id": "e0c64104",
   "metadata": {},
   "outputs": [],
   "source": [
    "import pandas as pd\n",
    "\n",
    "df = pd.DataFrame(data = {'heading' : heading, 'date' : date, \"content\":content, \"like\" : like })"
   ]
  },
  {
   "cell_type": "code",
   "execution_count": 25,
   "id": "4011d86e",
   "metadata": {},
   "outputs": [
    {
     "data": {
      "text/html": [
       "<div>\n",
       "<style scoped>\n",
       "    .dataframe tbody tr th:only-of-type {\n",
       "        vertical-align: middle;\n",
       "    }\n",
       "\n",
       "    .dataframe tbody tr th {\n",
       "        vertical-align: top;\n",
       "    }\n",
       "\n",
       "    .dataframe thead th {\n",
       "        text-align: right;\n",
       "    }\n",
       "</style>\n",
       "<table border=\"1\" class=\"dataframe\">\n",
       "  <thead>\n",
       "    <tr style=\"text-align: right;\">\n",
       "      <th></th>\n",
       "      <th>heading</th>\n",
       "      <th>date</th>\n",
       "      <th>content</th>\n",
       "      <th>like</th>\n",
       "    </tr>\n",
       "  </thead>\n",
       "  <tbody>\n",
       "  </tbody>\n",
       "</table>\n",
       "</div>"
      ],
      "text/plain": [
       "Empty DataFrame\n",
       "Columns: [heading, date, content, like]\n",
       "Index: []"
      ]
     },
     "execution_count": 25,
     "metadata": {},
     "output_type": "execute_result"
    }
   ],
   "source": [
    "df"
   ]
  },
  {
   "cell_type": "markdown",
   "id": "2b0ef872",
   "metadata": {},
   "source": [
    "5) Write a python program to scrape house details from mentioned URL. It should include house title, location,\n",
    "area, EMI and price from https://www.nobroker.in/ .Enter three localities which are Indira Nagar, Jayanagar,\n",
    "Rajaji Nagar."
   ]
  },
  {
   "cell_type": "code",
   "execution_count": 4,
   "id": "68c1da48",
   "metadata": {},
   "outputs": [],
   "source": [
    "from bs4 import BeautifulSoup\n",
    "import requests\n",
    "\n",
    "url = (\" https://www.nobroker.in/ \")\n",
    "r = requests.get(url)\n",
    "data = BeautifulSoup(r.text, 'html.parser')"
   ]
  },
  {
   "cell_type": "code",
   "execution_count": 5,
   "id": "b1399477",
   "metadata": {},
   "outputs": [],
   "source": [
    "house_title = []\n",
    "for i in data.find_all('h2',class_=\"heading-6 font-semi-bold nb__25Cl7\"):\n",
    "    house_title.append(i.text)\n",
    "    house_title"
   ]
  },
  {
   "cell_type": "code",
   "execution_count": 6,
   "id": "ffa0e089",
   "metadata": {},
   "outputs": [
    {
     "data": {
      "text/plain": [
       "[]"
      ]
     },
     "execution_count": 6,
     "metadata": {},
     "output_type": "execute_result"
    }
   ],
   "source": [
    "house_title[:]"
   ]
  },
  {
   "cell_type": "code",
   "execution_count": 12,
   "id": "a762c0d6",
   "metadata": {},
   "outputs": [],
   "source": [
    "location = []\n",
    "for i in data.find_all('div',class_=\"nb__nXU01\"):\n",
    "    location.append(i.text)\n",
    "    location"
   ]
  },
  {
   "cell_type": "code",
   "execution_count": 13,
   "id": "dbd3787a",
   "metadata": {},
   "outputs": [
    {
     "data": {
      "text/plain": [
       "[]"
      ]
     },
     "execution_count": 13,
     "metadata": {},
     "output_type": "execute_result"
    }
   ],
   "source": [
    "location[:]"
   ]
  },
  {
   "cell_type": "code",
   "execution_count": 8,
   "id": "ca5a60ab",
   "metadata": {},
   "outputs": [],
   "source": [
    "area = []\n",
    "for i in data.find_all('div',class_=\"nb_FfHqA\"):\n",
    "    area.append(i.text)\n",
    "    area"
   ]
  },
  {
   "cell_type": "code",
   "execution_count": 9,
   "id": "67a1885b",
   "metadata": {},
   "outputs": [
    {
     "data": {
      "text/plain": [
       "[]"
      ]
     },
     "execution_count": 9,
     "metadata": {},
     "output_type": "execute_result"
    }
   ],
   "source": [
    "area[:]"
   ]
  },
  {
   "cell_type": "code",
   "execution_count": 10,
   "id": "48a26cdf",
   "metadata": {},
   "outputs": [],
   "source": [
    "EMI= []\n",
    "for i in data.find_all('div',class_=\"font-semi-bold heading-6\"):\n",
    "    EMI.append(i.text)\n",
    "    EMI"
   ]
  },
  {
   "cell_type": "code",
   "execution_count": 11,
   "id": "befbb2d9",
   "metadata": {},
   "outputs": [
    {
     "data": {
      "text/plain": [
       "[]"
      ]
     },
     "execution_count": 11,
     "metadata": {},
     "output_type": "execute_result"
    }
   ],
   "source": [
    "EMI[:]"
   ]
  },
  {
   "cell_type": "code",
   "execution_count": 14,
   "id": "3439816d",
   "metadata": {},
   "outputs": [],
   "source": [
    "import pandas as pd\n",
    "\n",
    "df = pd.DataFrame(data = {'house_title' : house_title, 'location' : location, \"area\":area, \"EMI\" : EMI })"
   ]
  },
  {
   "cell_type": "code",
   "execution_count": 15,
   "id": "d6a8eab5",
   "metadata": {},
   "outputs": [
    {
     "data": {
      "text/html": [
       "<div>\n",
       "<style scoped>\n",
       "    .dataframe tbody tr th:only-of-type {\n",
       "        vertical-align: middle;\n",
       "    }\n",
       "\n",
       "    .dataframe tbody tr th {\n",
       "        vertical-align: top;\n",
       "    }\n",
       "\n",
       "    .dataframe thead th {\n",
       "        text-align: right;\n",
       "    }\n",
       "</style>\n",
       "<table border=\"1\" class=\"dataframe\">\n",
       "  <thead>\n",
       "    <tr style=\"text-align: right;\">\n",
       "      <th></th>\n",
       "      <th>house_title</th>\n",
       "      <th>location</th>\n",
       "      <th>area</th>\n",
       "      <th>EMI</th>\n",
       "    </tr>\n",
       "  </thead>\n",
       "  <tbody>\n",
       "  </tbody>\n",
       "</table>\n",
       "</div>"
      ],
      "text/plain": [
       "Empty DataFrame\n",
       "Columns: [house_title, location, area, EMI]\n",
       "Index: []"
      ]
     },
     "execution_count": 15,
     "metadata": {},
     "output_type": "execute_result"
    }
   ],
   "source": [
    "df"
   ]
  },
  {
   "cell_type": "markdown",
   "id": "33062076",
   "metadata": {},
   "source": [
    ") Write a python program to scrape first 10 product details which include product name , price , Image URL from\n",
    "https://www.bewakoof.com/bestseller?sort=popular"
   ]
  },
  {
   "cell_type": "code",
   "execution_count": 18,
   "id": "491e294a",
   "metadata": {},
   "outputs": [],
   "source": [
    "from bs4 import BeautifulSoup\n",
    "import requests\n",
    "\n",
    "url = ('https://www.bewakoof.com/bestseller?sort=popular')\n",
    "r = requests.get(url)\n",
    "data = BeautifulSoup(r.text, 'html.parser')\n",
    "products = data.find_all(\"div\", class_=\"productCardBox\")"
   ]
  },
  {
   "cell_type": "code",
   "execution_count": 19,
   "id": "a9a1828d",
   "metadata": {},
   "outputs": [
    {
     "name": "stdout",
     "output_type": "stream",
     "text": [
      "Product 1:\n",
      "Name: None\n",
      "Price: None\n",
      "Image URL: https://images.bewakoof.com/t640/women-aop-regular-pyjama-604946-1702644020-1.jpg\n",
      "Product 2:\n",
      "Name: None\n",
      "Price: None\n",
      "Image URL: https://images.bewakoof.com/t640/women-s-black-pyjamas-581562-1707292627-1.jpg\n",
      "Product 3:\n",
      "Name: None\n",
      "Price: None\n",
      "Image URL: https://images.bewakoof.com/t640/jet-black-vest-210687-1659522825-1.jpg\n",
      "Product 4:\n",
      "Name: None\n",
      "Price: None\n",
      "Image URL: https://images.bewakoof.com/t640/women-s-black-boyfriend-t-shirt-103943-1655747735-1.jpg\n",
      "Product 5:\n",
      "Name: None\n",
      "Price: None\n",
      "Image URL: https://images.bewakoof.com/t640/men-s-black-batman-outline-logo-t-shirt-283889-1701423873-1.jpg\n",
      "Product 6:\n",
      "Name: None\n",
      "Price: None\n",
      "Image URL: https://images.bewakoof.com/t640/men-s-black-martin-garrix-colorful-graphic-printed-t-shirt-203045-1708954226-1.jpg\n",
      "Product 7:\n",
      "Name: None\n",
      "Price: None\n",
      "Image URL: https://images.bewakoof.com/t640/men-s-white-marvel-printed-t-shirt-390747-1705996158-1.jpg\n",
      "Product 8:\n",
      "Name: None\n",
      "Price: None\n",
      "Image URL: https://images.bewakoof.com/t640/men-s-white-t-shirt-105-1702967985-1.jpg\n",
      "Product 9:\n",
      "Name: None\n",
      "Price: None\n",
      "Image URL: https://images.bewakoof.com/t640/men-s-white-t-shirt-1093-1708356232-1.jpg\n",
      "Product 10:\n",
      "Name: None\n",
      "Price: None\n",
      "Image URL: https://images.bewakoof.com/t640/men-s-black-t-shirts-1094-1708612740-1.jpg\n"
     ]
    }
   ],
   "source": [
    "for i, product in enumerate(products[:10], 1):\n",
    "    product_name = product.find(\"h3\", {\"class\":\"a-size-base-plus a-color-base a-text-normal\"})\n",
    "    price = product.find(\"span\", {\"class\":\"a-price-whole\"})\n",
    "    image_url = product.find(\"img\")[\"src\"]\n",
    "\n",
    "    print(f\"Product {i}:\")\n",
    "    print(f\"Name: {product_name}\")\n",
    "    print(f\"Price: {price}\")\n",
    "    print(f\"Image URL: {image_url}\")"
   ]
  },
  {
   "cell_type": "code",
   "execution_count": 20,
   "id": "0b4caacd",
   "metadata": {},
   "outputs": [],
   "source": [
    "from bs4 import BeautifulSoup\n",
    "import requests\n",
    "import pandas as pd\n",
    "\n",
    "url = ('https://www.bewakoof.com/bestseller?sort=popular')\n",
    "r = requests.get(url)\n",
    "data = BeautifulSoup(r.text, 'html.parser')"
   ]
  },
  {
   "cell_type": "code",
   "execution_count": 30,
   "id": "b83489fe",
   "metadata": {},
   "outputs": [
    {
     "ename": "TypeError",
     "evalue": "list indices must be integers or slices, not str",
     "output_type": "error",
     "traceback": [
      "\u001b[1;31m---------------------------------------------------------------------------\u001b[0m",
      "\u001b[1;31mTypeError\u001b[0m                                 Traceback (most recent call last)",
      "Cell \u001b[1;32mIn[30], line 11\u001b[0m\n\u001b[0;32m      8\u001b[0m \u001b[38;5;28;01mfor\u001b[39;00m i \u001b[38;5;129;01min\u001b[39;00m data\u001b[38;5;241m.\u001b[39mfind_all(\u001b[38;5;124m\"\u001b[39m\u001b[38;5;124mspan\u001b[39m\u001b[38;5;124m\"\u001b[39m, {\u001b[38;5;124m\"\u001b[39m\u001b[38;5;124mclass\u001b[39m\u001b[38;5;124m\"\u001b[39m:\u001b[38;5;124m\"\u001b[39m\u001b[38;5;124ma-price-whole\u001b[39m\u001b[38;5;124m\"\u001b[39m}):\n\u001b[0;32m      9\u001b[0m         price\u001b[38;5;241m.\u001b[39mappend(i\u001b[38;5;241m.\u001b[39mtext)\n\u001b[1;32m---> 11\u001b[0m \u001b[38;5;28;01mfor\u001b[39;00m i \u001b[38;5;129;01min\u001b[39;00m data\u001b[38;5;241m.\u001b[39mfind_all(\u001b[38;5;124m\"\u001b[39m\u001b[38;5;124mimg\u001b[39m\u001b[38;5;124m\"\u001b[39m)[\u001b[38;5;124m\"\u001b[39m\u001b[38;5;124msrc\u001b[39m\u001b[38;5;124m\"\u001b[39m]:\n\u001b[0;32m     12\u001b[0m       image\u001b[38;5;241m.\u001b[39mappend(i\u001b[38;5;241m.\u001b[39mtext)                          \n\u001b[0;32m     14\u001b[0m df \u001b[38;5;241m=\u001b[39m pd\u001b[38;5;241m.\u001b[39mDataFrame(data \u001b[38;5;241m=\u001b[39m {\u001b[38;5;124m'\u001b[39m\u001b[38;5;124mproduct\u001b[39m\u001b[38;5;124m'\u001b[39m : product, \u001b[38;5;124m'\u001b[39m\u001b[38;5;124mprice\u001b[39m\u001b[38;5;124m'\u001b[39m : price, \u001b[38;5;124m\"\u001b[39m\u001b[38;5;124mimage_URL\u001b[39m\u001b[38;5;124m\"\u001b[39m:image_URL })\n",
      "\u001b[1;31mTypeError\u001b[0m: list indices must be integers or slices, not str"
     ]
    }
   ],
   "source": [
    "product=[]\n",
    "price=[]\n",
    "image_URL=[]\n",
    "\n",
    "for i in data.find_all(\"h3\", {\"class\":\"a-size-base-plus a-color-base a-text-normal\"}):\n",
    "        product.append(i.text)\n",
    "                       \n",
    "for i in data.find_all(\"span\", {\"class\":\"a-price-whole\"}):\n",
    "        price.append(i.text)\n",
    "                                \n",
    "for i in data.find_all(\"img\")[\"src\"]:\n",
    "      image.append(i.text)                          \n",
    "                                \n",
    "df = pd.DataFrame(data = {'product' : product, 'price' : price, \"image_URL\":image_URL })                               "
   ]
  },
  {
   "cell_type": "code",
   "execution_count": null,
   "id": "e987d6e7",
   "metadata": {},
   "outputs": [],
   "source": []
  }
 ],
 "metadata": {
  "kernelspec": {
   "display_name": "Python 3 (ipykernel)",
   "language": "python",
   "name": "python3"
  },
  "language_info": {
   "codemirror_mode": {
    "name": "ipython",
    "version": 3
   },
   "file_extension": ".py",
   "mimetype": "text/x-python",
   "name": "python",
   "nbconvert_exporter": "python",
   "pygments_lexer": "ipython3",
   "version": "3.11.3"
  }
 },
 "nbformat": 4,
 "nbformat_minor": 5
}
