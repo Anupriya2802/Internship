{
 "cells": [
  {
   "cell_type": "code",
   "execution_count": null,
   "id": "daf4376c",
   "metadata": {},
   "outputs": [],
   "source": [
    "import pandas as pd\n",
    "import selenium\n",
    "from bs4 import BeautifulSoup\n",
    "import time\n",
    "from selenium import webdriver\n",
    "import requests\n",
    "import re\n",
    "from selenium.common.exceptions import NoSuchElementException, StaleElementReferenceException\n",
    "from selenium.webdriver.support.ui import WebDriverWait\n",
    "from selenium.webdriver.common.by import BY"
   ]
  },
  {
   "cell_type": "markdown",
   "id": "53c1a586",
   "metadata": {},
   "source": [
    "1. Scrape the details of most viewed videos on YouTube from Wikipedia. Url\n",
    "= https://en.wikipedia.org/wiki/List_of_most-viewed_YouTube_videos You need to find following details: A)\n",
    "Rank\n",
    "B) Name\n",
    "C) Artist\n",
    "D) Upload date\n",
    "E) Views "
   ]
  },
  {
   "cell_type": "code",
   "execution_count": null,
   "id": "7049cb53",
   "metadata": {},
   "outputs": [],
   "source": [
    "driver=webdriver.Chrome(r\"C:/Users/HP/Downloads/chromedriver_win32 (1)/chromedriver.exe\")"
   ]
  },
  {
   "cell_type": "code",
   "execution_count": null,
   "id": "a114005c",
   "metadata": {},
   "outputs": [],
   "source": [
    "driver.get(\" https://en.wikipedia.org/wiki/List_of_most-viewed_YouTube_videos \")"
   ]
  },
  {
   "cell_type": "code",
   "execution_count": null,
   "id": "6a1a40a7",
   "metadata": {},
   "outputs": [],
   "source": [
    "Rank = []\n",
    "Name = []\n",
    "Artist = []\n",
    "Date = []\n",
    "Views = []"
   ]
  },
  {
   "cell_type": "code",
   "execution_count": null,
   "id": "e9cf7904",
   "metadata": {},
   "outputs": [],
   "source": [
    "#Rank\n",
    "try:\n",
    "    for i in driver.find_elements(By.xpath,\"//*[@id=\"mw-content-text\"]/div[1]/table[2]/thead/tr/th[5]\"):\n",
    "        Rank.append(i.text)\n",
    "except NoSuchElementException:\n",
    "    Rank.append(\"-\")"
   ]
  },
  {
   "cell_type": "code",
   "execution_count": null,
   "id": "e7d8ea6a",
   "metadata": {},
   "outputs": [],
   "source": [
    "#Name\n",
    "try:\n",
    "    for i in driver.find_elements(BY.xpath,\"//*[@id=\"mw-content-text\"]/div[1]/table[2]/thead/tr/th[1]\"):\n",
    "        Name.append(i.text)\n",
    "except NoSuchElementException:\n",
    "    Name.append(\"-\")"
   ]
  },
  {
   "cell_type": "code",
   "execution_count": null,
   "id": "234f72e6",
   "metadata": {},
   "outputs": [],
   "source": [
    "#Artist\n",
    "try:\n",
    "    for i in driver.find_elements(BY.xpath,\"//*[@id=\"mw-content-text\"]/div[1]/table[2]/thead/tr/th[2]\"):\n",
    "        Artist.append(i.text)\n",
    "except NoSuchElementException:\n",
    "    Artist.append(\"-\")"
   ]
  },
  {
   "cell_type": "code",
   "execution_count": null,
   "id": "5dd8056b",
   "metadata": {},
   "outputs": [],
   "source": [
    "#date\n",
    "try:\n",
    "    for i in driver.find_elements(By.xpath,\"//*[@id=\"mw-content-text\"]/div[1]/table[2]/thead/tr/th[4]\"):\n",
    "        Date.append(i.text)\n",
    "except NoSuchElementException:\n",
    "    Date.append(\"-\")\n",
    "        "
   ]
  },
  {
   "cell_type": "code",
   "execution_count": null,
   "id": "69bd9355",
   "metadata": {},
   "outputs": [],
   "source": [
    "#views\n",
    "try:\n",
    "    for i in driver.find_elements(By.xpath,\"//*[@id=\"mw-content-text\"]/div[1]/table[2]/thead/tr/th[3]\"):\n",
    "        Views.append(i.text)\n",
    "except NoSuchElementException:\n",
    "    Views.append(\"-\")"
   ]
  },
  {
   "cell_type": "code",
   "execution_count": null,
   "id": "196828f9",
   "metadata": {},
   "outputs": [],
   "source": [
    "print(len(Rank),\n",
    "len(Name),\n",
    "len(Artist),\n",
    "len(Date),\n",
    "len(Views))"
   ]
  },
  {
   "cell_type": "code",
   "execution_count": null,
   "id": "1f63ca74",
   "metadata": {},
   "outputs": [],
   "source": [
    "Wiki = pd.DataFrame({})\n",
    "Wiki['Rank'] = Rank\n",
    "Wiki['Name'] = Name\n",
    "Wiki['Artist'] = Artist\n",
    "Wiki['Upload Date'] = Date\n",
    "Wiki['Views (in Billions)'] = Views"
   ]
  },
  {
   "cell_type": "code",
   "execution_count": null,
   "id": "b0c2876d",
   "metadata": {},
   "outputs": [],
   "source": [
    "driver.close()"
   ]
  },
  {
   "cell_type": "markdown",
   "id": "650d60a6",
   "metadata": {},
   "source": [
    "2. Scrape the details team India’s international fixtures from bcci.tv.\n",
    "Url = https://www.bcci.tv/.\n",
    "You need to find following details:\n",
    "A) Series\n",
    "B) Place\n",
    "C) Date\n",
    "D) Time\n",
    "Note: - From bcci.tv home page you have reach to the international fixture page through code. "
   ]
  },
  {
   "cell_type": "code",
   "execution_count": null,
   "id": "3b440d79",
   "metadata": {},
   "outputs": [],
   "source": [
    "driver=webdriver.Chrome(r\"C:/Users/HP/Downloads/chromedriver_win32 (1)/chromedriver.exe\")"
   ]
  },
  {
   "cell_type": "code",
   "execution_count": null,
   "id": "0156202e",
   "metadata": {},
   "outputs": [],
   "source": [
    "driver.get(\"https://www.bcci.tv/\")"
   ]
  },
  {
   "cell_type": "code",
   "execution_count": null,
   "id": "c53fe85a",
   "metadata": {},
   "outputs": [],
   "source": [
    "btn=driver.find_element_by_xpath(\"//*[@id=\"imw-international-men\"]/a[2]\")\n",
    "driver.get(btn.get_attribute(\"href\"))\n",
    "time.sleep(3)"
   ]
  },
  {
   "cell_type": "code",
   "execution_count": null,
   "id": "76096147",
   "metadata": {},
   "outputs": [],
   "source": [
    "Series = []\n",
    "Place = []\n",
    "Date = []\n",
    "Time = []"
   ]
  },
  {
   "cell_type": "code",
   "execution_count": null,
   "id": "c348c951",
   "metadata": {},
   "outputs": [],
   "source": [
    "#series\n",
    "for i in driver.find_elements(By.xpath,\"//*[@id=\"match-card\"]/div[1]/div/div/h5\"):\n",
    "    Series.append(i.text)"
   ]
  },
  {
   "cell_type": "code",
   "execution_count": null,
   "id": "e0480893",
   "metadata": {},
   "outputs": [],
   "source": [
    "for i in driver.find_elements(By_xpath,\"//*[@id=\"match-card\"]/div[2]/div[1]/span[1]\"):\n",
    "    Place.append(i.text)"
   ]
  },
  {
   "cell_type": "code",
   "execution_count": null,
   "id": "f0b6d1f4",
   "metadata": {},
   "outputs": [],
   "source": [
    "for i in driver.find_elements(By.xpath,\"//*[@id=\"match-card\"]/div[1]/div/div/div[2]/div[1]\"):\n",
    "    Date.append(i.text)"
   ]
  },
  {
   "cell_type": "code",
   "execution_count": null,
   "id": "1d2dd2e6",
   "metadata": {},
   "outputs": [],
   "source": [
    "#Time\n",
    "for i in driver.find_elements(By.xpath,\"//*[@id=\"match-card\"]/div[1]/div/div/div[2]/div[2]\"):\n",
    "    Time.append(i.text)"
   ]
  },
  {
   "cell_type": "code",
   "execution_count": null,
   "id": "f72271b0",
   "metadata": {},
   "outputs": [],
   "source": [
    "fixture=pd.DataFrame({\"Series\": Series,\n",
    "                          \"Place\": Place,\n",
    "                          \"Date\": date,\n",
    "                          \"Time\": Time})\n",
    "fixture"
   ]
  },
  {
   "cell_type": "code",
   "execution_count": null,
   "id": "8d2c4d75",
   "metadata": {},
   "outputs": [],
   "source": [
    "len(url)"
   ]
  },
  {
   "cell_type": "code",
   "execution_count": null,
   "id": "41d5ec50",
   "metadata": {},
   "outputs": [],
   "source": [
    "driver.close()"
   ]
  },
  {
   "cell_type": "markdown",
   "id": "fc5a9507",
   "metadata": {},
   "source": [
    "3. Scrape the details of State-wise GDP of India from statisticstime.com.\n",
    "Url = http://statisticstimes.com/\n",
    "You have to find following details: A) Rank\n",
    "B) State\n",
    "C) GSDP(18-19)- at current prices\n",
    "D) GSDP(19-20)- at current prices\n",
    "E) Share(18-19)\n",
    "F) GDP($ billion)\n",
    "Note: - From statisticstimes home page you have to reach to economy page through code. "
   ]
  },
  {
   "cell_type": "code",
   "execution_count": null,
   "id": "1507663a",
   "metadata": {},
   "outputs": [],
   "source": [
    "driver=webdriver.Chrome(r\"C:/Users/HP/Downloads/chromedriver_win32 (1)/chromedriver.exe\")"
   ]
  },
  {
   "cell_type": "code",
   "execution_count": null,
   "id": "4994f8f8",
   "metadata": {},
   "outputs": [],
   "source": [
    "driver.get(\" http://statisticstimes.com/\")"
   ]
  },
  {
   "cell_type": "code",
   "execution_count": null,
   "id": "b11e4798",
   "metadata": {},
   "outputs": [],
   "source": [
    "driver.find_element(By.xpath,\"//*[@id=\"top\"]/div[2]/div[2]/button\")\n",
    "driver.click()"
   ]
  },
  {
   "cell_type": "code",
   "execution_count": null,
   "id": "ae8b956e",
   "metadata": {},
   "outputs": [],
   "source": [
    "driver.find_element(By.xpath,\"//*[@id=\"top\"]/div[2]/div[2]/div/a[3]\")\n",
    "driver.click()\n",
    "time.sleep(3)"
   ]
  },
  {
   "cell_type": "code",
   "execution_count": null,
   "id": "c70e42a7",
   "metadata": {},
   "outputs": [],
   "source": [
    "GDP = driver.find_element_by_xpath(\"/html/body/div[2]/div[2]/div[2]/ul/li[1]/a\")\n",
    "GDP.click()\n",
    "time.sleep(3)"
   ]
  },
  {
   "cell_type": "code",
   "execution_count": null,
   "id": "a74a9b5d",
   "metadata": {},
   "outputs": [],
   "source": [
    "Rank = []\n",
    "State = []\n",
    "GSDP1 = []\n",
    "GSDP2 = []\n",
    "Share = []\n",
    "GDP_billion = []"
   ]
  },
  {
   "cell_type": "code",
   "execution_count": null,
   "id": "324facea",
   "metadata": {},
   "outputs": [],
   "source": [
    "#Rank\n",
    "try:\n",
    "    for i in driver.find_elements(BY.xpath,\"//*[@id=\"table_id\"]/thead/tr[1]/th[1]\"):\n",
    "        Rank.append(i.text)\n",
    "except NoSuchElementException:\n",
    "    Rank.append(\"_\")"
   ]
  },
  {
   "cell_type": "code",
   "execution_count": null,
   "id": "50782f28",
   "metadata": {},
   "outputs": [],
   "source": [
    "#state\n",
    "try:\n",
    "    for i in driver.find_elements(By.xpath,\"//*[@id=\"table_id\"]/thead/tr[1]/th[2]\"):\n",
    "        State.append(i.text)\n",
    "except NoSuchElementException:\n",
    "    State.append(\"_\")"
   ]
  },
  {
   "cell_type": "code",
   "execution_count": null,
   "id": "7bb2401a",
   "metadata": {},
   "outputs": [],
   "source": [
    "#  GSDP at current price (19-20)\n",
    "try:\n",
    "    for i in driver.find_elements(By.xpath,\"//*[@id=\"table_id\"]/thead/tr[1]/th[3]\"):\n",
    "        GSDP1.append(i.text)\n",
    "except NoSuchElementException:\n",
    "    GSDP1.append(\"_\")"
   ]
  },
  {
   "cell_type": "code",
   "execution_count": null,
   "id": "61d565c1",
   "metadata": {},
   "outputs": [],
   "source": [
    "21-22//*[@id=\"table_id\"]/thead/tr[2]/th[8]"
   ]
  },
  {
   "cell_type": "code",
   "execution_count": null,
   "id": "378cd24b",
   "metadata": {},
   "outputs": [],
   "source": [
    "# GSDP at  current price (18-19)\n",
    "try:\n",
    "    for i in driver.find_elements(By.xpath,\"//*[@id=\"table_id\"]/thead/tr[1]/th[4]\"):\n",
    "        GSDP2.append(i.text)\n",
    "except NoSuchElementException:\n",
    "    GSDP2.append(\"_\")"
   ]
  },
  {
   "cell_type": "code",
   "execution_count": null,
   "id": "51cd3ee5",
   "metadata": {},
   "outputs": [],
   "source": []
  },
  {
   "cell_type": "code",
   "execution_count": null,
   "id": "4a3eebac",
   "metadata": {},
   "outputs": [],
   "source": [
    "# Share\n",
    "try:\n",
    "    for i in driver.find_elements_by_xpath(\"//*[@id=\"table_id\"]/thead/tr[1]/th[4]\"):\n",
    "        Share.append(i.text)\n",
    "except NoSuchElementException:\n",
    "    Share.append(\"_\")"
   ]
  },
  {
   "cell_type": "code",
   "execution_count": null,
   "id": "9a71ae33",
   "metadata": {},
   "outputs": [],
   "source": [
    "# GDP_billion\n",
    "try:\n",
    "    for i in driver.find_elements(By.xpath,\"//*[@id=\"table_id\"]/thead/tr[1]/th[5]\"):\n",
    "        GDP_billion.append(i.text)\n",
    "except NoSuchElementException:\n",
    "    GDP_billion.append(\"_\")"
   ]
  },
  {
   "cell_type": "code",
   "execution_count": null,
   "id": "b2066d18",
   "metadata": {},
   "outputs": [],
   "source": [
    "GDP = pd.DataFrame({})\n",
    "GDP['Rank'] = Rank\n",
    "GDP['State'] = State\n",
    "GDP['GSDP at current price (19-20)'] = GSDP1\n",
    "GDP['GSDP at current price (18-19)'] = GSDP2\n",
    "GDP['Share (18-19)'] = Share\n",
    "GDP['GDP($ billion)'] = GDP_billion\n",
    "GDP\n",
    "    "
   ]
  },
  {
   "cell_type": "code",
   "execution_count": null,
   "id": "a865581c",
   "metadata": {},
   "outputs": [],
   "source": [
    "driver.close()"
   ]
  },
  {
   "cell_type": "markdown",
   "id": "ffb6f3b8",
   "metadata": {},
   "source": [
    ". Scrape the details of trending repositories on Github.com.\n",
    "Url = https://github.com/\n",
    "You have to find the following details:\n",
    "A) Repository title\n",
    "B) Repository description\n",
    "C) Contributors count\n",
    "D) Language used . Note: - From the home page you have to click on the trending option from Explore menu through code."
   ]
  },
  {
   "cell_type": "code",
   "execution_count": null,
   "id": "ad88f5f7",
   "metadata": {},
   "outputs": [],
   "source": [
    "driver=webdriver.Chrome(r\"C:/Users/HP/Downloads/chromedriver_win32 (1)/chromedriver.exe\")"
   ]
  },
  {
   "cell_type": "code",
   "execution_count": null,
   "id": "f2ae7b58",
   "metadata": {},
   "outputs": [],
   "source": [
    "driver.get(\" https://github.com/ \")"
   ]
  },
  {
   "cell_type": "code",
   "execution_count": null,
   "id": "8988bcbb",
   "metadata": {},
   "outputs": [],
   "source": [
    "search = driver.find_element(By.xpath,\"/html/body/div[1]/header/div/div[2]/nav/ul/li[4]/details\")\n",
    "search.click()"
   ]
  },
  {
   "cell_type": "code",
   "execution_count": null,
   "id": "cae32ee1",
   "metadata": {},
   "outputs": [],
   "source": [
    "trend_url = driver.find_element(By.xpath,\"/html/body/div[1]/div[6]/main/div[1]/nav/div/a[3]\")\n",
    "urls = trend_url.get_attribute(\"href\")\n",
    "driver.get(urls)"
   ]
  },
  {
   "cell_type": "code",
   "execution_count": null,
   "id": "526c7eb7",
   "metadata": {},
   "outputs": [],
   "source": [
    "repository_title = []\n",
    "Description = []\n",
    "Contributors = []\n",
    "Language = []\n"
   ]
  },
  {
   "cell_type": "code",
   "execution_count": null,
   "id": "c51bf04b",
   "metadata": {},
   "outputs": [],
   "source": [
    "# fetching urls for each repository\n",
    "repository = driver.find_element(By.xpath,\"//h1[@class='h3 lh-condensed']//a\")\n",
    "for i in repository:\n",
    "    URLs.append(i.get_attribute(\"href\"))"
   ]
  },
  {
   "cell_type": "code",
   "execution_count": null,
   "id": "e8c7a1fc",
   "metadata": {},
   "outputs": [],
   "source": [
    "# Repository title\n",
    "title = driver.find_elements(By.xpath,\"//h1[@class = 'h3 lh-condensed']\")\n",
    "for i in title:\n",
    "    repository_title.append(i.text)\n",
    "    "
   ]
  },
  {
   "cell_type": "code",
   "execution_count": null,
   "id": "be6294e0",
   "metadata": {},
   "outputs": [],
   "source": [
    "# scraping data from all repository page\n",
    "for i in URLs:\n",
    "    driver.get(i)\n",
    "    time.sleep(5)\n",
    "    \n",
    "    # scraping Repository Description data \n",
    "    try:\n",
    "        desc = driver.find_element(By.xpath,\"//p[@class='f4 mt-3']\")\n",
    "        Description.append(desc.text)\n",
    "    except NoSuchElementException:\n",
    "        Description.append('-')"
   ]
  },
  {
   "cell_type": "code",
   "execution_count": null,
   "id": "b992445c",
   "metadata": {},
   "outputs": [],
   "source": [
    "# scraping Contributors Count data\n",
    "    try:\n",
    "        contributor = driver.find_element(By.xpath,\"//*[contains(text(),'    Contributors ')]\")\n",
    "        Contributors.append(contributor.text.replace('Contributors',''))\n",
    "    except NoSuchElementException:\n",
    "        Contributors.append('-')"
   ]
  },
  {
   "cell_type": "code",
   "execution_count": null,
   "id": "ac4dfb3f",
   "metadata": {},
   "outputs": [],
   "source": [
    " # scraping Languages used data\n",
    "    try:\n",
    "        for i in driver.find_elements(By.xpath,\"//ul[@class= 'list-style-none']//li//span[1]\"):\n",
    "            lang.append(i.text)\n",
    "        Language.append(lang)\n",
    "    except NoSuchElementException:\n",
    "        Language.append('-')"
   ]
  },
  {
   "cell_type": "code",
   "execution_count": null,
   "id": "7e1f0d73",
   "metadata": {},
   "outputs": [],
   "source": [
    "Github = pd.DataFrame({})\n",
    "Github['Repository Title'] = repository_title\n",
    "Github['Repository Description'] = Description\n",
    "Github['Contributors Count'] = Contributors\n",
    "Github['Language Used'] = Language\n",
    "Github"
   ]
  },
  {
   "cell_type": "code",
   "execution_count": null,
   "id": "fd5305dd",
   "metadata": {},
   "outputs": [],
   "source": [
    "driver.close()"
   ]
  },
  {
   "cell_type": "code",
   "execution_count": null,
   "id": "d8c7d53c",
   "metadata": {},
   "outputs": [],
   "source": [
    "5. Scrape the details of top 100 songs on billiboard.com. Url = https:/www.billboard.com/ You have to find the\n",
    "following details:\n",
    "A) Song name\n",
    "B) Artist name\n",
    "C) Last week rank\n",
    "D) Peak rank\n",
    "E) Weeks on board\n",
    " Note: - From the home page you have to click on the charts option then hot 100-page link through code"
   ]
  },
  {
   "cell_type": "code",
   "execution_count": null,
   "id": "cd4d6021",
   "metadata": {},
   "outputs": [],
   "source": [
    "driver=webdriver.Chrome(r\"C:/Users/HP/Downloads/chromedriver_win32 (1)/chromedriver.exe\")"
   ]
  },
  {
   "cell_type": "code",
   "execution_count": null,
   "id": "74abfd9a",
   "metadata": {},
   "outputs": [],
   "source": [
    "driver.get(\"https:/www.billboard.com/\")"
   ]
  },
  {
   "cell_type": "code",
   "execution_count": null,
   "id": "d7bd5bc2",
   "metadata": {},
   "outputs": [],
   "source": [
    "search = driver.find_element(By.xpath,\"//*[@id=\"main-wrapper\"]/header/div/div[2]/div/div/div[2]/div[2]/div/div/nav/ul/li[1]/a\")\n",
    "search.click()"
   ]
  },
  {
   "cell_type": "code",
   "execution_count": null,
   "id": "16ebaa09",
   "metadata": {},
   "outputs": [],
   "source": [
    "Song_Name = []\n",
    "Artist_Name =[]\n",
    "Last_week_rank = []\n",
    "Peak_rank = []\n",
    "Weeks_on_board = []"
   ]
  },
  {
   "cell_type": "code",
   "execution_count": null,
   "id": "77a74c1e",
   "metadata": {},
   "outputs": [],
   "source": [
    "urls = driver.find_element_by_xpath(\"//*[@id=\"section-heading\"]\")\n",
    "page_url = urls.get_attribute(\"href\")\n",
    "driver.get(page_url)\n",
    "time.sleep(4)"
   ]
  },
  {
   "cell_type": "code",
   "execution_count": null,
   "id": "e372eeef",
   "metadata": {},
   "outputs": [],
   "source": [
    "# scraping data of song names\n",
    "for i in driver.find_elements(By.xpath,\"//*[@id=\"title-of-a-story\"]\"):\n",
    "    Song_Name.append(i.text)"
   ]
  },
  {
   "cell_type": "code",
   "execution_count": null,
   "id": "d67578bc",
   "metadata": {},
   "outputs": [],
   "source": [
    "# scraping data of artist names\n",
    "for i in driver.find_elements(By.xpath,\"//*[@id=\"post-1479786\"]/div[3]/div/div/div/div[2]/div[2]/ul/li[4]/ul/li[1]/span\"):\n",
    "    Artist_Name.append(i.text)"
   ]
  },
  {
   "cell_type": "code",
   "execution_count": null,
   "id": "9fd02341",
   "metadata": {},
   "outputs": [],
   "source": [
    "# scraping data of last week ranks\n",
    "for i in driver.find_elements(By.xpath,\"//*[@id=\"post-1479786\"]/div[3]/div/div/div/div[2]/div[1]/div[7]/span\"):\n",
    "    Last_week_rank.append(i.text)"
   ]
  },
  {
   "cell_type": "code",
   "execution_count": null,
   "id": "61eeccaa",
   "metadata": {},
   "outputs": [],
   "source": [
    "# scraping data of peak ranks\n",
    "for i in driver.find_elements(By.xpath,\"//*[@id=\"post-1479786\"]/div[3]/div/div/div/div[2]/div[1]/div[8]/span\"):\n",
    "    Peak_rank.append(i.text) "
   ]
  },
  {
   "cell_type": "code",
   "execution_count": null,
   "id": "e26dfcb0",
   "metadata": {},
   "outputs": [],
   "source": [
    "# scraping data of weeks on board\n",
    "for i in driver.find_elements(By.xpath,\"//*[@id=\"post-1479786\"]/div[3]/div/div/div/div[2]/div[1]/div[9]/span\"):\n",
    "    Weeks_on_board.append(i.text)"
   ]
  },
  {
   "cell_type": "code",
   "execution_count": null,
   "id": "9bee71ba",
   "metadata": {},
   "outputs": [],
   "source": [
    "billiboard = pd.DataFrame({})\n",
    "billiboard['Name'] = Song_Name\n",
    "billiboard['Artist'] = Artist_Name\n",
    "billiboard['Last Week Rank'] = Last_week_rank\n",
    "billiboard['Peak Rank'] = Peak_rank\n",
    "billiboard['Weeks on board'] = Weeks_on_board\n",
    "billiboard"
   ]
  },
  {
   "cell_type": "code",
   "execution_count": null,
   "id": "99e44ad5",
   "metadata": {},
   "outputs": [],
   "source": [
    "6. Scrape the details of Highest selling novels.\n",
    "A) Book name\n",
    "B) Author name\n",
    "C) Volumes sold\n",
    "D) Publisher\n",
    "E) Genre\n",
    " Url - https://www.theguardian.com/news/datablog/2012/aug/09/best-selling-books-all-time-fifty-shades-grey-compare"
   ]
  },
  {
   "cell_type": "code",
   "execution_count": null,
   "id": "fbdb2869",
   "metadata": {},
   "outputs": [],
   "source": [
    "driver=webdriver.Chrome(r\"C:/Users/HP/Downloads/chromedriver_win32 (1)/chromedriver.exe\")"
   ]
  },
  {
   "cell_type": "code",
   "execution_count": null,
   "id": "70823aaf",
   "metadata": {},
   "outputs": [],
   "source": [
    "driver.get(\" https://www.theguardian.com/news/datablog/2012/aug/09/best-selling-books-all-time-fifty-shades-grey-compare\")\n",
    "time.sleep(3)"
   ]
  },
  {
   "cell_type": "code",
   "execution_count": null,
   "id": "50be7a2f",
   "metadata": {},
   "outputs": [],
   "source": [
    "Book_name = []\n",
    "Author_name = []\n",
    "Volumes_sold = []\n",
    "Publisher = []\n",
    "Genre = []"
   ]
  },
  {
   "cell_type": "code",
   "execution_count": null,
   "id": "0f3fbcff",
   "metadata": {},
   "outputs": [],
   "source": [
    "# scraping book names data\n",
    "for i in driver.find_elements(By.xpath,\"//*[@id=\"table-cell-10943--1-1\"]/div\"):\n",
    "    Book_name.append(i.text)"
   ]
  },
  {
   "cell_type": "code",
   "execution_count": null,
   "id": "64195783",
   "metadata": {},
   "outputs": [],
   "source": [
    "# scraping author names data\n",
    "for i in driver.find_elements(By.xpath,\"//*[@id=\"table-cell-10943--1-2\"]/div\"):\n",
    "    try:\n",
    "        if i.text == '0' : raise NoSuchElementException\n",
    "        Author_name.append(i.text)\n",
    "    except NoSuchElementException:\n",
    "        Author_name.append('-')\n",
    "time.sleep(3)"
   ]
  },
  {
   "cell_type": "code",
   "execution_count": null,
   "id": "c2cc1dbf",
   "metadata": {},
   "outputs": [],
   "source": [
    "# scraping data of volumes sold\n",
    "for i in driver.find_elements(By.xpath,\"//*[@id=\"table-cell-10943--1-3\"]/div\"):\n",
    "    Volumes_sold.append(i.text)"
   ]
  },
  {
   "cell_type": "code",
   "execution_count": null,
   "id": "068afe83",
   "metadata": {},
   "outputs": [],
   "source": [
    "# scraping data of publisher names\n",
    "for i in driver.find_elements(By.xpath,\"//*[@id=\"table-cell-10943--1-4\"]/div\"):\n",
    "    Publisher.append(i.text)"
   ]
  },
  {
   "cell_type": "code",
   "execution_count": null,
   "id": "fc7befec",
   "metadata": {},
   "outputs": [],
   "source": [
    "# scraping  data of genre\n",
    "for i in driver.find_elements(By.xapth,\"//*[@id=\"table-cell-10943--1-5\"]/div\"):\n",
    "    Genre.append(i.text)"
   ]
  },
  {
   "cell_type": "code",
   "execution_count": null,
   "id": "888a9cdf",
   "metadata": {},
   "outputs": [],
   "source": [
    "Novels = pd.DataFrame({})\n",
    "Novels['Book Name'] = Book_name\n",
    "Novels['Author'] = Author_name\n",
    "Novels['Volume sold'] = Volumes_sold\n",
    "Novels['Publisher'] = Publisher\n",
    "Novels['Genre'] = Genre\n",
    "Novels"
   ]
  },
  {
   "cell_type": "code",
   "execution_count": null,
   "id": "2b24105e",
   "metadata": {},
   "outputs": [],
   "source": [
    "driver.close()"
   ]
  },
  {
   "cell_type": "code",
   "execution_count": null,
   "id": "20519408",
   "metadata": {},
   "outputs": [],
   "source": [
    "7. Scrape the details most watched tv series of all time from imdb.com.\n",
    "Url = https://www.imdb.com/list/ls095964455/ You have\n",
    "to find the following details:\n",
    "A) Name\n",
    "B) Year span\n",
    "C) Genre\n",
    "D) Run time\n",
    "E) Ratings\n",
    "F) Votes "
   ]
  },
  {
   "cell_type": "code",
   "execution_count": null,
   "id": "9ecfbcaa",
   "metadata": {},
   "outputs": [],
   "source": [
    "driver=webdriver.Chrome(r\"C:/Users/HP/Downloads/chromedriver_win32 (1)/chromedriver.exe\")"
   ]
  },
  {
   "cell_type": "code",
   "execution_count": null,
   "id": "a6f8273b",
   "metadata": {},
   "outputs": [],
   "source": [
    "driver.get(\"= https://www.imdb.com/list/ls095964455/\")"
   ]
  },
  {
   "cell_type": "code",
   "execution_count": null,
   "id": "1820664b",
   "metadata": {},
   "outputs": [],
   "source": []
  },
  {
   "cell_type": "code",
   "execution_count": null,
   "id": "fb465581",
   "metadata": {},
   "outputs": [],
   "source": [
    "8. Details of Datasets from UCI machine learning repositories.\n",
    "Url = https://archive.ics.uci.edu/ You\n",
    "have to find the following details:\n",
    "A) Dataset name\n",
    "B) Data type\n",
    "C) Task\n",
    "D) Attribute type\n",
    "E) No of instances\n",
    "F) No of attribute G) Year\n",
    " Note: - from the home page you have to go to the Show All Dataset page through code. "
   ]
  },
  {
   "cell_type": "code",
   "execution_count": null,
   "id": "98fedcbd",
   "metadata": {},
   "outputs": [],
   "source": [
    "driver=webdriver.Chrome(r\"C:/Users/HP/Downloads/chromedriver_win32 (1)/chromedriver.exe\")"
   ]
  },
  {
   "cell_type": "code",
   "execution_count": null,
   "id": "bd8a459e",
   "metadata": {},
   "outputs": [],
   "source": [
    "driver.get(\"https://archive.ics.uci.edu/\")"
   ]
  },
  {
   "cell_type": "code",
   "execution_count": null,
   "id": "ae82cafa",
   "metadata": {},
   "outputs": [],
   "source": [
    "view_list = driver.find_element(BY.xpath,\"/html/body/table[2]/tbody/tr/td[2]/table[1]/tbody/tr/td[2]/p/a\")\n",
    "list_url = view_list.get_attribute(\"href\")\n",
    "driver.get(list_url)\n",
    "time.sleep(3)"
   ]
  },
  {
   "cell_type": "code",
   "execution_count": null,
   "id": "74423070",
   "metadata": {},
   "outputs": [],
   "source": [
    "Dataset_name = []\n",
    "Data_type = []\n",
    "Task = []\n",
    "Attribute_type = []\n",
    "No_of_instances = []\n",
    "No_of_attributes = []\n",
    "Year = []"
   ]
  },
  {
   "cell_type": "code",
   "execution_count": null,
   "id": "0abc4cec",
   "metadata": {},
   "outputs": [],
   "source": [
    "for i in urls:\n",
    "    driver.get(i)\n",
    "    time.sleep(3)\n",
    "    \n",
    "    \n",
    "    # scraping  Dataset name\n",
    "    try:\n",
    "        dataset_name = driver.find_element(By.xpath,\"/html/body/div/div[1]/div[1]/main/div/div[2]/div[2]/div[1]/div[1]/div[2]/h2/a\")\n",
    "        Dataset_name.append(dataset_name.text)\n",
    "    except NoSuchElementException:\n",
    "        Dataset_name.append('-')\n",
    "    time.sleep(3)\n",
    "    "
   ]
  },
  {
   "cell_type": "code",
   "execution_count": null,
   "id": "3049392d",
   "metadata": {},
   "outputs": [],
   "source": [
    "# scraping data type\n",
    "    try:\n",
    "        data_type = driver.find_element(By.xpath,\"/html/body/div/div[1]/div[1]/main/div/div[2]/div[2]/div[1]/div[1]/div[2]/div/div[2]/span\")\n",
    "        if data_type.text == \"N/A\": raise NoSuchElementException\n",
    "        Data_type.append(data_type.text)\n",
    "    except NoSuchElementException:\n",
    "        Data_type.append('-')\n",
    "    time.sleep(3)"
   ]
  },
  {
   "cell_type": "code",
   "execution_count": null,
   "id": "5d44a131",
   "metadata": {},
   "outputs": [],
   "source": [
    "# scraping Task\n",
    "    try:\n",
    "        task = driver.find_element(By.xpath,\"/html/body/div/div[1]/div[1]/main/div/div[2]/div[2]/div[1]/div[1]/div[2]/h2\")\n",
    "        if task.text == \"N/A\": raise NoSuchElementException\n",
    "        Task.append(task.text)\n",
    "    except NoSuchElementException:\n",
    "        Task.append('-')\n",
    "    time.sleep(3"
   ]
  },
  {
   "cell_type": "code",
   "execution_count": null,
   "id": "0e4c3dec",
   "metadata": {},
   "outputs": [],
   "source": [
    "# scraping Attribute type\n",
    "    try:\n",
    "        attribute_type = driver.find_element(By.xpath,\"/html/body/div/div[1]/div[1]/main/div/div[2]/div[2]/div[1]/div[1]/div[2]/div/div[1]/span\")\n",
    "        if attribute_type.text == \"N/A\": raise NoSuchElementException\n",
    "        Attribute_type.append(attribute_type.text)\n",
    "    except NoSuchElementException:\n",
    "        Attribute_type.append('-')\n",
    "    time.sleep(3)"
   ]
  },
  {
   "cell_type": "code",
   "execution_count": null,
   "id": "c9a5983d",
   "metadata": {},
   "outputs": [],
   "source": [
    " # scraping No of Instances\n",
    "    try:\n",
    "        instances = driver.find_element(By.xpath,\"/html/body/div/div[1]/div[1]/main/div/div[2]/div[2]/div[1]/div[1]/div[2]/div/div[3]/span\")\n",
    "        if instances.text == \"N/A\": raise NoSuchElementException\n",
    "        No_of_instances.append(instances.text)\n",
    "    except NoSuchElementException:\n",
    "        No_of_instances.append('-')\n",
    "    time.sleep(3)"
   ]
  },
  {
   "cell_type": "code",
   "execution_count": null,
   "id": "3b6239f0",
   "metadata": {},
   "outputs": [],
   "source": [
    " # scraping No of Arrtibutes\n",
    "    try:\n",
    "        attribute = driver.find_element(By.xpath,\"/html/body/div/div[1]/div[1]/main/div/div[2]/div[3]/p/span[3]\")\n",
    "        if attribute.text == \"N/A\": raise NoSuchElementException\n",
    "        No_of_attributes.append(attribute.text)\n",
    "    except NoSuchElementException:\n",
    "        No_of_attributes.append('-')\n",
    "    time.sleep(3)"
   ]
  },
  {
   "cell_type": "code",
   "execution_count": null,
   "id": "85c13295",
   "metadata": {},
   "outputs": [],
   "source": [
    " \n",
    "    # scraping Year\n",
    "    try:\n",
    "        year = driver.find_element(By.xpath,\"/html/body/div/div[1]/div[1]/main/div/div[2]/div[2]/div[1]/div[2]/div/table/tbody/tr/td[3]\")\n",
    "        if year.text == \"N/A\": raise NoSuchElementException\n",
    "        Year.append(year.text[:4])\n",
    "    except NoSuchElementException:\n",
    "        Year.append('-')\n",
    "    time.sleep(3)"
   ]
  },
  {
   "cell_type": "code",
   "execution_count": null,
   "id": "e0f5f1fd",
   "metadata": {},
   "outputs": [],
   "source": [
    "ML = pd.DataFrame({})\n",
    "ML['Data Name'] = Data_name \n",
    "ML['Data Type '] = Data_type\n",
    "ML['Task '] = Task \n",
    "ML['Attribute Type '] = Attribute_type \n",
    "ML['No of Instance '] = No_of_instances\n",
    "ML['No of Attributes '] = No_of_attributes \n",
    "ML['Year '] = Year \n",
    "ML"
   ]
  },
  {
   "cell_type": "code",
   "execution_count": null,
   "id": "78a0449e",
   "metadata": {},
   "outputs": [],
   "source": [
    "driver.close()"
   ]
  }
 ],
 "metadata": {
  "kernelspec": {
   "display_name": "Python 3 (ipykernel)",
   "language": "python",
   "name": "python3"
  },
  "language_info": {
   "codemirror_mode": {
    "name": "ipython",
    "version": 3
   },
   "file_extension": ".py",
   "mimetype": "text/x-python",
   "name": "python",
   "nbconvert_exporter": "python",
   "pygments_lexer": "ipython3",
   "version": "3.11.3"
  }
 },
 "nbformat": 4,
 "nbformat_minor": 5
}
