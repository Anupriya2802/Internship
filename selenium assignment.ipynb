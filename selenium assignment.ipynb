{
 "cells": [
  {
   "cell_type": "markdown",
   "id": "c3bb0701",
   "metadata": {},
   "source": [
    "1.: In this question you have to scrape data using the filters available on the webpage You have to use the location and\n",
    "salary filter.\n",
    "You have to scrape data for “Data Scientist” designation for first 10 job results.\n",
    "You have to scrape the job-title, job-location, company name, experience required.\n",
    "The location filter to be used is “Delhi/NCR”. The salary filter to be used is “3-6” lakhs"
   ]
  },
  {
   "cell_type": "code",
   "execution_count": 1,
   "id": "b7625b20",
   "metadata": {},
   "outputs": [
    {
     "name": "stdout",
     "output_type": "stream",
     "text": [
      "Requirement already satisfied: selenium in c:\\users\\hp\\appdata\\roaming\\python\\python311\\site-packages (3.5.0)\n"
     ]
    }
   ],
   "source": [
    "!pip install selenium"
   ]
  },
  {
   "cell_type": "code",
   "execution_count": 2,
   "id": "d7a3e47d",
   "metadata": {},
   "outputs": [],
   "source": [
    "import selenium\n",
    "import pandas as pd\n",
    "from selenium import webdriver\n",
    "import warnings\n",
    "warnings.filterwarnings(\"ignore\")\n",
    "from selenium.webdriver.common.by import By"
   ]
  },
  {
   "cell_type": "code",
   "execution_count": 19,
   "id": "32ef052d",
   "metadata": {},
   "outputs": [],
   "source": [
    "driver = webdriver.Chrome\n"
   ]
  },
  {
   "cell_type": "code",
   "execution_count": 20,
   "id": "564e3fcd",
   "metadata": {},
   "outputs": [
    {
     "ename": "TypeError",
     "evalue": "WebDriver.get() missing 1 required positional argument: 'url'",
     "output_type": "error",
     "traceback": [
      "\u001b[1;31m---------------------------------------------------------------------------\u001b[0m",
      "\u001b[1;31mTypeError\u001b[0m                                 Traceback (most recent call last)",
      "Cell \u001b[1;32mIn[20], line 1\u001b[0m\n\u001b[1;32m----> 1\u001b[0m driver\u001b[38;5;241m.\u001b[39mget(\u001b[38;5;124m\"\u001b[39m\u001b[38;5;124mhttps://www.naukri.com\u001b[39m\u001b[38;5;124m\"\u001b[39m)\n",
      "\u001b[1;31mTypeError\u001b[0m: WebDriver.get() missing 1 required positional argument: 'url'"
     ]
    }
   ],
   "source": [
    "driver.get(\"https://www.naukri.com\")"
   ]
  },
  {
   "cell_type": "code",
   "execution_count": null,
   "id": "15915fec",
   "metadata": {},
   "outputs": [],
   "source": [
    "designation=driver.find_element(By.CLASS_NAME, \"suggestor-input\")\n",
    "designation.send_keys('Data Scientist')"
   ]
  },
  {
   "cell_type": "code",
   "execution_count": null,
   "id": "9aa91c9c",
   "metadata": {},
   "outputs": [],
   "source": [
    "location=driver.find_element(By.XPATH,'/html/body/div/div[2]/div[3]/div/div/div[5]/div/div/div/input')\n",
    "location.send_keys('delhi')"
   ]
  },
  {
   "cell_type": "code",
   "execution_count": 1,
   "id": "97a309cf",
   "metadata": {},
   "outputs": [],
   "source": [
    "search = driver.find_element(By.CLASS_NAME,\"qsbSubmit\")\n",
    "search_.click()"
   ]
  },
  {
   "cell_type": "code",
   "execution_count": 2,
   "id": "becd711d",
   "metadata": {},
   "outputs": [],
   "source": [
    "job_title=[]\n",
    "job_location=[]\n",
    "company_name=[]\n",
    "exprinced_required=[]"
   ]
  },
  {
   "cell_type": "code",
   "execution_count": 16,
   "id": "c60d3c2f",
   "metadata": {},
   "outputs": [],
   "source": [
    "title_tags = driver.find_elements(By.XPATH,'//div@class=\"cust-job-tuple layout-wrapper lay-2 sjw__tuple\"]/div/a')\n",
    "for i in title_tags:\n",
    "    title=i.text\n",
    "    job_title.append(title)"
   ]
  },
  {
   "cell_type": "code",
   "execution_count": 4,
   "id": "ac4c6725",
   "metadata": {},
   "outputs": [],
   "source": [
    "company_tags = driver.find_elements(By.XPATH,'//div[@class=\" comp-name mw-25\"]/span/a[1]')\n",
    "for i in company_tags:\n",
    "    company=i.text\n",
    "    company_name.append(company)"
   ]
  },
  {
   "cell_type": "code",
   "execution_count": 6,
   "id": "3d17f139",
   "metadata": {},
   "outputs": [],
   "source": [
    "location_tags = driver.find_elements(By.XPATH,'//span[@class=\"locWdth\"]')\n",
    "for i in location_tags:\n",
    "    location=i.text\n",
    "    job_location.append(location)\n"
   ]
  },
  {
   "cell_type": "code",
   "execution_count": null,
   "id": "ebeec79c",
   "metadata": {},
   "outputs": [],
   "source": [
    "experience_tags = driver.find_elements(By.XPATH,'//span[@class=\"exp-wrap\"]')\n",
    "for i in experience_tags:\n",
    "    exp=i.text\n",
    "    exprinced_required.append(exp)"
   ]
  },
  {
   "cell_type": "code",
   "execution_count": 7,
   "id": "f4a75f82",
   "metadata": {},
   "outputs": [],
   "source": [
    "print(len(job_title),len(company_name),len(experience_required),len(job_location))"
   ]
  },
  {
   "cell_type": "code",
   "execution_count": 8,
   "id": "d1a1d549",
   "metadata": {},
   "outputs": [],
   "source": [
    "df = pd.DataFrame({'job_title':job_title,'company_name':company_name,'experience_required':experience_required,'job_location':job_location})\n",
    "df"
   ]
  },
  {
   "cell_type": "markdown",
   "id": "94f18f16",
   "metadata": {},
   "source": [
    "2.Write a python program to scrape data for “Data Scientist” Job position in “Bangalore” location. You have to scrape the\n",
    "job-title, job-location, company_name, experience_required. You have to scrape first 10 jobs data."
   ]
  },
  {
   "cell_type": "code",
   "execution_count": 9,
   "id": "a54d659e",
   "metadata": {},
   "outputs": [],
   "source": [
    "!pip install selenium"
   ]
  },
  {
   "cell_type": "code",
   "execution_count": 10,
   "id": "39d31bfa",
   "metadata": {},
   "outputs": [],
   "source": [
    "import selenium\n",
    "import pandas as pd\n",
    "from selenium import webdriver\n",
    "import warnings\n",
    "warnings.filterwarnings(\"ignore\")\n",
    "from selenium.webdriver.common.by import By"
   ]
  },
  {
   "cell_type": "code",
   "execution_count": 11,
   "id": "8ba9a3c9",
   "metadata": {},
   "outputs": [],
   "source": [
    "driver = webdriver.Chrome"
   ]
  },
  {
   "cell_type": "code",
   "execution_count": 12,
   "id": "8abf1647",
   "metadata": {},
   "outputs": [],
   "source": [
    "driver.get(\"https://www.shine.com\")"
   ]
  },
  {
   "cell_type": "code",
   "execution_count": null,
   "id": "60744df3",
   "metadata": {},
   "outputs": [],
   "source": [
    "designation=driver.find_element(By.CLASS_NAME,\"text\" )\n",
    "designation.send_keys('Data Scientist')"
   ]
  },
  {
   "cell_type": "code",
   "execution_count": null,
   "id": "75b7496a",
   "metadata": {},
   "outputs": [],
   "source": [
    "location=driver.find_element(By.XPATH,\"//*[@id=\"select_container_id_loc\"]/label\")\n",
    "location.send_keys('Banglore')"
   ]
  },
  {
   "cell_type": "code",
   "execution_count": null,
   "id": "53ef89a0",
   "metadata": {},
   "outputs": [],
   "source": [
    "search = driver.find_element(By.CLASS_NAME,\" btn btn-secondary undefined\")\n",
    "search_.click()"
   ]
  },
  {
   "cell_type": "code",
   "execution_count": null,
   "id": "842b126d",
   "metadata": {},
   "outputs": [],
   "source": [
    "job_title=[]\n",
    "job_location=[]\n",
    "company_name=[]\n",
    "exprinced_required=[]"
   ]
  },
  {
   "cell_type": "code",
   "execution_count": null,
   "id": "bc362f85",
   "metadata": {},
   "outputs": [],
   "source": [
    "title_tags = driver.find_elements(By.XPATH,\"//*[@id=\"__next\"]/div[2]/div[4]/div/div[1]/div[1]/div[2]/div/a\")\n",
    "for i in title_tags:\n",
    "    title=i.text\n",
    "    job_title.append(title)"
   ]
  },
  {
   "cell_type": "code",
   "execution_count": null,
   "id": "9ed2051a",
   "metadata": {},
   "outputs": [],
   "source": [
    "company_tags = driver.find_elements(By.XPATH,\"//*[@id=\"__next\"]/div[2]/div[4]/div/div[1]/div[1]/div[2]/div/div[2]/span\")\n",
    "for i in company_tags:\n",
    "    company=i.text\n",
    "    company_name.append(company)"
   ]
  },
  {
   "cell_type": "code",
   "execution_count": null,
   "id": "c2c71613",
   "metadata": {},
   "outputs": [],
   "source": [
    "experience_tags = driver.find_elements(By.XPATH,\"//*[@id=\"__next\"]/div[2]/div[4]/div/div[1]/div[1]/div[2]/div/div[3]/div[2]\")\n",
    "for i in experience_tags:\n",
    "    exp=i.text\n",
    "    exprinced_required.append(exp)"
   ]
  },
  {
   "cell_type": "code",
   "execution_count": null,
   "id": "6293be09",
   "metadata": {},
   "outputs": [],
   "source": [
    "location_tags = driver.find_elements(By.XPATH,\"//*[@id=\"__next\"]/div[2]/div[4]/div/div[1]/div[1]/div[2]/div/div[3]/div[1]/a\")\n",
    "for i in location_tags:\n",
    "    location=i.text\n",
    "    job_location.append(location)"
   ]
  },
  {
   "cell_type": "code",
   "execution_count": null,
   "id": "1d7916fa",
   "metadata": {},
   "outputs": [],
   "source": [
    "print(len(job_title),len(company_name),len(experience_required),len(job_location))"
   ]
  },
  {
   "cell_type": "code",
   "execution_count": null,
   "id": "392e6a13",
   "metadata": {},
   "outputs": [],
   "source": [
    "df = pd.DataFrame({'job_title':job_title,'company_name':company_name,'experience_required':experience_required,'job_location':job_location})\n",
    "df"
   ]
  },
  {
   "cell_type": "markdown",
   "id": "ad25e186",
   "metadata": {},
   "source": [
    "3: Scrape 100 reviews data from flipkart.com for iphone11 phone. You have to go the link:\n",
    "https://www.flipkart.com/apple-iphone-15-black-128-gb/p/itm6ac6485515ae4?pid=MOBGTAGPTB3VS24W&lid=LSTMOBGTAGPTB3VS24WVZNSC6&marketplace=FLIPKART&q=iphone+15&store=tyy/4io&srno=s_1_2&otracker=AS_QueryStore_OrganicAutoSuggest_1_2_na_na_na&otracker1=AS_QueryStore_OrganicAutoSuggest_1_2_na_na_na&fm=organic&iid=b596c120-8114-44e8-9819-0b4dee130fa9.MOBGTAGPTB3VS24W.SEARCH&ppt=hp&ppn=homepage&ssid=s3c8i7dsvk0000001710403029549&qH=2f54b45b321e3ae5\n",
    "As shown in the above page you have to scrape the tick marked attributes. These are:\n",
    "1. Rating\n",
    "2. Review summary\n",
    "3. Full review\n",
    "4. You have to scrape this data for first 100reviews."
   ]
  },
  {
   "cell_type": "code",
   "execution_count": null,
   "id": "774702df",
   "metadata": {},
   "outputs": [],
   "source": [
    "!pip install selenium"
   ]
  },
  {
   "cell_type": "code",
   "execution_count": null,
   "id": "61eb93a4",
   "metadata": {},
   "outputs": [],
   "source": [
    "import selenium\n",
    "import pandas as pd\n",
    "from selenium import webdriver\n",
    "import warnings\n",
    "warnings.filterwarnings(\"ignore\")\n",
    "from selenium.webdriver.common.by import By"
   ]
  },
  {
   "cell_type": "code",
   "execution_count": null,
   "id": "ec432e3f",
   "metadata": {},
   "outputs": [],
   "source": [
    "driver=webdriver.Chrome(r\"C:\\Users\\HP\\Downloads\\chromedriver_win32\\chromedriver\")"
   ]
  },
  {
   "cell_type": "code",
   "execution_count": null,
   "id": "a4770ea6",
   "metadata": {},
   "outputs": [],
   "source": [
    "url=\"https://www.flipkart.com/apple-iphone-15-black-128-gb/p/itm6ac6485515ae4?pid=MOBGTAGPTB3VS24W&lid=LSTMOBGTAGPTB3VS24WVZNSC6&marketplace=FLIPKART&q=iphone+15&store=tyy/4io&srno=s_1_2&otracker=AS_QueryStore_OrganicAutoSuggest_1_2_na_na_na&otracker1=AS_QueryStore_OrganicAutoSuggest_1_2_na_na_na&fm=organic&iid=b596c120-8114-44e8-9819-0b4dee130fa9.MOBGTAGPTB3VS24W.SEARCH&ppt=hp&ppn=homepage&ssid=s3c8i7dsvk0000001710403029549&qH=2f54b45b321e3ae5\""
   ]
  },
  {
   "cell_type": "code",
   "execution_count": 13,
   "id": "b045d9a7",
   "metadata": {},
   "outputs": [],
   "source": [
    "driver.get(url)"
   ]
  },
  {
   "cell_type": "code",
   "execution_count": null,
   "id": "8cc152da",
   "metadata": {},
   "outputs": [],
   "source": [
    "search=driver.find_element(By_xpath,\"//div[@class='_3704LK']\")\n",
    "search_.click()"
   ]
  },
  {
   "cell_type": "code",
   "execution_count": null,
   "id": "09d11f6e",
   "metadata": {},
   "outputs": [],
   "source": [
    "rating=[]\n",
    "review_summary=[]\n",
    "full_review=[]\n"
   ]
  },
  {
   "cell_type": "code",
   "execution_count": null,
   "id": "4a94a436",
   "metadata": {},
   "outputs": [],
   "source": [
    "rating_tags = driver.find_elements(By.XPATH,\"//div[@class=\"_2QKOHZ\"]/div[1]\")\n",
    "rating_tags"
   ]
  },
  {
   "cell_type": "code",
   "execution_count": null,
   "id": "c359d725",
   "metadata": {},
   "outputs": [],
   "source": [
    "for i in rating_tags:\n",
    "    rating=i.text\n",
    "    rating_tags.append(rating)\n",
    "    rating[:100]"
   ]
  },
  {
   "cell_type": "code",
   "execution_count": null,
   "id": "6b3ca214",
   "metadata": {},
   "outputs": [],
   "source": [
    "review_summary_tags = driver.find_elements(By_xpath,\"//p[@class='_2-N8zT']/p) \n",
    " review_summary_tags\n",
    "    "
   ]
  },
  {
   "cell_type": "code",
   "execution_count": null,
   "id": "61e4f412",
   "metadata": {},
   "outputs": [],
   "source": [
    "for i in review_summary_tags:\n",
    "    review=i.text\n",
    "    review_summary_tags.append(review)\n",
    "    review_summary[:100]"
   ]
  },
  {
   "cell_type": "code",
   "execution_count": 14,
   "id": "dfcc0548",
   "metadata": {},
   "outputs": [],
   "source": [
    "full_review_tags = driver.find_elements(By_xpath,\"//span[@class=\"All 1239 reviews\"]/span\")\n",
    "full_review_tags\n"
   ]
  },
  {
   "cell_type": "code",
   "execution_count": null,
   "id": "fcb3deb8",
   "metadata": {},
   "outputs": [],
   "source": [
    "for i in full_review_tags:\n",
    "    full_review=i.text\n",
    "    full_review_tags.append(full_review)\n",
    "    full_review[:100]"
   ]
  },
  {
   "cell_type": "code",
   "execution_count": null,
   "id": "e41d39d4",
   "metadata": {},
   "outputs": [],
   "source": [
    "df=pd.DataFrame()\n",
    "df[\"rating\"]=rating[:100]\n",
    "df[\" review_summary\"]=review_summary[:100]\n",
    "df[\"full_review\"]=full_review[:100]\n",
    "df"
   ]
  },
  {
   "cell_type": "markdown",
   "id": "7aaf4ee6",
   "metadata": {},
   "source": [
    "Q4: Scrape data forfirst 100 sneakers you find whenyouvisitflipkart.com and search for “sneakers” inthe search\n",
    "field.\n",
    "You have to scrape 3 attributes of each sneaker:\n",
    "1. Brand\n",
    "2. ProductDescription\n",
    "3. Price\n",
    "As shown in the below image, you have to scrape the above attributes."
   ]
  },
  {
   "cell_type": "code",
   "execution_count": null,
   "id": "20d7d740",
   "metadata": {},
   "outputs": [],
   "source": [
    "!pip install selenium"
   ]
  },
  {
   "cell_type": "code",
   "execution_count": null,
   "id": "de57f091",
   "metadata": {},
   "outputs": [],
   "source": [
    "import selenium\n",
    "import pandas as pd\n",
    "from selenium import webdriver\n",
    "import warnings\n",
    "warnings.filterwarnings(\"ignore\")\n",
    "from selenium.webdriver.common.by import By"
   ]
  },
  {
   "cell_type": "code",
   "execution_count": null,
   "id": "a9eb4839",
   "metadata": {},
   "outputs": [],
   "source": [
    "driver = webdriver.Chrome"
   ]
  },
  {
   "cell_type": "code",
   "execution_count": null,
   "id": "effbf022",
   "metadata": {},
   "outputs": [],
   "source": [
    "driver.get(\"https//www.flipkart.com\")"
   ]
  },
  {
   "cell_type": "code",
   "execution_count": null,
   "id": "e1644333",
   "metadata": {},
   "outputs": [],
   "source": [
    "designation=driver.find_element(By_xpath,\"//input[@class='Pke_EE']\")\n",
    "designation.send_keys(\"sneakers\")"
   ]
  },
  {
   "cell_type": "code",
   "execution_count": null,
   "id": "b12569ec",
   "metadata": {},
   "outputs": [],
   "source": [
    "search=driver.find_element(By.xpath,\"//button[@class='L0Z3Pu']\")\n",
    "search.click()"
   ]
  },
  {
   "cell_type": "code",
   "execution_count": null,
   "id": "e0f7e0f8",
   "metadata": {},
   "outputs": [],
   "source": [
    "brand[]\n",
    "product[]\n",
    "price[]"
   ]
  },
  {
   "cell_type": "code",
   "execution_count": null,
   "id": "d403bfc4",
   "metadata": {},
   "outputs": [],
   "source": [
    " brand_tags=driver.find_elements(By.xpath,\"//div[@class='_167Mu3 _2hbLCH']\")\n",
    "    brand_tags\n",
    "    "
   ]
  },
  {
   "cell_type": "code",
   "execution_count": null,
   "id": "bfef77eb",
   "metadata": {},
   "outputs": [],
   "source": [
    "for i in brand_tags:\n",
    "    brand=i.text\n",
    "    brand_tags.append(brand)\n",
    "    brand[:100]"
   ]
  },
  {
   "cell_type": "code",
   "execution_count": null,
   "id": "4ba948c7",
   "metadata": {},
   "outputs": [],
   "source": [
    "product_tags=driver.find_elements(By.xpath,\"//a[@class='IRpwTa']\")\n",
    "product_tags"
   ]
  },
  {
   "cell_type": "code",
   "execution_count": null,
   "id": "a079c9a3",
   "metadata": {},
   "outputs": [],
   "source": [
    "for i in prouct_tags:\n",
    "    product=i.text\n",
    "    product_tags.append(product)\n",
    "    product[:100]"
   ]
  },
  {
   "cell_type": "code",
   "execution_count": null,
   "id": "7c658961",
   "metadata": {},
   "outputs": [],
   "source": [
    "price_tags==driver.find_elements(By.xpath,\"//div[@class=\"_2yz7eI _2hbLCH\"]\")\n",
    "price_tags"
   ]
  },
  {
   "cell_type": "code",
   "execution_count": null,
   "id": "b9dbc498",
   "metadata": {},
   "outputs": [],
   "source": [
    "for i in price_tags:\n",
    "    price=i.text\n",
    "    price_tags.append(price)\n",
    "    price[:100]"
   ]
  },
  {
   "cell_type": "code",
   "execution_count": null,
   "id": "9e351c10",
   "metadata": {},
   "outputs": [],
   "source": [
    "df=pd.DataFrame()\n",
    "df[\"brand\"]=brand[:100]\n",
    "df[\"product\"]=product[:100]\n",
    "df[\"price\"]=price[:100]\n",
    "df"
   ]
  },
  {
   "cell_type": "markdown",
   "id": "fe2e7efe",
   "metadata": {},
   "source": [
    ": Go to webpage https://www.amazon.in/ Enter “Laptop” in the search field and then click the search icon. Then set CPU\n",
    "Type filter to “Intel Core i7” as shown in the below image:\n",
    "    Aftersetting the filters scrape first 10 laptops data. You have to scrape 3 attributes for each laptop:\n",
    "1. Title\n",
    "2. Ratings\n",
    "3. Price"
   ]
  },
  {
   "cell_type": "code",
   "execution_count": null,
   "id": "457c83ab",
   "metadata": {},
   "outputs": [],
   "source": [
    "!pip install selenium"
   ]
  },
  {
   "cell_type": "code",
   "execution_count": null,
   "id": "12c3303a",
   "metadata": {},
   "outputs": [],
   "source": [
    "import selenium\n",
    "import pandas as pd\n",
    "from selenium import webdriver\n",
    "import warnings\n",
    "warnings.filterwarnings(\"ignore\")\n",
    "from selenium.webdriver.common.by import By"
   ]
  },
  {
   "cell_type": "code",
   "execution_count": null,
   "id": "630832f1",
   "metadata": {},
   "outputs": [],
   "source": [
    "driver = webdriver.Chrome"
   ]
  },
  {
   "cell_type": "code",
   "execution_count": null,
   "id": "414cb4eb",
   "metadata": {},
   "outputs": [],
   "source": [
    "driver.get(\"https//www.amazon.in\")"
   ]
  },
  {
   "cell_type": "code",
   "execution_count": null,
   "id": "9adbb23d",
   "metadata": {},
   "outputs": [],
   "source": [
    "search_col=driver.find_element_By_xpath(\"//input[@class='nav-input nav-progressive-attribute']\")\n",
    "search_col.send_keys('laptop')"
   ]
  },
  {
   "cell_type": "code",
   "execution_count": null,
   "id": "183b9713",
   "metadata": {},
   "outputs": [],
   "source": [
    "intel core 17"
   ]
  },
  {
   "cell_type": "code",
   "execution_count": null,
   "id": "52659235",
   "metadata": {},
   "outputs": [],
   "source": [
    "search=driver.find_elements_By_xpath(\"//input[@class='nav-input nav-progressive-attribute']\")\n",
    "search.click()"
   ]
  },
  {
   "cell_type": "code",
   "execution_count": null,
   "id": "8f473814",
   "metadata": {},
   "outputs": [],
   "source": [
    "Title=[]\n",
    "rating=[]\n",
    "price=[]"
   ]
  },
  {
   "cell_type": "code",
   "execution_count": null,
   "id": "24702639",
   "metadata": {},
   "outputs": [],
   "source": [
    "Title_tag=driver.find_elements_By_xpath(\"//h2[@class='a-size-mini a-spacing-none a-color-base s-line-clamp-2']\")\n",
    "Title_tag"
   ]
  },
  {
   "cell_type": "code",
   "execution_count": null,
   "id": "61cf90bd",
   "metadata": {},
   "outputs": [],
   "source": [
    "for i in Title_tags:\n",
    "    Title=i.text\n",
    "    Title_tags.append(Title)\n",
    "    Title[:10]"
   ]
  },
  {
   "cell_type": "code",
   "execution_count": null,
   "id": "a1b08f37",
   "metadata": {},
   "outputs": [],
   "source": [
    "price_tags=driver.find_elements_by_xpath(\"//span[@class='a-price-whole']\")\n",
    "price_tags"
   ]
  },
  {
   "cell_type": "code",
   "execution_count": null,
   "id": "2b74d2d4",
   "metadata": {},
   "outputs": [],
   "source": [
    "for i in price_tags:\n",
    "    price=i.text\n",
    "    price_tags.append(price)\n",
    "    price[:10]"
   ]
  },
  {
   "cell_type": "code",
   "execution_count": null,
   "id": "bd118df7",
   "metadata": {},
   "outputs": [],
   "source": [
    " rating_tags = driver.find_element(By.XPATH,\".//span[@class='a-icon-alt']/..\")\n",
    "    rating_tags"
   ]
  },
  {
   "cell_type": "code",
   "execution_count": null,
   "id": "588a62a4",
   "metadata": {},
   "outputs": [],
   "source": [
    "for i in rating_tags:\n",
    "    rating=i.text\n",
    "    rating_tags.append(rating)\n",
    "    rating[:10]"
   ]
  },
  {
   "cell_type": "code",
   "execution_count": null,
   "id": "be7372c3",
   "metadata": {},
   "outputs": [],
   "source": [
    "df=pd.DataFrame()\n",
    "df[\"Title\"]=Title[:10]\n",
    "df[\"price\"]=price[:10]\n",
    "df[\"rating\"]=rating[:10]\n",
    "df"
   ]
  },
  {
   "cell_type": "markdown",
   "id": "705dd04f",
   "metadata": {},
   "source": [
    "Q6: Write a python program to scrape data for Top 1000 Quotes of All Time.\n",
    "The above task will be done in following steps:\n",
    "1. First get the webpagehttps://www.azquotes.com/\n",
    "2. Click on TopQuote\n",
    "3. Than scrap a)Quote b) Author c) Type Of Quotes"
   ]
  },
  {
   "cell_type": "code",
   "execution_count": null,
   "id": "4fda5917",
   "metadata": {},
   "outputs": [],
   "source": [
    "!pip install selenium"
   ]
  },
  {
   "cell_type": "code",
   "execution_count": null,
   "id": "6e73f594",
   "metadata": {},
   "outputs": [],
   "source": [
    "import selenium\n",
    "import pandas as pd\n",
    "from selenium import webdriver\n",
    "import warnings\n",
    "warnings.filterwarnings(\"ignore\")\n",
    "from selenium.webdriver.common.by import By"
   ]
  },
  {
   "cell_type": "code",
   "execution_count": null,
   "id": "771edb37",
   "metadata": {},
   "outputs": [],
   "source": [
    "driver = webdriver.Chrome"
   ]
  },
  {
   "cell_type": "code",
   "execution_count": null,
   "id": "eaa94a0c",
   "metadata": {},
   "outputs": [],
   "source": [
    "driver.get(\"https//www.azquotes.com\")"
   ]
  },
  {
   "cell_type": "code",
   "execution_count": null,
   "id": "956c163c",
   "metadata": {},
   "outputs": [],
   "source": [
    "search=driver.find_element(By.XPATH,\"//div[@class=\"search_wrapper\"]\")\n",
    "search.click()\n"
   ]
  },
  {
   "cell_type": "code",
   "execution_count": null,
   "id": "780421fd",
   "metadata": {},
   "outputs": [],
   "source": [
    "Quote=[]\n",
    "Author=[]\n",
    "Type_Quotes=[]"
   ]
  },
  {
   "cell_type": "code",
   "execution_count": null,
   "id": "88ff7011",
   "metadata": {},
   "outputs": [],
   "source": [
    "Quote_tags=driver.find_elements_By_xpath(\"//div[@class='title']/p/a[2]\")\n",
    "Quote_tags"
   ]
  },
  {
   "cell_type": "code",
   "execution_count": null,
   "id": "4f6d13fd",
   "metadata": {},
   "outputs": [],
   "source": [
    "for i in Quote_tags:\n",
    "    Quote=i.text\n",
    "    Quote_tags.append(Quote)\n",
    "    Quote[:1000]"
   ]
  },
  {
   "cell_type": "code",
   "execution_count": null,
   "id": "e0cbb9f9",
   "metadata": {},
   "outputs": [],
   "source": [
    "Author_tags=driver.find_elements_By_xpath(\"//div[@class=\"author\"]/p/a[2]\")\n",
    "Author_tags"
   ]
  },
  {
   "cell_type": "code",
   "execution_count": null,
   "id": "161afd9f",
   "metadata": {},
   "outputs": [],
   "source": [
    "for i in Author_tags:\n",
    "    Author=i.text\n",
    "    Author_tags.append(Author)\n",
    "    Author[:1000]"
   ]
  },
  {
   "cell_type": "code",
   "execution_count": null,
   "id": "85946adb",
   "metadata": {},
   "outputs": [],
   "source": [
    "Type_Quotes_tags=driver.find_elements_By_xpath(\"//div[@class=\"tags\"]/div[1]\")\n",
    "Type_Quotes_tags"
   ]
  },
  {
   "cell_type": "code",
   "execution_count": null,
   "id": "498b04f3",
   "metadata": {},
   "outputs": [],
   "source": [
    "for i in Type_Quotes _tags:\n",
    "    Type_Quotes=i.text\n",
    "    Type_Quotes_tags.append(Type_Quotes)\n",
    "    Type_Quotes[:1000]"
   ]
  },
  {
   "cell_type": "code",
   "execution_count": null,
   "id": "0f33a116",
   "metadata": {},
   "outputs": [],
   "source": [
    "df=pd.DataFrame()\n",
    "df[\"Quote\"]=Quote[:1000]\n",
    "df[\"Author\"]= Author[:1000]\n",
    "df[\"Type_Quotes\"]=Type_Quotes[:1000]\n",
    "df"
   ]
  }
 ],
 "metadata": {
  "kernelspec": {
   "display_name": "Python 3 (ipykernel)",
   "language": "python",
   "name": "python3"
  },
  "language_info": {
   "codemirror_mode": {
    "name": "ipython",
    "version": 3
   },
   "file_extension": ".py",
   "mimetype": "text/x-python",
   "name": "python",
   "nbconvert_exporter": "python",
   "pygments_lexer": "ipython3",
   "version": "3.11.3"
  }
 },
 "nbformat": 4,
 "nbformat_minor": 5
}
