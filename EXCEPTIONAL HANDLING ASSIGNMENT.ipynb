{
 "cells": [
  {
   "cell_type": "markdown",
   "id": "5a2c0f16",
   "metadata": {},
   "source": [
    "# EXCEPTIONAL HANDLING ASSIGNMENT"
   ]
  },
  {
   "cell_type": "code",
   "execution_count": null,
   "id": "185b4f28",
   "metadata": {},
   "outputs": [],
   "source": [
    "import pandas as pd\n",
    "import selenium\n",
    "from bs4 import BeautifulSoup\n",
    "import time\n",
    "from selenium import webdriver\n",
    "import requests\n",
    "import re\n",
    "from selenium.common.exceptions import NoSuchElementException, StaleElementReferenceException\n",
    "from selenium.webdriver.support.ui import WebDriverWait\n",
    "from selenium.webdriver.common.by import BY"
   ]
  },
  {
   "cell_type": "markdown",
   "id": "cd88a5ce",
   "metadata": {},
   "source": [
    "1.Write a python program which searches all the product under a particular product from www.amazon.in. The product to be searched will be taken as input from user. For e.g. If user input is ‘guitar’. Then search for guitars."
   ]
  },
  {
   "cell_type": "code",
   "execution_count": null,
   "id": "41adc88e",
   "metadata": {},
   "outputs": [],
   "source": [
    "driver=webdriver.Chrome(r\"C:/Users/HP/Downloads/chromedriver_win32 (1)/chromedriver.exe\")"
   ]
  },
  {
   "cell_type": "code",
   "execution_count": null,
   "id": "47070db0",
   "metadata": {},
   "outputs": [],
   "source": [
    "driver.get(\"http://www.amazon.in/\")"
   ]
  },
  {
   "cell_type": "code",
   "execution_count": null,
   "id": "ac468ec0",
   "metadata": {},
   "outputs": [],
   "source": [
    "designation = driver.find_element(By.CLASS_NAME,\"twotabsearchtextbox\")\n",
    "designation.send_keys(\"guitar\")"
   ]
  },
  {
   "cell_type": "code",
   "execution_count": null,
   "id": "89654cdb",
   "metadata": {},
   "outputs": [],
   "source": [
    "search_btn = driver.find_element(By.xpath,\"//div[@class='nav-search-submit nav-sprite']/span/input\")\n",
    "search_btn.click()"
   ]
  },
  {
   "cell_type": "markdown",
   "id": "8e994280",
   "metadata": {},
   "source": [
    "2.In the above question, now scrape the following details of each product listed in first 3 pages of your search results and save it in a data frame and csv. In case if any product has less than 3 pages in search results then scrape all the products available under that product name. Details to be scraped are: \"Brand Name\", \"Name of the Product\", \"Price\", \"Return/Exchange\", \"Expected Delivery\", \"Availability\" and “Product URL”. In case, if any of the details are missing for any of the product then replace it by “-“."
   ]
  },
  {
   "cell_type": "code",
   "execution_count": null,
   "id": "55b7edc3",
   "metadata": {},
   "outputs": [],
   "source": [
    "urls = []         \n",
    "for i in range(0,3):     \n",
    "    page_url = driver.find_elements(By.xpath,\"//a[@class='a-link-normal a-text-normal']\")\n",
    "    for i in page_url:\n",
    "        urls.append(i.get_attribute(\"href\"))\n",
    "        next_btn = driver.find_element(By.xpath,\"//li[@class='a-last']/a\")\n",
    "        time.sleep(3)"
   ]
  },
  {
   "cell_type": "code",
   "execution_count": null,
   "id": "040db8cb",
   "metadata": {},
   "outputs": [],
   "source": [
    "len(urls)"
   ]
  },
  {
   "cell_type": "code",
   "execution_count": null,
   "id": "6e80ec24",
   "metadata": {},
   "outputs": [],
   "source": [
    "Brand_Name = []\n",
    "Product_Name = []\n",
    "Prices = []\n",
    "Exchange = []\n",
    "Exp_Delivery = []\n",
    "Availability = []\n",
    "Other_Details = []"
   ]
  },
  {
   "cell_type": "code",
   "execution_count": null,
   "id": "8a6213ef",
   "metadata": {},
   "outputs": [],
   "source": [
    "for i in urls:\n",
    "    driver.get(i)\n",
    "    time.sleep(3)\n",
    "    \n",
    "    \n",
    "    #Brand name \n",
    "    try:\n",
    "        brand = driver.find_element(By.xpath,\"//a[@id='bylineInfo']\")\n",
    "        brand_name.append(brand.text)\n",
    "    except NoSuchElementException:\n",
    "        brand_name.append('-')"
   ]
  },
  {
   "cell_type": "code",
   "execution_count": null,
   "id": "5d21875b",
   "metadata": {},
   "outputs": [],
   "source": [
    " # Prouct name\n",
    "    try:\n",
    "        product = driver.find_element(By.xpath,\"//span[@id='productTitle']\")\n",
    "        product_name.append(product.text)\n",
    "    except NoSuchElementException:\n",
    "        product_name.append('-')"
   ]
  },
  {
   "cell_type": "code",
   "execution_count": null,
   "id": "3dccf7ff",
   "metadata": {},
   "outputs": [],
   "source": [
    "#Prices\n",
    "    try:\n",
    "        price = driver.find_element(By.xpath,\"//td[@class='a-span12']\")\n",
    "        prices.append(price.text)\n",
    "    except NoSuchElementException:\n",
    "        prices.append('-')"
   ]
  },
  {
   "cell_type": "code",
   "execution_count": null,
   "id": "423a90d9",
   "metadata": {},
   "outputs": [],
   "source": [
    "#Exchange\n",
    "    try:\n",
    "        exch = driver.find_element(By.xpath,\"//span[@class='a-declarative']/div/a\")\n",
    "        exchange.append(exch.text)\n",
    "    except NoSuchElementException:\n",
    "        exchange.append('-')"
   ]
  },
  {
   "cell_type": "code",
   "execution_count": null,
   "id": "36bb623b",
   "metadata": {},
   "outputs": [],
   "source": [
    "#Expected delivery\n",
    "    try:\n",
    "        delivery = driver.find_element(By.xpath,\"//div[@class='a-section a-spacing-mini']/b\")\n",
    "        exp_delivery.append(delivery.text)\n",
    "    except NoSuchElementException:\n",
    "        exp_delivery.append('-')"
   ]
  },
  {
   "cell_type": "code",
   "execution_count": null,
   "id": "d30ccbe9",
   "metadata": {},
   "outputs": [],
   "source": [
    "#Availablity\n",
    " try:\n",
    "        avail = driver.find_element(By.xpath,\"//span[@class='a-size-medium a-color-success']\")\n",
    "        availability.append(avail.text)\n",
    "    except NoSuchElementException:\n",
    "        availability.append('-')"
   ]
  },
  {
   "cell_type": "code",
   "execution_count": null,
   "id": "f4b1cd31",
   "metadata": {},
   "outputs": [],
   "source": [
    "#Other detailes\n",
    " try:\n",
    "        other_detailes = driver.find_element(By.xpath,\"//ul[@class='a-unordered-list a-vertical a-spacing-mini']\")\n",
    "        other_details.append(other_detailes.text)\n",
    "    except NoSuchElementException:\n",
    "        other_details.append('-')"
   ]
  },
  {
   "cell_type": "code",
   "execution_count": null,
   "id": "daa394ac",
   "metadata": {},
   "outputs": [],
   "source": [
    "print(len(Brand_Name),\n",
    "len(Product_Name),\n",
    "len(Prices),\n",
    "len(Exchange),\n",
    "len(Exp_Delivery),\n",
    "len(Availability),\n",
    "len(Other_Details))"
   ]
  },
  {
   "cell_type": "code",
   "execution_count": null,
   "id": "77c5adb2",
   "metadata": {},
   "outputs": [],
   "source": [
    "guitar = pd.DataFrame({})\n",
    "guitar['Brand Name'] = Brand_Name\n",
    "guitar['Product_Name'] = Product_Name\n",
    "guitar['Price'] = prices\n",
    "guitar['Return/Exchange'] = Exchange\n",
    "guitar['Expected Delivery'] = Exp_delivery\n",
    "guitar['Availability'] = Availability\n",
    "guitar['Other Details'] = Other_details\n",
    "guitar['Product URL'] = urls\n",
    "guitar"
   ]
  },
  {
   "cell_type": "code",
   "execution_count": null,
   "id": "2ef840f3",
   "metadata": {},
   "outputs": [],
   "source": [
    "guitar.to_csv(\"Guitar.csv\")"
   ]
  },
  {
   "cell_type": "code",
   "execution_count": null,
   "id": "a0d09419",
   "metadata": {},
   "outputs": [],
   "source": [
    "driver.close()"
   ]
  },
  {
   "cell_type": "markdown",
   "id": "97b5bb24",
   "metadata": {},
   "source": [
    "3.Write a python program to access the search bar and search button on images.google.com and scrape 10 images each for keywords ‘fruits’, ‘cars’ and ‘Machine Learning’, ‘Guitar’, ‘Cakes’."
   ]
  },
  {
   "cell_type": "code",
   "execution_count": null,
   "id": "a595255f",
   "metadata": {},
   "outputs": [],
   "source": [
    "driver=webdriver.Chrome(r\"C:/Users/HP/Downloads/chromedriver_win32 (1)/chromedriver.exe\")"
   ]
  },
  {
   "cell_type": "code",
   "execution_count": null,
   "id": "c31f7501",
   "metadata": {},
   "outputs": [],
   "source": [
    "url = \"http://images.google.com/\""
   ]
  },
  {
   "cell_type": "code",
   "execution_count": null,
   "id": "82f172dd",
   "metadata": {},
   "outputs": [],
   "source": [
    "urls = []\n",
    "data = []"
   ]
  },
  {
   "cell_type": "code",
   "execution_count": null,
   "id": "20abbda6",
   "metadata": {},
   "outputs": [],
   "source": [
    "search_item = [\"Fruits\",\"Cars\",\"Machine Learning\",\"Guitar\",\"cake\"]\n",
    "for item in search_item:\n",
    "    driver.get(url)\n",
    "    time.sleep(5)"
   ]
  },
  {
   "cell_type": "code",
   "execution_count": null,
   "id": "b05b7af1",
   "metadata": {},
   "outputs": [],
   "source": [
    " search_bar = driver.find_element(By.CLASS_NAME,\"input\")\n",
    "    search_bar.send_keys(str(item))   "
   ]
  },
  {
   "cell_type": "code",
   "execution_count": null,
   "id": "77a820e2",
   "metadata": {},
   "outputs": [],
   "source": [
    "search_button = driver.find_element_by_xpath(\"//button[@class='Tg7LZd']\")\n",
    "search_button.click()"
   ]
  },
  {
   "cell_type": "code",
   "execution_count": null,
   "id": "73cc6aac",
   "metadata": {},
   "outputs": [],
   "source": [
    " for _ in range(500):\n",
    "        driver.execute_script(\"window.scrollBy(0,100)\")\n",
    "        \n",
    "        imgs = driver.find_elements(By.xpath,\"//img[@class='rg_i Q4LuWd']\")\n",
    "    img_url = []\n",
    "    for image in imgs:\n",
    "        source = image.get_attribute('src')\n",
    "        if source is not None:\n",
    "            if(source[0:4] == 'http'):\n",
    "                img_url.append(source)\n",
    "    for i in img_url[:100]:\n",
    "        urls.append(i)\n",
    "        \n",
    "for i in range(len(urls)):\n",
    "    if i >= 300:\n",
    "        break\n",
    "    print(\"Doenloading {0} of {1} images\" .format(i,300))\n",
    "    response = requests.get(urls[i])\n",
    "    \n",
    "    file = open(r\"E:\\google\\images\"+str(i)+\".jpg\",\"wb\")\n",
    "    \n",
    "    file.write(response.content)"
   ]
  },
  {
   "cell_type": "code",
   "execution_count": null,
   "id": "6f9fbf80",
   "metadata": {},
   "outputs": [],
   "source": [
    "driver.close()"
   ]
  },
  {
   "cell_type": "markdown",
   "id": "b95b47e9",
   "metadata": {},
   "source": [
    "4.Write a python program to search for a smartphone(e.g.: Oneplus Nord, pixel 4A, etc.) on www.flipkart.com and scrape following details for all the search results displayed on 1st page. Details to be scraped: “Brand Name”, “Smartphone name”, “Colour”, “RAM”, “Storage(ROM)”, “Primary Camera”, “Secondary Camera”, “Display Size”, “Battery Capacity”, “Price”, “Product URL”. Incase if any of the details is missing then replace it by “- “. Save your results in a dataframe and CSV."
   ]
  },
  {
   "cell_type": "code",
   "execution_count": null,
   "id": "efb7160f",
   "metadata": {},
   "outputs": [],
   "source": [
    "driver=webdriver.Chrome(r\"C:/Users/HP/Downloads/chromedriver_win32 (1)/chromedriver.exe\")"
   ]
  },
  {
   "cell_type": "code",
   "execution_count": null,
   "id": "3c045b62",
   "metadata": {},
   "outputs": [],
   "source": [
    "driver.get(\"https://www.flipkart.com/\")"
   ]
  },
  {
   "cell_type": "code",
   "execution_count": null,
   "id": "be28c6f8",
   "metadata": {},
   "outputs": [],
   "source": [
    "designation= driver.find_element(By.xpath,\"//div[@class='_2QfC02']//button\")\n",
    "designation.send_keys(\"Oneplus Nord\")"
   ]
  },
  {
   "cell_type": "code",
   "execution_count": null,
   "id": "95e69a1e",
   "metadata": {},
   "outputs": [],
   "source": [
    "search_bar= driver.find_element(By.xpath,\"//input[@class='_3704LK']\")\n",
    "search_bar.click(\"pixel 4A\")"
   ]
  },
  {
   "cell_type": "code",
   "execution_count": null,
   "id": "c836a653",
   "metadata": {},
   "outputs": [],
   "source": [
    "search_btn = driver.find_element(By.xpath,\"//button[@class='L0Z3Pu']\")\n",
    "search_btn.click()"
   ]
  },
  {
   "cell_type": "code",
   "execution_count": null,
   "id": "0d25298e",
   "metadata": {},
   "outputs": [],
   "source": [
    "page_url = []\n",
    "urls = driver.find_elements(By.xpath,\"//a[@class='_1fQZEK']\")\n",
    "for url in urls:\n",
    "    page_url.append(url.get_attribute('href'))"
   ]
  },
  {
   "cell_type": "code",
   "execution_count": null,
   "id": "39f7cef0",
   "metadata": {},
   "outputs": [],
   "source": [
    "len(page_url)"
   ]
  },
  {
   "cell_type": "code",
   "execution_count": null,
   "id": "21b6ee84",
   "metadata": {},
   "outputs": [],
   "source": [
    "Smartphones = ({})\n",
    "Smartphones['Brand'] = []\n",
    "Smartphones['Phone name'] = []\n",
    "Smartphones['Colour'] = []\n",
    "Smartphones['RAM'] = []\n",
    "Smartphones['Storage(ROM)'] = []\n",
    "Smartphones['Primary Camera'] = []\n",
    "Smartphones['Secondary Camera'] = []\n",
    "Smartphones['Display Size'] = []\n",
    "Smartphones['Battery Capacity'] = []\n",
    "Smartphones['Price'] = []\n",
    "Smartphones['URL'] = []"
   ]
  },
  {
   "cell_type": "code",
   "execution_count": null,
   "id": "41ed95a4",
   "metadata": {},
   "outputs": [],
   "source": [
    "for url in page_url:\n",
    "    driver.get(url)\n",
    "    print(\"Scraping URL = \",url)\n",
    "    Smartphones['URL'].append(url)\n",
    "    time.sleep(2)"
   ]
  },
  {
   "cell_type": "code",
   "execution_count": null,
   "id": "b97ea81b",
   "metadata": {},
   "outputs": [],
   "source": [
    " #read more button to get more information\n",
    "    try:\n",
    "        read_more = driver.find_element(By.xpath,\"//button[@class='_2KpZ6l _1FH0tX']\")\n",
    "        read_more.click()\n",
    "    except NoSuchElementException:\n",
    "        print(\"Exception occured while moving to next page\")"
   ]
  },
  {
   "cell_type": "code",
   "execution_count": null,
   "id": "a0c59319",
   "metadata": {},
   "outputs": [],
   "source": [
    "#Brand name\n",
    "    try:\n",
    "        brand_tags = driver.find_element(By.xpath,\"//span[@class='B_NuCI']\")\n",
    "        Smartphones['Brand'].append(brand_tags.text.split()[0])\n",
    "    except NoSuchElementException:\n",
    "        Smartphones['Brand'].append('-')"
   ]
  },
  {
   "cell_type": "code",
   "execution_count": null,
   "id": "98cd4ba6",
   "metadata": {},
   "outputs": [],
   "source": [
    " #name of smartphones\n",
    "    try:\n",
    "        name_tags = driver.find_element(By.xpath,\"//div[@class='_3k-BhJ'][1]/table/tbody/tr[3]/td[2]/ul/li\")\n",
    "        Smartphones['Phone name'].append(name_tags.text)\n",
    "    except NoSuchElementException:\n",
    "        Smartphones['Phone name'].append('-')"
   ]
  },
  {
   "cell_type": "code",
   "execution_count": null,
   "id": "dad5963e",
   "metadata": {},
   "outputs": [],
   "source": [
    "#colour\n",
    "    try:\n",
    "        color_tags = driver.find_element(By.xpath,\"//div[@class='_3k-BhJ'][1]/table/tbody/tr[4]/td[2]/ul/li\")\n",
    "        Smartphones['Colour'].append(color_tags.text)\n",
    "    except NoSuchElementException:\n",
    "        Smartphones['Colour'].append('-')"
   ]
  },
  {
   "cell_type": "code",
   "execution_count": null,
   "id": "74ddedf0",
   "metadata": {},
   "outputs": [],
   "source": [
    "  # RAM \n",
    "    try:\n",
    "        ram_tags = driver.find_element_by_xpath(\"//div[@class='_3k-BhJ'][4]/table[1]/tbody/tr[2]/td[2]/ul/li\")\n",
    "        Smartphones['RAM'].append(ram_tags.text)\n",
    "    except NoSuchElementException:\n",
    "        Smartphones['RAM'].append('-')"
   ]
  },
  {
   "cell_type": "code",
   "execution_count": null,
   "id": "a2f0fbae",
   "metadata": {},
   "outputs": [],
   "source": [
    " # ROM \n",
    "    try:\n",
    "        rom = driver.find_element_by_xpath(\"//div[@class='_3k-BhJ'][4]/table[1]/tbody/tr[1]/td[2]/ul/li\")\n",
    "        Smartphones['Storage(ROM)'].append(rom.text)\n",
    "    except NoSuchElementException:\n",
    "        Smartphones['Storage(ROM)'].append('-')"
   ]
  },
  {
   "cell_type": "code",
   "execution_count": null,
   "id": "9c9d2556",
   "metadata": {},
   "outputs": [],
   "source": [
    " #  Primary camera \n",
    "    try:\n",
    "        pri =driver.find_element_by_xpath(\"//div[@class='_3k-BhJ'][5]/table[1]/tbody/tr[2]/td[2]/ul/li\")\n",
    "        Smartphones['Primary Camera'].append(pri.text)\n",
    "    except NoSuchElementException:\n",
    "        Smartphones['Primary Camera'].append('-')"
   ]
  },
  {
   "cell_type": "code",
   "execution_count": null,
   "id": "80a2372e",
   "metadata": {},
   "outputs": [],
   "source": [
    " # scraping secondary camera data of smartphone\n",
    "    try:\n",
    "        sec = driver.find_element_by_xpath(\"//div[@class='_3k-BhJ'][5]/table[1]/tbody/tr[6]/td[1]\")\n",
    "        if sec != 'Secondary Camera' :\n",
    "            if driver.find_element_by_xpath(\"//div[@class='_3k-BhJ'][5]/table[1]/tbody/tr[5]/td[1]\").text == \"Secondary Camera\":\n",
    "                sec_cam =driver.find_element_by_xpath(\"//div[@class='_3k-BhJ'][5]/table[1]/tbody/tr[5]/td[2]/ul/li\")\n",
    "            else :\n",
    "                raise NoSuchElementException\n",
    "        else :\n",
    "            sec_cam = driver.find_element_by_xpath(\"//div[@class='_3k-BhJ'][5]/table[1]/tbody/tr[6]/td[2]/ul/li\")\n",
    "        Smartphones['Secondary Camera'].append(sec_cam.text)\n",
    "    except NoSuchElementException:\n",
    "        Smartphones['Secondary Camera'].append('-')"
   ]
  },
  {
   "cell_type": "code",
   "execution_count": null,
   "id": "cb789f69",
   "metadata": {},
   "outputs": [],
   "source": [
    " #scraping display size data of smartphone\n",
    "    try:\n",
    "        disp = driver.find_element_by_xpath(\"//div[@class='_3k-BhJ'][2]/div\")\n",
    "        if disp.text != 'Display Features' : raise NoSuchElementException\n",
    "        disp_size = driver.find_element_by_xpath(\"//div[@class='_3k-BhJ'][2]/table[1]/tbody/tr[1]/td[2]/ul/li\")\n",
    "        Smartphones['Display Size'].append(disp_size.text)\n",
    "    except NoSuchElementException:\n",
    "        Smartphones['Display Size'].append('-')\n",
    "        "
   ]
  },
  {
   "cell_type": "code",
   "execution_count": null,
   "id": "63abc9b1",
   "metadata": {},
   "outputs": [],
   "source": [
    "# scraping the battery capacity of smartphone\n",
    "    try:\n",
    "        if driver.find_element_by_xpath(\"//div[@class='_3k-BhJ'][10]/div\").text != \"Battery & Power Features\" :\n",
    "            if driver.find_element_by_xpath(\"//div[@class='_3k-BhJ'][9]/div\").text == \"Battery & Power Features\" :\n",
    "                bat_tags = driver.find_element_by_xpath(\"//div[@class='_3k-BhJ'][9]/table/tbody/tr/td[1]\")\n",
    "                if bat_tags.text != \"Battery Capacity\" : raise NoSuchElementException\n",
    "                bat_capa = driver.find_element_by_xpath(\"//div[@class='_3k-BhJ'][9]/table/tbody/tr/td[2]/ul/li\")\n",
    "            elif driver.find_element_by_xpath(\"//div[@class='_3k-BhJ'][8]/div\").text == \"Battery & Power Features\" :\n",
    "                bat_tags = driver.find_element_by_xpath(\"//div[@class='_3k-BhJ'][8]/table/tbody/tr/td[1]\")\n",
    "                if bat_tags.text != \"Battery Capacity\" : raise NoSuchElementException\n",
    "                bat_capa = driver.find_element_by_xpath(\"//div[@class='_3k-BhJ'][8]/table/tbody/tr/td[2]/ul/li\")\n",
    "            else:\n",
    "                raise NoSuchElementException\n",
    "        else :\n",
    "            bat_tags = driver.find_element_by_xpath(\"//div[@class='_3k-BhJ'][10]/table/tbody/tr/td[1]\")\n",
    "            if bat_tags.text != \"Battery Capacity\" : raise NoSuchElementException\n",
    "            bat_capa = driver.find_element_by_xpath(\"//div[@class='_3k-BhJ'][10]/table/tbody/tr/td[2]/ul/li\")\n",
    "        Smartphones['Battery Capacity'].append(bat_capa.text)\n",
    "    except NoSuchElementException:\n",
    "        Smartphones['Battery Capacity'].append('-')\n",
    "    "
   ]
  },
  {
   "cell_type": "code",
   "execution_count": null,
   "id": "5a7c7fb5",
   "metadata": {},
   "outputs": [],
   "source": [
    " # scraping price of smartphone\n",
    "    try:\n",
    "        price_tags = driver.find_element(By.xpath,\"//div[@class='_30jeq3 _16Jk6d']\")\n",
    "        Smartphones['Price'].append(price_tags.text)\n",
    "    except NoSuchElementException:\n",
    "          Smartphones['Price'].append('-')"
   ]
  },
  {
   "cell_type": "code",
   "execution_count": null,
   "id": "8b352a2f",
   "metadata": {},
   "outputs": [],
   "source": [
    "\n",
    "print(len(Smartphones['Brand']),len(Smartphones['Phone name']), len(Smartphones['Colour']),len(Smartphones['RAM']),len(Smartphones['Storage(ROM)']),len(Smartphones['Primary Camera']),len(Smartphones['Secondary Camera']), len(Smartphones['Display Size']), len(Smartphones['Battery Capacity']), len(Smartphones['Price']), len(Smartphones['URL'])) "
   ]
  },
  {
   "cell_type": "code",
   "execution_count": null,
   "id": "33d25e48",
   "metadata": {},
   "outputs": [],
   "source": [
    "df = pd.DataFrame.from_dict(Smartphones)\n",
    "df"
   ]
  },
  {
   "cell_type": "code",
   "execution_count": null,
   "id": "73a5f192",
   "metadata": {},
   "outputs": [],
   "source": [
    "df.to_csv(\"smartphones.csv\")"
   ]
  },
  {
   "cell_type": "code",
   "execution_count": null,
   "id": "5f89f253",
   "metadata": {},
   "outputs": [],
   "source": [
    "driver.close()"
   ]
  },
  {
   "cell_type": "markdown",
   "id": "f8c1d50c",
   "metadata": {},
   "source": [
    "5.Write a program to scrap geospatial coordinates (latitude, longitude) of a city searched on google maps."
   ]
  },
  {
   "cell_type": "code",
   "execution_count": null,
   "id": "ce639798",
   "metadata": {},
   "outputs": [],
   "source": [
    "driver=webdriver.Chrome(r\"C:/Users/HP/Downloads/chromedriver_win32 (1)/chromedriver.exe\")"
   ]
  },
  {
   "cell_type": "code",
   "execution_count": null,
   "id": "a38b5e30",
   "metadata": {},
   "outputs": [],
   "source": [
    "driver.get('https://www.google.co.in/maps')"
   ]
  },
  {
   "cell_type": "code",
   "execution_count": null,
   "id": "ff638c6c",
   "metadata": {},
   "outputs": [],
   "source": [
    "City = input('Enter City name that has to be searched : ')\n",
    "search_bar = driver.find_element(By.CLASS_NAME,'searchboxinput')\n",
    "search_bar.send(city)\n",
    "time.sleep(2)"
   ]
  },
  {
   "cell_type": "code",
   "execution_count": null,
   "id": "502427c5",
   "metadata": {},
   "outputs": [],
   "source": [
    "search_btn = driver.find_element(By.CLASS_NAME,\"searchbox-searchbutton\")\n",
    "search_btn.click()\n",
    "time.sleep(2)"
   ]
  },
  {
   "cell_type": "code",
   "execution_count": null,
   "id": "b71f09e3",
   "metadata": {},
   "outputs": [],
   "source": [
    "\n",
    "try:\n",
    "    url_str = driver.current_url\n",
    "    print(\"URL Extracted: \", url_str)\n",
    "    latitude_longitude = re.findall(r'@(.*)data',url_str)\n",
    "    if len(latitude_longitude):\n",
    "        lat_lng_list = latitude_longitude[0].split(\",\")\n",
    "        if len(lat_lng_list)>=2:\n",
    "            latitude = lat_lng_list[0]\n",
    "            longitude = lat_lng_list[1]\n",
    "        print(\"Latitude = {}, Longitude = {}\".format(latitude, longitude))\n",
    "except Exception as e:\n",
    "        print(\"Error: \", str(e))"
   ]
  },
  {
   "cell_type": "code",
   "execution_count": null,
   "id": "8bd98704",
   "metadata": {},
   "outputs": [],
   "source": [
    "driver.close()"
   ]
  },
  {
   "cell_type": "markdown",
   "id": "f6359af0",
   "metadata": {},
   "source": [
    "6.Write a program to scrap all the available details of best gaming laptops from digit.in"
   ]
  },
  {
   "cell_type": "code",
   "execution_count": null,
   "id": "b53f2588",
   "metadata": {},
   "outputs": [],
   "source": [
    "driver=webdriver.Chrome(r\"C:/Users/HP/Downloads/chromedriver_win32 (1)/chromedriver.exe\")"
   ]
  },
  {
   "cell_type": "code",
   "execution_count": null,
   "id": "b67a190d",
   "metadata": {},
   "outputs": [],
   "source": [
    "driver.get(\"htpps://www.digit.in\")\n"
   ]
  },
  {
   "cell_type": "code",
   "execution_count": null,
   "id": "87edb1c0",
   "metadata": {},
   "outputs": [],
   "source": [
    "best_game_laptops = driver.find_element(By.xpath,\"//div[@class='listing_container']//ul//li[9]\")\n",
    "best_game_laptops.click()\n",
    "time.sleep(3)"
   ]
  },
  {
   "cell_type": "code",
   "execution_count": null,
   "id": "d2e56917",
   "metadata": {},
   "outputs": [],
   "source": [
    "Laptop_Name = []\n",
    "Operating_sys = []\n",
    "Display = []\n",
    "Processor = []\n",
    "Memory = []\n",
    "Weight = []\n",
    "Dimensions = []\n",
    "Graph_proc = []\n",
    "Price = []"
   ]
  },
  {
   "cell_type": "code",
   "execution_count": null,
   "id": "3aae357d",
   "metadata": {},
   "outputs": [],
   "source": [
    "laptop_name = driver.find_elements(By.xpath,\"//div[@class='right-container']/div/a/h3\")\n",
    "for name in laptop_name:\n",
    "    Laptop_Name.append(name.text)"
   ]
  },
  {
   "cell_type": "code",
   "execution_count": null,
   "id": "4599d615",
   "metadata": {},
   "outputs": [],
   "source": [
    "try:\n",
    "    op_sys = driver.find_elements(By.xpath,\"//div[@class='product-detail']/div/ul/li[1]/div/div\")\n",
    "    for os in op_sys:\n",
    "        Operating_sys.append(os.text)\n",
    "except NoSuchElementException:\n",
    "    #operating system"
   ]
  },
  {
   "cell_type": "code",
   "execution_count": null,
   "id": "83564747",
   "metadata": {},
   "outputs": [],
   "source": [
    "try:\n",
    "    display = driver.find_elements(By.xpath,\"//div[@class='product-detail']/div/ul/li[2]/div/div\")\n",
    "    for disp in display:\n",
    "        Display.append(disp.text)\n",
    "except NoSuchElementException:\n",
    "    #data of display of the Laptop"
   ]
  },
  {
   "cell_type": "code",
   "execution_count": null,
   "id": "e637be17",
   "metadata": {},
   "outputs": [],
   "source": [
    " #data of processor\n",
    "try:\n",
    "    processor = driver.find_elements(By.xpath,\"//div[@class='Spcs-details'][1]/table/tbody/tr[5]/td[3]\")\n",
    "    for pro in processor:\n",
    "        Processor.append(pro.text)\n",
    "except NoSuchElementException:"
   ]
  },
  {
   "cell_type": "code",
   "execution_count": null,
   "id": "0f4819c5",
   "metadata": {},
   "outputs": [],
   "source": [
    "#data of memory\n",
    "try:\n",
    "    memory = driver.find_elements(BY.xpath,\"//div[@class='Spcs-details'][1]/table/tbody/tr[6]/td[3]\")\n",
    "    for memo in memory:\n",
    "        Memory.append(memo.text)\n",
    "except NoSuchElementException:"
   ]
  },
  {
   "cell_type": "code",
   "execution_count": null,
   "id": "ed2607a5",
   "metadata": {},
   "outputs": [],
   "source": [
    "# data of weight\n",
    "try:\n",
    "    weight = driver.find_elements(By.xpath,\"//div[@class='Spcs-details'][1]/table/tbody/tr[7]/td[3]\")\n",
    "    for wgt in weight:\n",
    "        Weight.append(wgt.text)\n",
    "except NoSuchElementException:"
   ]
  },
  {
   "cell_type": "code",
   "execution_count": null,
   "id": "c1263f16",
   "metadata": {},
   "outputs": [],
   "source": [
    " # data of dimensions\n",
    "try:\n",
    "    dimension = driver.find_elements(By.xpath,\"//div[@class='Spcs-details'][1]/table/tbody/tr[8]/td[3]\")\n",
    "    for dim in dimension:\n",
    "        Dimensions.append(dim.text)\n",
    "except NoSuchElementException:"
   ]
  },
  {
   "cell_type": "code",
   "execution_count": null,
   "id": "d2463687",
   "metadata": {},
   "outputs": [],
   "source": [
    "# data of graph processor\n",
    "try:\n",
    "    graph = driver.find_elements(By.xpath,\"//div[@class='Spcs-details'][1]/table/tbody/tr[9]/td[3]\")\n",
    "    for gra in graph:\n",
    "        Graph_proc.append(gra.text)\n",
    "except NoSuchElementException:"
   ]
  },
  {
   "cell_type": "code",
   "execution_count": null,
   "id": "2876f954",
   "metadata": {},
   "outputs": [],
   "source": [
    "# data of price\n",
    "try:\n",
    "    price = driver.find_elements(By.xpath,\"//td[@class='smprice']\")\n",
    "    for pri in price:\n",
    "        Price.append(pri.text.replace('₹ ','Rs'))\n",
    "except NoSuchElementException:"
   ]
  },
  {
   "cell_type": "code",
   "execution_count": null,
   "id": "c6cbd285",
   "metadata": {},
   "outputs": [],
   "source": [
    "print(len(Laptop_Name),\n",
    "len(Operating_sys),\n",
    "len(Display),\n",
    "len(Processor),\n",
    "len(Memory),\n",
    "len(Weight),\n",
    "len(Dimensions),\n",
    "len(Graph_proc),\n",
    "len(Price))"
   ]
  },
  {
   "cell_type": "code",
   "execution_count": null,
   "id": "ec312023",
   "metadata": {},
   "outputs": [],
   "source": [
    "Gaming_Laptop=pd.DataFrame({})\n",
    "Gaming_Laptop['Laptop Name'] = Laptop_Name\n",
    "Gaming_Laptop['Operating System'] =Operating_sys\n",
    "Gaming_Laptop['Display'] = Display\n",
    "Gaming_Laptop['Processor'] = Processor\n",
    "Gaming_Laptop['Memory'] = Memory\n",
    "Gaming_Laptop['Weight'] = Weight\n",
    "Gaming_Laptop['Dimensions'] = Dimensions\n",
    "Gaming_Laptop['Graphical Processor'] = Graph_proc\n",
    "Gaming_Laptop['Price'] = Price\n",
    "Gaming_Laptop"
   ]
  },
  {
   "cell_type": "code",
   "execution_count": null,
   "id": "7c089a23",
   "metadata": {},
   "outputs": [],
   "source": [
    "Gaming_Laptop.to_csv(\"Gaming_Laptops.csv\")"
   ]
  },
  {
   "cell_type": "code",
   "execution_count": null,
   "id": "2706dcb7",
   "metadata": {},
   "outputs": [],
   "source": [
    "driver.close()"
   ]
  },
  {
   "cell_type": "markdown",
   "id": "2494ebd7",
   "metadata": {},
   "source": [
    "7.Write a python program to scrape the details for all billionaires from www.forbes.com. Details to be scrapped: “Rank”, “Name”, “Net worth”, “Age”, “Citizenship”, “Source”, “Industry”."
   ]
  },
  {
   "cell_type": "code",
   "execution_count": null,
   "id": "08ecdfd5",
   "metadata": {},
   "outputs": [],
   "source": [
    "driver=webdriver.Chrome(r\"C:/Users/HP/Downloads/chromedriver_win32 (1)/chromedriver.exe\")"
   ]
  },
  {
   "cell_type": "code",
   "execution_count": null,
   "id": "2e1dab3a",
   "metadata": {},
   "outputs": [],
   "source": [
    "url = \"https://www.forbes.com/?sh=41bd46d2254c\"\n",
    "driver.get(url)"
   ]
  },
  {
   "cell_type": "code",
   "execution_count": null,
   "id": "cd2be7a1",
   "metadata": {},
   "outputs": [],
   "source": [
    "opt_btn = driver.find_element_by_xpath(\"//div[@class='header__left']//button\")\n",
    "opt_btn.click()\n",
    "time.sleep(3)"
   ]
  },
  {
   "cell_type": "code",
   "execution_count": null,
   "id": "049b331f",
   "metadata": {},
   "outputs": [],
   "source": [
    "boans = driver.find_element_by_xpath(\"/html/body/div[1]/header/nav/div[3]/ul/li[1]\")\n",
    "boans.click()\n",
    "time.sleep(3)"
   ]
  },
  {
   "cell_type": "code",
   "execution_count": null,
   "id": "06b16867",
   "metadata": {},
   "outputs": [],
   "source": [
    "bln_list = driver.find_element_by_xpath(\"/html/body/div[1]/header/nav/div[3]/ul/li[1]/div[2]/ul/li[2]/a\")\n",
    "bln_list.click()\n",
    "time.sleep(4)"
   ]
  },
  {
   "cell_type": "code",
   "execution_count": null,
   "id": "ec9905a4",
   "metadata": {},
   "outputs": [],
   "source": [
    "Rank = []\n",
    "Person_Name = []\n",
    "Net_worth = []\n",
    "Age = []\n",
    "Citizenship = []\n",
    "Source = []\n",
    "Industry = []"
   ]
  },
  {
   "cell_type": "code",
   "execution_count": null,
   "id": "a8fabbd6",
   "metadata": {},
   "outputs": [],
   "source": [
    "#  rank of the billionaires\n",
    "    rank_tag = driver.find_elements(By.xpath,\"//div[@class='rank']\")\n",
    "    for rank in rank_tag:\n",
    "        Rank.append(rank.text)\n",
    "    time.sleep(1)"
   ]
  },
  {
   "cell_type": "code",
   "execution_count": null,
   "id": "c2b2b17f",
   "metadata": {},
   "outputs": [],
   "source": [
    "# names of the billionaires\n",
    "    name_tag = driver.find_elements(By.xpath,\"//div[@class='personName']/div\")\n",
    "    for name in name_tag:\n",
    "        Person_Name.append(name.text)\n",
    "    time.sleep(1)"
   ]
  },
  {
   "cell_type": "code",
   "execution_count": null,
   "id": "ce117295",
   "metadata": {},
   "outputs": [],
   "source": [
    "# age of the billionaires\n",
    "    age_tag = driver.find_elements(By.xpath,\"//div[@class='age']/div\")\n",
    "    for age in age_tag:\n",
    "        Age.append(age.text)\n",
    "    time.sleep(1)"
   ]
  },
  {
   "cell_type": "code",
   "execution_count": null,
   "id": "8533fe9a",
   "metadata": {},
   "outputs": [],
   "source": [
    "#  citizenship of the billionaires\n",
    "    cit_tag = driver.find_elements(By.xpath,\"//div[@class='countryOfCitizenship']\")\n",
    "    for cit in cit_tag:\n",
    "        Citizenship.append(cit.text)\n",
    "    time.sleep(1)\n",
    "    "
   ]
  },
  {
   "cell_type": "code",
   "execution_count": null,
   "id": "2e195a2e",
   "metadata": {},
   "outputs": [],
   "source": [
    "# source of income of the billionaires\n",
    "    sour_tag = driver.find_elements(By.xpath,\"//div[@class='source']\")\n",
    "    for sour in sour_tag:\n",
    "        Source.append(sour.text)\n",
    "    time.sleep(1)"
   ]
  },
  {
   "cell_type": "code",
   "execution_count": null,
   "id": "6d7004d5",
   "metadata": {},
   "outputs": [],
   "source": [
    "# industry of the billionaires\n",
    "    indus_tag = driver.find_elements(By.xpath,\"//div[@class='category']//div\")\n",
    "    for indus in ind_tag:\n",
    "        Industry.append(ind.text)\n",
    "    time.sleep(1)"
   ]
  },
  {
   "cell_type": "code",
   "execution_count": null,
   "id": "763c55dc",
   "metadata": {},
   "outputs": [],
   "source": [
    "#  net_worth of billionaires\n",
    "    net_wor_tag = driver.find_elements(By.xpath,\"//div[@class='netWorth']/div\")\n",
    "    for net in net_wor_tag:\n",
    "        Net_worth.append(net.text)\n",
    "    time.sleep(1)\n",
    "    "
   ]
  },
  {
   "cell_type": "code",
   "execution_count": null,
   "id": "138cdbde",
   "metadata": {},
   "outputs": [],
   "source": [
    "# clicking on next button\n",
    "    try:\n",
    "        next_button = driver.find_element(By,xpath,\"//button[@class='pagination-btn pagination-btn--next ']\")\n",
    "        next_button.click()\n",
    "    except:"
   ]
  },
  {
   "cell_type": "code",
   "execution_count": null,
   "id": "7a77b45b",
   "metadata": {},
   "outputs": [],
   "source": [
    "print(len(Rank),\n",
    "len(Person_Name),\n",
    "len(Net_worth),\n",
    "len(Age),\n",
    "len(Citizenship),\n",
    "len(Source),\n",
    "len(Industry))"
   ]
  },
  {
   "cell_type": "code",
   "execution_count": null,
   "id": "dda1c478",
   "metadata": {},
   "outputs": [],
   "source": [
    "Billionaires = pd.DataFrame({})\n",
    "Billionaires['Rank'] = Rank\n",
    "Billionaires['Name'] = Person_Name\n",
    "Billionaires['Net Worth'] = Net_worth\n",
    "Billionaires['Age'] = Age\n",
    "Billionaires['Citizenship'] = Citizenship\n",
    "Billionaires['Source'] = Source\n",
    "Billionaires['Industry'] = Industry\n",
    "Billionaires\n"
   ]
  },
  {
   "cell_type": "code",
   "execution_count": null,
   "id": "22cb40a6",
   "metadata": {},
   "outputs": [],
   "source": [
    "Billionaires.to_csv('Forbes_Billionaires.csv')"
   ]
  },
  {
   "cell_type": "code",
   "execution_count": null,
   "id": "310cba32",
   "metadata": {},
   "outputs": [],
   "source": [
    "driver.close()"
   ]
  },
  {
   "cell_type": "markdown",
   "id": "8c830cf2",
   "metadata": {},
   "source": [
    "8.Write a program to extract at least 500 Comments, Comment upvote and time when comment was posted from any YouTube Video."
   ]
  },
  {
   "cell_type": "code",
   "execution_count": null,
   "id": "f0788539",
   "metadata": {},
   "outputs": [],
   "source": [
    "driver=webdriver.Chrome(r\"C:/Users/HP/Downloads/chromedriver_win32 (1)/chromedriver.exe\")"
   ]
  },
  {
   "cell_type": "code",
   "execution_count": null,
   "id": "30135dee",
   "metadata": {},
   "outputs": [],
   "source": [
    "url = \"https://www.youtube.com/\"\n",
    "driver.get(url)\n",
    "time.sleep(2)"
   ]
  },
  {
   "cell_type": "code",
   "execution_count": null,
   "id": "dd603149",
   "metadata": {},
   "outputs": [],
   "source": [
    "search_bar = driver.find_element(By.xpath,\"//div[@class='ytd-searchbox-spt']/input\")\n",
    "search_bar.send_keys(\"GOT\")\n",
    "time.sleep(2)"
   ]
  },
  {
   "cell_type": "code",
   "execution_count": null,
   "id": "a60f045d",
   "metadata": {},
   "outputs": [],
   "source": [
    "search_btn = driver.find_element(By.CLASS_NAME,\"search-icon-legacy\")\n",
    "search_btn.click()\n",
    "time.sleep(2)"
   ]
  },
  {
   "cell_type": "code",
   "execution_count": null,
   "id": "ff4865e5",
   "metadata": {},
   "outputs": [],
   "source": [
    "video = driver.find_element(By.Xpath,\"//yt-formatted-string[@class='style-scope ytd-video-renderer']\")\n",
    "video.click()"
   ]
  },
  {
   "cell_type": "code",
   "execution_count": null,
   "id": "ad5c0b64",
   "metadata": {},
   "outputs": [],
   "source": [
    "for _ in range(1000):\n",
    "    driver.execute_script(\"window.scrollBy(0,10000)\")"
   ]
  },
  {
   "cell_type": "code",
   "execution_count": null,
   "id": "3691e535",
   "metadata": {},
   "outputs": [],
   "source": [
    "comments = []\n",
    "comment_time = []\n",
    "Time = []\n",
    "Likes = []\n",
    "No_of_Likes = []"
   ]
  },
  {
   "cell_type": "code",
   "execution_count": null,
   "id": "8a4646db",
   "metadata": {},
   "outputs": [],
   "source": [
    "# scrape comments\n",
    "cm = driver.find_elements(By.CLASS_NAME,\"content-text\")\n",
    "for i in cm:\n",
    "    if i.text is None:\n",
    "        comments.append(\"--\")\n",
    "    else:\n",
    "        comments.append(i.text)\n",
    "time.sleep(4)"
   ]
  },
  {
   "cell_type": "code",
   "execution_count": null,
   "id": "c18daa42",
   "metadata": {},
   "outputs": [],
   "source": [
    "# scrape time when comment was posted\n",
    "tm = driver.find_elements(By.xpath,\"//a[contains(text(),'ago')]\")\n",
    "for i in tm:\n",
    "    Time.append(i.text)\n",
    "    \n",
    "for i in range(0,len(Time),2):\n",
    "    comment_time.append(Time[i])\n",
    "time.sleep(4)"
   ]
  },
  {
   "cell_type": "code",
   "execution_count": null,
   "id": "a3dc5d22",
   "metadata": {},
   "outputs": [],
   "source": [
    "# scrape the comment likes\n",
    "like = driver.find_elements(By.xpath,\"//span[@class='style-scope ytd-comment-action-buttons-renderer']\")\n",
    "for i in like:\n",
    "    Likes.append(i.text)\n",
    "    \n",
    "for i in range(1,len(Likes),2):\n",
    "    No_of_Likes.append(Likes[i])"
   ]
  },
  {
   "cell_type": "code",
   "execution_count": null,
   "id": "fba3f3d1",
   "metadata": {},
   "outputs": [],
   "source": [
    "print(len(comments),len(comment_time),len(No_of_Likes))"
   ]
  },
  {
   "cell_type": "code",
   "execution_count": null,
   "id": "e7639a66",
   "metadata": {},
   "outputs": [],
   "source": [
    "Youtube = pd.DataFrame({})\n",
    "Youtube['Comment'] = comments[:500]\n",
    "Youtube['Comment Time'] = comment_time[:500]\n",
    "Youtube['Comment Upvotes'] = No_of_Likes[:500]\n",
    "Youtube"
   ]
  },
  {
   "cell_type": "code",
   "execution_count": null,
   "id": "a274513a",
   "metadata": {},
   "outputs": [],
   "source": [
    "Youtube.to_csv(\"Youtube Comment.csv\")"
   ]
  },
  {
   "cell_type": "code",
   "execution_count": null,
   "id": "ee0f5f9c",
   "metadata": {},
   "outputs": [],
   "source": [
    "driver.close()"
   ]
  },
  {
   "cell_type": "markdown",
   "id": "e7bd0550",
   "metadata": {},
   "source": [
    "9.Write a python program to scrape a data for all available Hostels from https://www.hostelworld.com/ in “London” location. You have to scrape hostel name, distance from city centre, ratings, total reviews, overall reviews, privates from price, dorms from price, facilities and property description."
   ]
  },
  {
   "cell_type": "code",
   "execution_count": null,
   "id": "e11bb880",
   "metadata": {},
   "outputs": [],
   "source": [
    "driver=webdriver.Chrome(r\"C:/Users/HP/Downloads/chromedriver_win32 (1)/chromedriver.exe\")"
   ]
  },
  {
   "cell_type": "code",
   "execution_count": null,
   "id": "0bdbd3c8",
   "metadata": {},
   "outputs": [],
   "source": [
    "driver.get(\"https://www.hostelworld.com/\")\n",
    "time.sleep(3)"
   ]
  },
  {
   "cell_type": "code",
   "execution_count": null,
   "id": "35c993f2",
   "metadata": {},
   "outputs": [],
   "source": [
    "location_bar = driver.find_element(By.CLASS_NAME,\"search-input-field\")\n",
    "location_bar.send_keys(\"London\")"
   ]
  },
  {
   "cell_type": "code",
   "execution_count": null,
   "id": "f92dcde9",
   "metadata": {},
   "outputs": [],
   "source": [
    "London = driver.find_element(BY.xpath,\"//ul[@id='predicted-search-results']//li[2]\")\n",
    "London.click()"
   ]
  },
  {
   "cell_type": "code",
   "execution_count": null,
   "id": "9f2388df",
   "metadata": {},
   "outputs": [],
   "source": [
    "search_btn = driver.find_element(By.CLASS_NAME,'search-button')\n",
    "search_btn.click()"
   ]
  },
  {
   "cell_type": "code",
   "execution_count": null,
   "id": "edc3e76f",
   "metadata": {},
   "outputs": [],
   "source": [
    "hostel_name = []\n",
    "distance = []\n",
    "privates_prices = []\n",
    "dorms_price = []\n",
    "rating = []\n",
    "reviews = []\n",
    "over_all = []\n",
    "facilities = []\n",
    "description = []\n",
    "url = []"
   ]
  },
  {
   "cell_type": "code",
   "execution_count": null,
   "id": "f4ded80b",
   "metadata": {},
   "outputs": [],
   "source": [
    "for i in driver.find_elements(By.xpath,\"//div[@class='pagination-item pagination-current' or @class='pagination-item']\"):\n",
    "    i.click()\n",
    "    time.sleep(3)\n",
    "    \n",
    "    \n",
    "    # fetching  hostel name\n",
    "    try:\n",
    "        name = driver.find_elements(By.xpath,\"//h2[@class='title title-6']\")\n",
    "        for i in name:\n",
    "            hostel_name.append(i.text)\n",
    "    except NoSuchElementException:\n",
    "        hostel_name.append('-')"
   ]
  },
  {
   "cell_type": "code",
   "execution_count": null,
   "id": "e44e7883",
   "metadata": {},
   "outputs": [],
   "source": [
    "#  distance\n",
    "    try:\n",
    "        dist = driver.find_elements(By.xpath,\"//div[@class='subtitle body-3']//a//span[1]\")\n",
    "        for i in name:\n",
    "            distance.append(i.text.replace('Hostel - ',''))\n",
    "    except NoSuchElementException:\n",
    "        distance.append('-')"
   ]
  },
  {
   "cell_type": "code",
   "execution_count": null,
   "id": "197df6e3",
   "metadata": {},
   "outputs": [],
   "source": [
    " for i in driver.find_elements(By.xpath,\"//div[@class='prices-col']\"):   \n",
    "    # privates from price\n",
    "        try:\n",
    "            pvt_price = driver.find_element(By.xpath,\"//a[@class='prices']//div[1]//div\")\n",
    "            pvt_prices.append(pvt_price.text)\n",
    "        except NoSuchElementException:\n",
    "            pvt_prices.append('-')"
   ]
  },
  {
   "cell_type": "code",
   "execution_count": null,
   "id": "011978f3",
   "metadata": {},
   "outputs": [],
   "source": [
    " for i in driver.find_elements(By.xpath,\"//div[@class='prices-col']\"):          \n",
    "    # scraping dorms from price\n",
    "        try:\n",
    "            dorms = driver.find_element(By.xpath,\"//a[@class='prices']//div[2]/div\")\n",
    "            dorms_price.append(dorms.text)\n",
    "        except NoSuchElementException:\n",
    "            dorms_price.append('-')"
   ]
  },
  {
   "cell_type": "code",
   "execution_count": null,
   "id": "304b7de7",
   "metadata": {},
   "outputs": [],
   "source": [
    " # scraping facilities\n",
    "    try:\n",
    "        fac1 = driver.find_element(By.xpath,\"//div[@class='has-wifi']\")\n",
    "        fac2 = driver.find_elements(By.xpath,\"//div[@class='has-sanitation']\")\n",
    "        for i in fac1:\n",
    "            for j in fac2:\n",
    "                facilities.append(i.text +', '+ j.text)\n",
    "    except NoSuchElementException:\n",
    "        facilities.append('-')"
   ]
  },
  {
   "cell_type": "code",
   "execution_count": null,
   "id": "6cc4d2e1",
   "metadata": {},
   "outputs": [],
   "source": [
    "fetching url of each hostel\n",
    "    p_url = driver.find_elements(By.xapath,\"//div[@class='prices-col']//a[2]\")\n",
    "    for i in p_url:\n",
    "        url.append(i.get_attribute(\"href\"))"
   ]
  },
  {
   "cell_type": "code",
   "execution_count": null,
   "id": "eac97b19",
   "metadata": {},
   "outputs": [],
   "source": [
    "for i in url:\n",
    "    driver.get(i)\n",
    "    time.sleep(3)\n",
    "    \n",
    "\n",
    "    #ratings\n",
    "    try:\n",
    "        rat = driver.find_element(By.xpath,\"//div[@class='score orange big' or @class='score gray big']\")\n",
    "        rating.append(rat.text)\n",
    "    except NoSuchElementException:\n",
    "        rating.append('-')"
   ]
  },
  {
   "cell_type": "code",
   "execution_count": null,
   "id": "0fce16ca",
   "metadata": {},
   "outputs": [],
   "source": [
    "# total review\n",
    "    try:\n",
    "        rws = driver.find_element(By.xpath,\"//div[@class='reviews']\")\n",
    "        reviews.append(rws.text.replace('Total Reviews',''))\n",
    "    except NoSuchElementException:\n",
    "        reviews.append('-')"
   ]
  },
  {
   "cell_type": "code",
   "execution_count": null,
   "id": "c9697942",
   "metadata": {},
   "outputs": [],
   "source": [
    " # over all review\n",
    "    try:\n",
    "        overall = driver.find_element(By.xpath,\"//div[@class='keyword']//span\")\n",
    "        over_all.append(overall.text)\n",
    "    except NoSuchElementException:\n",
    "        over_all.append('-')"
   ]
  },
  {
   "cell_type": "code",
   "execution_count": null,
   "id": "86b9a957",
   "metadata": {},
   "outputs": [],
   "source": [
    "# fetching property description\n",
    "    try:\n",
    "        disc = driver.find_element(By.xpath,\"//div[@class='content']\")\n",
    "        description.append(disc.text)\n",
    "    except NoSuchElementException:\n",
    "        over_all.append('-')"
   ]
  },
  {
   "cell_type": "code",
   "execution_count": null,
   "id": "17cc8af1",
   "metadata": {},
   "outputs": [],
   "source": [
    "# do click on show more button for description\n",
    "    try:\n",
    "        driver.find_element(BY.xpath,\"//a[@class='toggle-content']\").click()\n",
    "        time.sleep(4)\n",
    "    except NoSuchElementException:\n",
    "        pass\n",
    "    "
   ]
  },
  {
   "cell_type": "code",
   "execution_count": null,
   "id": "b0a921ea",
   "metadata": {},
   "outputs": [],
   "source": [
    "print(len(hostel_name),\n",
    "len(distance),\n",
    "len(pvt_prices),\n",
    "len(dorms_price),\n",
    "len(rating),\n",
    "len(reviews),\n",
    "len(over_all),\n",
    "len(facilities),\n",
    "len(description),\n",
    "len(url))"
   ]
  },
  {
   "cell_type": "code",
   "execution_count": null,
   "id": "e78ad743",
   "metadata": {},
   "outputs": [],
   "source": [
    "Hostel = pd.DataFrame({})\n",
    "Hostel['Hostel Name'] = hostel_name\n",
    "Hostel['Distance from City Centre'] = distance\n",
    "Hostel['Ratings'] = rating\n",
    "Hostel['Total Reviews'] = reviews\n",
    "Hostel['Overall Reviews'] = over_all\n",
    "Hostel['Privates from Price'] = pvt_prices\n",
    "Hostel['Dorms from Price'] = dorms_price\n",
    "Hostel['Facilities'] = facilities[:74]\n",
    "Hostel['Description'] = description\n",
    "Hostel"
   ]
  },
  {
   "cell_type": "code",
   "execution_count": null,
   "id": "40b676cc",
   "metadata": {},
   "outputs": [],
   "source": [
    "Hostel.to_csv(\"London_Hostels.csv\")"
   ]
  },
  {
   "cell_type": "code",
   "execution_count": null,
   "id": "9a8ad1c5",
   "metadata": {},
   "outputs": [],
   "source": [
    "driver.close()"
   ]
  }
 ],
 "metadata": {
  "kernelspec": {
   "display_name": "Python 3 (ipykernel)",
   "language": "python",
   "name": "python3"
  },
  "language_info": {
   "codemirror_mode": {
    "name": "ipython",
    "version": 3
   },
   "file_extension": ".py",
   "mimetype": "text/x-python",
   "name": "python",
   "nbconvert_exporter": "python",
   "pygments_lexer": "ipython3",
   "version": "3.11.3"
  }
 },
 "nbformat": 4,
 "nbformat_minor": 5
}
